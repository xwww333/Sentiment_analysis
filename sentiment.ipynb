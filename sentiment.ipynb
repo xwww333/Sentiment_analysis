{
 "cells": [
  {
   "cell_type": "markdown",
   "metadata": {
    "id": "yuHWywOxgvBi"
   },
   "source": [
    "# 1.Load the Data"
   ]
  },
  {
   "cell_type": "code",
   "execution_count": 2,
   "metadata": {
    "colab": {
     "base_uri": "https://localhost:8080/"
    },
    "id": "lekaEbyJMrde",
    "outputId": "8b804419-a93a-4312-bb1a-fae58d13d2a5"
   },
   "outputs": [
    {
     "name": "stderr",
     "output_type": "stream",
     "text": [
      "[nltk_data] Downloading package stopwords to /root/nltk_data...\n",
      "[nltk_data]   Package stopwords is already up-to-date!\n",
      "[nltk_data] Downloading package wordnet to /root/nltk_data...\n",
      "[nltk_data]   Package wordnet is already up-to-date!\n"
     ]
    },
    {
     "data": {
      "text/plain": [
       "True"
      ]
     },
     "execution_count": 2,
     "metadata": {},
     "output_type": "execute_result"
    }
   ],
   "source": [
    "#impoart libraries\n",
    "import numpy as np\n",
    "import pandas as pd\n",
    "import matplotlib.pyplot as plt\n",
    "import seaborn as sns\n",
    "import time\n",
    "%matplotlib inline\n",
    "\n",
    "import re\n",
    "import string\n",
    "import random\n",
    "from imblearn.over_sampling import SMOTE, RandomOverSampler\n",
    "from scipy.sparse import hstack  # To combine sparse matrices\n",
    "from wordcloud import WordCloud\n",
    "\n",
    "import nltk\n",
    "from nltk.corpus import stopwords\n",
    "from nltk.tokenize import word_tokenize\n",
    "from nltk.stem import PorterStemmer, SnowballStemmer\n",
    "\n",
    "from sklearn.feature_extraction.text import CountVectorizer, TfidfVectorizer\n",
    "from sklearn.model_selection import train_test_split, GridSearchCV\n",
    "from sklearn.preprocessing import LabelEncoder\n",
    "from sklearn.linear_model import LogisticRegression\n",
    "from sklearn.svm import SVC\n",
    "from sklearn.tree import DecisionTreeClassifier\n",
    "from lightgbm import LGBMClassifier\n",
    "from sklearn.metrics import  f1_score, accuracy_score, classification_report, confusion_matrix, roc_curve, auc\n",
    "from nltk.corpus import stopwords\n",
    "from nltk.tokenize import word_tokenize\n",
    "from nltk.stem import WordNetLemmatizer\n",
    "from sklearn.ensemble import RandomForestClassifier\n",
    "from sklearn.utils import shuffle\n",
    "from itertools import product\n",
    "\n",
    "import warnings\n",
    "warnings.filterwarnings(\"ignore\")\n",
    "\n",
    "nltk.download('stopwords')\n",
    "nltk.download('wordnet')"
   ]
  },
  {
   "cell_type": "code",
   "execution_count": 4,
   "metadata": {
    "id": "iJm7sg5OMvea"
   },
   "outputs": [],
   "source": [
    "#load the data\n",
    "df = pd.read_csv('Combined Data.csv', index_col=0)"
   ]
  },
  {
   "cell_type": "code",
   "execution_count": 5,
   "metadata": {
    "id": "djHGHl3AUArE"
   },
   "outputs": [],
   "source": [
    "#Drop NULLs\n",
    "df.dropna(inplace = True)"
   ]
  },
  {
   "cell_type": "code",
   "execution_count": 6,
   "metadata": {
    "colab": {
     "base_uri": "https://localhost:8080/"
    },
    "id": "EBvTE1MgdsCC",
    "outputId": "09a8932e-10e6-41fc-b46d-1a5e87fd48fd"
   },
   "outputs": [
    {
     "data": {
      "text/plain": [
       "(52681, 2)"
      ]
     },
     "execution_count": 6,
     "metadata": {},
     "output_type": "execute_result"
    }
   ],
   "source": [
    "df.shape"
   ]
  },
  {
   "cell_type": "code",
   "execution_count": 7,
   "metadata": {
    "colab": {
     "base_uri": "https://localhost:8080/",
     "height": 112
    },
    "id": "k_ENXCnKlfTL",
    "outputId": "a256047d-be1c-4149-a331-c7c3456a1e5a"
   },
   "outputs": [
    {
     "data": {
      "application/vnd.google.colaboratory.intrinsic+json": {
       "summary": "{\n  \"name\": \"df\",\n  \"rows\": 2,\n  \"fields\": [\n    {\n      \"column\": \"count\",\n      \"properties\": {\n        \"dtype\": \"date\",\n        \"min\": \"52681\",\n        \"max\": \"52681\",\n        \"num_unique_values\": 1,\n        \"samples\": [\n          \"52681\"\n        ],\n        \"semantic_type\": \"\",\n        \"description\": \"\"\n      }\n    },\n    {\n      \"column\": \"unique\",\n      \"properties\": {\n        \"dtype\": \"date\",\n        \"min\": 7,\n        \"max\": 51073,\n        \"num_unique_values\": 2,\n        \"samples\": [\n          7\n        ],\n        \"semantic_type\": \"\",\n        \"description\": \"\"\n      }\n    },\n    {\n      \"column\": \"top\",\n      \"properties\": {\n        \"dtype\": \"string\",\n        \"num_unique_values\": 2,\n        \"samples\": [\n          \"Normal\"\n        ],\n        \"semantic_type\": \"\",\n        \"description\": \"\"\n      }\n    },\n    {\n      \"column\": \"freq\",\n      \"properties\": {\n        \"dtype\": \"date\",\n        \"min\": \"22\",\n        \"max\": \"16343\",\n        \"num_unique_values\": 2,\n        \"samples\": [\n          \"16343\"\n        ],\n        \"semantic_type\": \"\",\n        \"description\": \"\"\n      }\n    }\n  ]\n}",
       "type": "dataframe"
      },
      "text/html": [
       "\n",
       "  <div id=\"df-f3db4aad-4d09-4d63-8ff8-906ffab2cd48\" class=\"colab-df-container\">\n",
       "    <div>\n",
       "<style scoped>\n",
       "    .dataframe tbody tr th:only-of-type {\n",
       "        vertical-align: middle;\n",
       "    }\n",
       "\n",
       "    .dataframe tbody tr th {\n",
       "        vertical-align: top;\n",
       "    }\n",
       "\n",
       "    .dataframe thead th {\n",
       "        text-align: right;\n",
       "    }\n",
       "</style>\n",
       "<table border=\"1\" class=\"dataframe\">\n",
       "  <thead>\n",
       "    <tr style=\"text-align: right;\">\n",
       "      <th></th>\n",
       "      <th>count</th>\n",
       "      <th>unique</th>\n",
       "      <th>top</th>\n",
       "      <th>freq</th>\n",
       "    </tr>\n",
       "  </thead>\n",
       "  <tbody>\n",
       "    <tr>\n",
       "      <th>statement</th>\n",
       "      <td>52681</td>\n",
       "      <td>51073</td>\n",
       "      <td>what do you mean?</td>\n",
       "      <td>22</td>\n",
       "    </tr>\n",
       "    <tr>\n",
       "      <th>status</th>\n",
       "      <td>52681</td>\n",
       "      <td>7</td>\n",
       "      <td>Normal</td>\n",
       "      <td>16343</td>\n",
       "    </tr>\n",
       "  </tbody>\n",
       "</table>\n",
       "</div>\n",
       "    <div class=\"colab-df-buttons\">\n",
       "\n",
       "  <div class=\"colab-df-container\">\n",
       "    <button class=\"colab-df-convert\" onclick=\"convertToInteractive('df-f3db4aad-4d09-4d63-8ff8-906ffab2cd48')\"\n",
       "            title=\"Convert this dataframe to an interactive table.\"\n",
       "            style=\"display:none;\">\n",
       "\n",
       "  <svg xmlns=\"http://www.w3.org/2000/svg\" height=\"24px\" viewBox=\"0 -960 960 960\">\n",
       "    <path d=\"M120-120v-720h720v720H120Zm60-500h600v-160H180v160Zm220 220h160v-160H400v160Zm0 220h160v-160H400v160ZM180-400h160v-160H180v160Zm440 0h160v-160H620v160ZM180-180h160v-160H180v160Zm440 0h160v-160H620v160Z\"/>\n",
       "  </svg>\n",
       "    </button>\n",
       "\n",
       "  <style>\n",
       "    .colab-df-container {\n",
       "      display:flex;\n",
       "      gap: 12px;\n",
       "    }\n",
       "\n",
       "    .colab-df-convert {\n",
       "      background-color: #E8F0FE;\n",
       "      border: none;\n",
       "      border-radius: 50%;\n",
       "      cursor: pointer;\n",
       "      display: none;\n",
       "      fill: #1967D2;\n",
       "      height: 32px;\n",
       "      padding: 0 0 0 0;\n",
       "      width: 32px;\n",
       "    }\n",
       "\n",
       "    .colab-df-convert:hover {\n",
       "      background-color: #E2EBFA;\n",
       "      box-shadow: 0px 1px 2px rgba(60, 64, 67, 0.3), 0px 1px 3px 1px rgba(60, 64, 67, 0.15);\n",
       "      fill: #174EA6;\n",
       "    }\n",
       "\n",
       "    .colab-df-buttons div {\n",
       "      margin-bottom: 4px;\n",
       "    }\n",
       "\n",
       "    [theme=dark] .colab-df-convert {\n",
       "      background-color: #3B4455;\n",
       "      fill: #D2E3FC;\n",
       "    }\n",
       "\n",
       "    [theme=dark] .colab-df-convert:hover {\n",
       "      background-color: #434B5C;\n",
       "      box-shadow: 0px 1px 3px 1px rgba(0, 0, 0, 0.15);\n",
       "      filter: drop-shadow(0px 1px 2px rgba(0, 0, 0, 0.3));\n",
       "      fill: #FFFFFF;\n",
       "    }\n",
       "  </style>\n",
       "\n",
       "    <script>\n",
       "      const buttonEl =\n",
       "        document.querySelector('#df-f3db4aad-4d09-4d63-8ff8-906ffab2cd48 button.colab-df-convert');\n",
       "      buttonEl.style.display =\n",
       "        google.colab.kernel.accessAllowed ? 'block' : 'none';\n",
       "\n",
       "      async function convertToInteractive(key) {\n",
       "        const element = document.querySelector('#df-f3db4aad-4d09-4d63-8ff8-906ffab2cd48');\n",
       "        const dataTable =\n",
       "          await google.colab.kernel.invokeFunction('convertToInteractive',\n",
       "                                                    [key], {});\n",
       "        if (!dataTable) return;\n",
       "\n",
       "        const docLinkHtml = 'Like what you see? Visit the ' +\n",
       "          '<a target=\"_blank\" href=https://colab.research.google.com/notebooks/data_table.ipynb>data table notebook</a>'\n",
       "          + ' to learn more about interactive tables.';\n",
       "        element.innerHTML = '';\n",
       "        dataTable['output_type'] = 'display_data';\n",
       "        await google.colab.output.renderOutput(dataTable, element);\n",
       "        const docLink = document.createElement('div');\n",
       "        docLink.innerHTML = docLinkHtml;\n",
       "        element.appendChild(docLink);\n",
       "      }\n",
       "    </script>\n",
       "  </div>\n",
       "\n",
       "\n",
       "<div id=\"df-95d696c0-fee6-4814-920f-fb69c1e1c19a\">\n",
       "  <button class=\"colab-df-quickchart\" onclick=\"quickchart('df-95d696c0-fee6-4814-920f-fb69c1e1c19a')\"\n",
       "            title=\"Suggest charts\"\n",
       "            style=\"display:none;\">\n",
       "\n",
       "<svg xmlns=\"http://www.w3.org/2000/svg\" height=\"24px\"viewBox=\"0 0 24 24\"\n",
       "     width=\"24px\">\n",
       "    <g>\n",
       "        <path d=\"M19 3H5c-1.1 0-2 .9-2 2v14c0 1.1.9 2 2 2h14c1.1 0 2-.9 2-2V5c0-1.1-.9-2-2-2zM9 17H7v-7h2v7zm4 0h-2V7h2v10zm4 0h-2v-4h2v4z\"/>\n",
       "    </g>\n",
       "</svg>\n",
       "  </button>\n",
       "\n",
       "<style>\n",
       "  .colab-df-quickchart {\n",
       "      --bg-color: #E8F0FE;\n",
       "      --fill-color: #1967D2;\n",
       "      --hover-bg-color: #E2EBFA;\n",
       "      --hover-fill-color: #174EA6;\n",
       "      --disabled-fill-color: #AAA;\n",
       "      --disabled-bg-color: #DDD;\n",
       "  }\n",
       "\n",
       "  [theme=dark] .colab-df-quickchart {\n",
       "      --bg-color: #3B4455;\n",
       "      --fill-color: #D2E3FC;\n",
       "      --hover-bg-color: #434B5C;\n",
       "      --hover-fill-color: #FFFFFF;\n",
       "      --disabled-bg-color: #3B4455;\n",
       "      --disabled-fill-color: #666;\n",
       "  }\n",
       "\n",
       "  .colab-df-quickchart {\n",
       "    background-color: var(--bg-color);\n",
       "    border: none;\n",
       "    border-radius: 50%;\n",
       "    cursor: pointer;\n",
       "    display: none;\n",
       "    fill: var(--fill-color);\n",
       "    height: 32px;\n",
       "    padding: 0;\n",
       "    width: 32px;\n",
       "  }\n",
       "\n",
       "  .colab-df-quickchart:hover {\n",
       "    background-color: var(--hover-bg-color);\n",
       "    box-shadow: 0 1px 2px rgba(60, 64, 67, 0.3), 0 1px 3px 1px rgba(60, 64, 67, 0.15);\n",
       "    fill: var(--button-hover-fill-color);\n",
       "  }\n",
       "\n",
       "  .colab-df-quickchart-complete:disabled,\n",
       "  .colab-df-quickchart-complete:disabled:hover {\n",
       "    background-color: var(--disabled-bg-color);\n",
       "    fill: var(--disabled-fill-color);\n",
       "    box-shadow: none;\n",
       "  }\n",
       "\n",
       "  .colab-df-spinner {\n",
       "    border: 2px solid var(--fill-color);\n",
       "    border-color: transparent;\n",
       "    border-bottom-color: var(--fill-color);\n",
       "    animation:\n",
       "      spin 1s steps(1) infinite;\n",
       "  }\n",
       "\n",
       "  @keyframes spin {\n",
       "    0% {\n",
       "      border-color: transparent;\n",
       "      border-bottom-color: var(--fill-color);\n",
       "      border-left-color: var(--fill-color);\n",
       "    }\n",
       "    20% {\n",
       "      border-color: transparent;\n",
       "      border-left-color: var(--fill-color);\n",
       "      border-top-color: var(--fill-color);\n",
       "    }\n",
       "    30% {\n",
       "      border-color: transparent;\n",
       "      border-left-color: var(--fill-color);\n",
       "      border-top-color: var(--fill-color);\n",
       "      border-right-color: var(--fill-color);\n",
       "    }\n",
       "    40% {\n",
       "      border-color: transparent;\n",
       "      border-right-color: var(--fill-color);\n",
       "      border-top-color: var(--fill-color);\n",
       "    }\n",
       "    60% {\n",
       "      border-color: transparent;\n",
       "      border-right-color: var(--fill-color);\n",
       "    }\n",
       "    80% {\n",
       "      border-color: transparent;\n",
       "      border-right-color: var(--fill-color);\n",
       "      border-bottom-color: var(--fill-color);\n",
       "    }\n",
       "    90% {\n",
       "      border-color: transparent;\n",
       "      border-bottom-color: var(--fill-color);\n",
       "    }\n",
       "  }\n",
       "</style>\n",
       "\n",
       "  <script>\n",
       "    async function quickchart(key) {\n",
       "      const quickchartButtonEl =\n",
       "        document.querySelector('#' + key + ' button');\n",
       "      quickchartButtonEl.disabled = true;  // To prevent multiple clicks.\n",
       "      quickchartButtonEl.classList.add('colab-df-spinner');\n",
       "      try {\n",
       "        const charts = await google.colab.kernel.invokeFunction(\n",
       "            'suggestCharts', [key], {});\n",
       "      } catch (error) {\n",
       "        console.error('Error during call to suggestCharts:', error);\n",
       "      }\n",
       "      quickchartButtonEl.classList.remove('colab-df-spinner');\n",
       "      quickchartButtonEl.classList.add('colab-df-quickchart-complete');\n",
       "    }\n",
       "    (() => {\n",
       "      let quickchartButtonEl =\n",
       "        document.querySelector('#df-95d696c0-fee6-4814-920f-fb69c1e1c19a button');\n",
       "      quickchartButtonEl.style.display =\n",
       "        google.colab.kernel.accessAllowed ? 'block' : 'none';\n",
       "    })();\n",
       "  </script>\n",
       "</div>\n",
       "\n",
       "    </div>\n",
       "  </div>\n"
      ],
      "text/plain": [
       "           count unique                top   freq\n",
       "statement  52681  51073  what do you mean?     22\n",
       "status     52681      7             Normal  16343"
      ]
     },
     "execution_count": 7,
     "metadata": {},
     "output_type": "execute_result"
    }
   ],
   "source": [
    "df.describe().T"
   ]
  },
  {
   "cell_type": "code",
   "execution_count": 8,
   "metadata": {
    "id": "e0Rijib8TxmF"
   },
   "outputs": [],
   "source": [
    "#As we are going to do binary classifications here, turn all mentl health issues to '1' and normal to 0\n",
    "df['status'] = df['status'].apply(lambda x: 1 if x != \"Normal\" else 0)"
   ]
  },
  {
   "cell_type": "code",
   "execution_count": null,
   "metadata": {
    "colab": {
     "base_uri": "https://localhost:8080/",
     "height": 424
    },
    "id": "dCZFQ1TGXgcQ",
    "outputId": "7603bad3-7428-4237-e16d-1af313221172"
   },
   "outputs": [
    {
     "data": {
      "application/vnd.google.colaboratory.intrinsic+json": {
       "summary": "{\n  \"name\": \"df\",\n  \"rows\": 52681,\n  \"fields\": [\n    {\n      \"column\": \"statement\",\n      \"properties\": {\n        \"dtype\": \"string\",\n        \"num_unique_values\": 51073,\n        \"samples\": [\n          \"Clearly what i need to do is just talk to her about it. I have a couple of examples in mind that will drive the point home. Mainly the first night i was introduced to everyone and a house warming we went to. We're having dinner tomorrow night. Thanks a ton for the feedback everyone.\",\n          \"I have tons of hobbies and I have not been motivated to do any of them. The things I used to love doing now seem like a chore. The only thing I want to do anymore is eat and sleep. How can I get motivated to do stuff?\",\n          \"Lamictal literally saved my life but one side effect is.... Within ten months I tried to end my life twice. After seeking treatment, I finally got lucky and a new doctor diagnosed me correctly as Bipolar Type 2. I've been on Lamictal for about two years now and I can't begin to describe how it saved me.\\n\\nI'm now an advocate for mental health in my day job, fighting to protect what little protection our healthcare system provides (I'm an American, clearly).\\n\\nAnyway, about four months ago I started noticing a very small and slight downgrade in my vision. It doesn't effect my driving ability, but it does mean I have trouble tracking fast movements on my television.\\n\\nAction scenes are generally fine if a bit hard to track, but 2d sidescrollers like Mario are a MESS (let alone Sonic, lol). Its almost like I see objects \\\"trail\\\" behind me. I'm worried that the symptoms will get worse. \\n\\nI take about 250MG daily, so a relatively low dose from what I gather.\\n\\nHow can I treat my loss of vision, if indeed it is the Lamictal? I went to an optometrist and he confirme that my eyesight is largely fine, so its not that.\"\n        ],\n        \"semantic_type\": \"\",\n        \"description\": \"\"\n      }\n    },\n    {\n      \"column\": \"status\",\n      \"properties\": {\n        \"dtype\": \"number\",\n        \"std\": 0,\n        \"min\": 0,\n        \"max\": 1,\n        \"num_unique_values\": 2,\n        \"samples\": [\n          1,\n          0\n        ],\n        \"semantic_type\": \"\",\n        \"description\": \"\"\n      }\n    }\n  ]\n}",
       "type": "dataframe",
       "variable_name": "df"
      },
      "text/html": [
       "\n",
       "  <div id=\"df-f96781d1-2c6a-4e78-a0f1-0465d9f78ac1\" class=\"colab-df-container\">\n",
       "    <div>\n",
       "<style scoped>\n",
       "    .dataframe tbody tr th:only-of-type {\n",
       "        vertical-align: middle;\n",
       "    }\n",
       "\n",
       "    .dataframe tbody tr th {\n",
       "        vertical-align: top;\n",
       "    }\n",
       "\n",
       "    .dataframe thead th {\n",
       "        text-align: right;\n",
       "    }\n",
       "</style>\n",
       "<table border=\"1\" class=\"dataframe\">\n",
       "  <thead>\n",
       "    <tr style=\"text-align: right;\">\n",
       "      <th></th>\n",
       "      <th>statement</th>\n",
       "      <th>status</th>\n",
       "    </tr>\n",
       "  </thead>\n",
       "  <tbody>\n",
       "    <tr>\n",
       "      <th>33186</th>\n",
       "      <td>well, a d is better than an f.</td>\n",
       "      <td>0</td>\n",
       "    </tr>\n",
       "    <tr>\n",
       "      <th>26373</th>\n",
       "      <td>I do not really want to die, I just want the p...</td>\n",
       "      <td>1</td>\n",
       "    </tr>\n",
       "    <tr>\n",
       "      <th>9387</th>\n",
       "      <td>I know how you feel. You feel as the world doe...</td>\n",
       "      <td>1</td>\n",
       "    </tr>\n",
       "    <tr>\n",
       "      <th>9626</th>\n",
       "      <td>Ever since the summer solstice, I have had thi...</td>\n",
       "      <td>1</td>\n",
       "    </tr>\n",
       "    <tr>\n",
       "      <th>48391</th>\n",
       "      <td>mid 40s anxiety at work I dread going to work ...</td>\n",
       "      <td>1</td>\n",
       "    </tr>\n",
       "    <tr>\n",
       "      <th>...</th>\n",
       "      <td>...</td>\n",
       "      <td>...</td>\n",
       "    </tr>\n",
       "    <tr>\n",
       "      <th>23400</th>\n",
       "      <td>I think I have depression and anxiety I do not...</td>\n",
       "      <td>1</td>\n",
       "    </tr>\n",
       "    <tr>\n",
       "      <th>46570</th>\n",
       "      <td>I am spiraling. Yesterday my panic attack last...</td>\n",
       "      <td>1</td>\n",
       "    </tr>\n",
       "    <tr>\n",
       "      <th>8763</th>\n",
       "      <td>Or is it just me?? Like I am crying rn and its...</td>\n",
       "      <td>1</td>\n",
       "    </tr>\n",
       "    <tr>\n",
       "      <th>10799</th>\n",
       "      <td>Sometimes I just want to escape, I do not know...</td>\n",
       "      <td>1</td>\n",
       "    </tr>\n",
       "    <tr>\n",
       "      <th>19342</th>\n",
       "      <td>I have fucked up my reputation where i live be...</td>\n",
       "      <td>1</td>\n",
       "    </tr>\n",
       "  </tbody>\n",
       "</table>\n",
       "<p>52681 rows × 2 columns</p>\n",
       "</div>\n",
       "    <div class=\"colab-df-buttons\">\n",
       "\n",
       "  <div class=\"colab-df-container\">\n",
       "    <button class=\"colab-df-convert\" onclick=\"convertToInteractive('df-f96781d1-2c6a-4e78-a0f1-0465d9f78ac1')\"\n",
       "            title=\"Convert this dataframe to an interactive table.\"\n",
       "            style=\"display:none;\">\n",
       "\n",
       "  <svg xmlns=\"http://www.w3.org/2000/svg\" height=\"24px\" viewBox=\"0 -960 960 960\">\n",
       "    <path d=\"M120-120v-720h720v720H120Zm60-500h600v-160H180v160Zm220 220h160v-160H400v160Zm0 220h160v-160H400v160ZM180-400h160v-160H180v160Zm440 0h160v-160H620v160ZM180-180h160v-160H180v160Zm440 0h160v-160H620v160Z\"/>\n",
       "  </svg>\n",
       "    </button>\n",
       "\n",
       "  <style>\n",
       "    .colab-df-container {\n",
       "      display:flex;\n",
       "      gap: 12px;\n",
       "    }\n",
       "\n",
       "    .colab-df-convert {\n",
       "      background-color: #E8F0FE;\n",
       "      border: none;\n",
       "      border-radius: 50%;\n",
       "      cursor: pointer;\n",
       "      display: none;\n",
       "      fill: #1967D2;\n",
       "      height: 32px;\n",
       "      padding: 0 0 0 0;\n",
       "      width: 32px;\n",
       "    }\n",
       "\n",
       "    .colab-df-convert:hover {\n",
       "      background-color: #E2EBFA;\n",
       "      box-shadow: 0px 1px 2px rgba(60, 64, 67, 0.3), 0px 1px 3px 1px rgba(60, 64, 67, 0.15);\n",
       "      fill: #174EA6;\n",
       "    }\n",
       "\n",
       "    .colab-df-buttons div {\n",
       "      margin-bottom: 4px;\n",
       "    }\n",
       "\n",
       "    [theme=dark] .colab-df-convert {\n",
       "      background-color: #3B4455;\n",
       "      fill: #D2E3FC;\n",
       "    }\n",
       "\n",
       "    [theme=dark] .colab-df-convert:hover {\n",
       "      background-color: #434B5C;\n",
       "      box-shadow: 0px 1px 3px 1px rgba(0, 0, 0, 0.15);\n",
       "      filter: drop-shadow(0px 1px 2px rgba(0, 0, 0, 0.3));\n",
       "      fill: #FFFFFF;\n",
       "    }\n",
       "  </style>\n",
       "\n",
       "    <script>\n",
       "      const buttonEl =\n",
       "        document.querySelector('#df-f96781d1-2c6a-4e78-a0f1-0465d9f78ac1 button.colab-df-convert');\n",
       "      buttonEl.style.display =\n",
       "        google.colab.kernel.accessAllowed ? 'block' : 'none';\n",
       "\n",
       "      async function convertToInteractive(key) {\n",
       "        const element = document.querySelector('#df-f96781d1-2c6a-4e78-a0f1-0465d9f78ac1');\n",
       "        const dataTable =\n",
       "          await google.colab.kernel.invokeFunction('convertToInteractive',\n",
       "                                                    [key], {});\n",
       "        if (!dataTable) return;\n",
       "\n",
       "        const docLinkHtml = 'Like what you see? Visit the ' +\n",
       "          '<a target=\"_blank\" href=https://colab.research.google.com/notebooks/data_table.ipynb>data table notebook</a>'\n",
       "          + ' to learn more about interactive tables.';\n",
       "        element.innerHTML = '';\n",
       "        dataTable['output_type'] = 'display_data';\n",
       "        await google.colab.output.renderOutput(dataTable, element);\n",
       "        const docLink = document.createElement('div');\n",
       "        docLink.innerHTML = docLinkHtml;\n",
       "        element.appendChild(docLink);\n",
       "      }\n",
       "    </script>\n",
       "  </div>\n",
       "\n",
       "\n",
       "<div id=\"df-81b92642-e319-4f42-b10e-808bfbecdeb3\">\n",
       "  <button class=\"colab-df-quickchart\" onclick=\"quickchart('df-81b92642-e319-4f42-b10e-808bfbecdeb3')\"\n",
       "            title=\"Suggest charts\"\n",
       "            style=\"display:none;\">\n",
       "\n",
       "<svg xmlns=\"http://www.w3.org/2000/svg\" height=\"24px\"viewBox=\"0 0 24 24\"\n",
       "     width=\"24px\">\n",
       "    <g>\n",
       "        <path d=\"M19 3H5c-1.1 0-2 .9-2 2v14c0 1.1.9 2 2 2h14c1.1 0 2-.9 2-2V5c0-1.1-.9-2-2-2zM9 17H7v-7h2v7zm4 0h-2V7h2v10zm4 0h-2v-4h2v4z\"/>\n",
       "    </g>\n",
       "</svg>\n",
       "  </button>\n",
       "\n",
       "<style>\n",
       "  .colab-df-quickchart {\n",
       "      --bg-color: #E8F0FE;\n",
       "      --fill-color: #1967D2;\n",
       "      --hover-bg-color: #E2EBFA;\n",
       "      --hover-fill-color: #174EA6;\n",
       "      --disabled-fill-color: #AAA;\n",
       "      --disabled-bg-color: #DDD;\n",
       "  }\n",
       "\n",
       "  [theme=dark] .colab-df-quickchart {\n",
       "      --bg-color: #3B4455;\n",
       "      --fill-color: #D2E3FC;\n",
       "      --hover-bg-color: #434B5C;\n",
       "      --hover-fill-color: #FFFFFF;\n",
       "      --disabled-bg-color: #3B4455;\n",
       "      --disabled-fill-color: #666;\n",
       "  }\n",
       "\n",
       "  .colab-df-quickchart {\n",
       "    background-color: var(--bg-color);\n",
       "    border: none;\n",
       "    border-radius: 50%;\n",
       "    cursor: pointer;\n",
       "    display: none;\n",
       "    fill: var(--fill-color);\n",
       "    height: 32px;\n",
       "    padding: 0;\n",
       "    width: 32px;\n",
       "  }\n",
       "\n",
       "  .colab-df-quickchart:hover {\n",
       "    background-color: var(--hover-bg-color);\n",
       "    box-shadow: 0 1px 2px rgba(60, 64, 67, 0.3), 0 1px 3px 1px rgba(60, 64, 67, 0.15);\n",
       "    fill: var(--button-hover-fill-color);\n",
       "  }\n",
       "\n",
       "  .colab-df-quickchart-complete:disabled,\n",
       "  .colab-df-quickchart-complete:disabled:hover {\n",
       "    background-color: var(--disabled-bg-color);\n",
       "    fill: var(--disabled-fill-color);\n",
       "    box-shadow: none;\n",
       "  }\n",
       "\n",
       "  .colab-df-spinner {\n",
       "    border: 2px solid var(--fill-color);\n",
       "    border-color: transparent;\n",
       "    border-bottom-color: var(--fill-color);\n",
       "    animation:\n",
       "      spin 1s steps(1) infinite;\n",
       "  }\n",
       "\n",
       "  @keyframes spin {\n",
       "    0% {\n",
       "      border-color: transparent;\n",
       "      border-bottom-color: var(--fill-color);\n",
       "      border-left-color: var(--fill-color);\n",
       "    }\n",
       "    20% {\n",
       "      border-color: transparent;\n",
       "      border-left-color: var(--fill-color);\n",
       "      border-top-color: var(--fill-color);\n",
       "    }\n",
       "    30% {\n",
       "      border-color: transparent;\n",
       "      border-left-color: var(--fill-color);\n",
       "      border-top-color: var(--fill-color);\n",
       "      border-right-color: var(--fill-color);\n",
       "    }\n",
       "    40% {\n",
       "      border-color: transparent;\n",
       "      border-right-color: var(--fill-color);\n",
       "      border-top-color: var(--fill-color);\n",
       "    }\n",
       "    60% {\n",
       "      border-color: transparent;\n",
       "      border-right-color: var(--fill-color);\n",
       "    }\n",
       "    80% {\n",
       "      border-color: transparent;\n",
       "      border-right-color: var(--fill-color);\n",
       "      border-bottom-color: var(--fill-color);\n",
       "    }\n",
       "    90% {\n",
       "      border-color: transparent;\n",
       "      border-bottom-color: var(--fill-color);\n",
       "    }\n",
       "  }\n",
       "</style>\n",
       "\n",
       "  <script>\n",
       "    async function quickchart(key) {\n",
       "      const quickchartButtonEl =\n",
       "        document.querySelector('#' + key + ' button');\n",
       "      quickchartButtonEl.disabled = true;  // To prevent multiple clicks.\n",
       "      quickchartButtonEl.classList.add('colab-df-spinner');\n",
       "      try {\n",
       "        const charts = await google.colab.kernel.invokeFunction(\n",
       "            'suggestCharts', [key], {});\n",
       "      } catch (error) {\n",
       "        console.error('Error during call to suggestCharts:', error);\n",
       "      }\n",
       "      quickchartButtonEl.classList.remove('colab-df-spinner');\n",
       "      quickchartButtonEl.classList.add('colab-df-quickchart-complete');\n",
       "    }\n",
       "    (() => {\n",
       "      let quickchartButtonEl =\n",
       "        document.querySelector('#df-81b92642-e319-4f42-b10e-808bfbecdeb3 button');\n",
       "      quickchartButtonEl.style.display =\n",
       "        google.colab.kernel.accessAllowed ? 'block' : 'none';\n",
       "    })();\n",
       "  </script>\n",
       "</div>\n",
       "\n",
       "  <div id=\"id_40adc612-5169-4440-8610-338bd435a67e\">\n",
       "    <style>\n",
       "      .colab-df-generate {\n",
       "        background-color: #E8F0FE;\n",
       "        border: none;\n",
       "        border-radius: 50%;\n",
       "        cursor: pointer;\n",
       "        display: none;\n",
       "        fill: #1967D2;\n",
       "        height: 32px;\n",
       "        padding: 0 0 0 0;\n",
       "        width: 32px;\n",
       "      }\n",
       "\n",
       "      .colab-df-generate:hover {\n",
       "        background-color: #E2EBFA;\n",
       "        box-shadow: 0px 1px 2px rgba(60, 64, 67, 0.3), 0px 1px 3px 1px rgba(60, 64, 67, 0.15);\n",
       "        fill: #174EA6;\n",
       "      }\n",
       "\n",
       "      [theme=dark] .colab-df-generate {\n",
       "        background-color: #3B4455;\n",
       "        fill: #D2E3FC;\n",
       "      }\n",
       "\n",
       "      [theme=dark] .colab-df-generate:hover {\n",
       "        background-color: #434B5C;\n",
       "        box-shadow: 0px 1px 3px 1px rgba(0, 0, 0, 0.15);\n",
       "        filter: drop-shadow(0px 1px 2px rgba(0, 0, 0, 0.3));\n",
       "        fill: #FFFFFF;\n",
       "      }\n",
       "    </style>\n",
       "    <button class=\"colab-df-generate\" onclick=\"generateWithVariable('df')\"\n",
       "            title=\"Generate code using this dataframe.\"\n",
       "            style=\"display:none;\">\n",
       "\n",
       "  <svg xmlns=\"http://www.w3.org/2000/svg\" height=\"24px\"viewBox=\"0 0 24 24\"\n",
       "       width=\"24px\">\n",
       "    <path d=\"M7,19H8.4L18.45,9,17,7.55,7,17.6ZM5,21V16.75L18.45,3.32a2,2,0,0,1,2.83,0l1.4,1.43a1.91,1.91,0,0,1,.58,1.4,1.91,1.91,0,0,1-.58,1.4L9.25,21ZM18.45,9,17,7.55Zm-12,3A5.31,5.31,0,0,0,4.9,8.1,5.31,5.31,0,0,0,1,6.5,5.31,5.31,0,0,0,4.9,4.9,5.31,5.31,0,0,0,6.5,1,5.31,5.31,0,0,0,8.1,4.9,5.31,5.31,0,0,0,12,6.5,5.46,5.46,0,0,0,6.5,12Z\"/>\n",
       "  </svg>\n",
       "    </button>\n",
       "    <script>\n",
       "      (() => {\n",
       "      const buttonEl =\n",
       "        document.querySelector('#id_40adc612-5169-4440-8610-338bd435a67e button.colab-df-generate');\n",
       "      buttonEl.style.display =\n",
       "        google.colab.kernel.accessAllowed ? 'block' : 'none';\n",
       "\n",
       "      buttonEl.onclick = () => {\n",
       "        google.colab.notebook.generateWithVariable('df');\n",
       "      }\n",
       "      })();\n",
       "    </script>\n",
       "  </div>\n",
       "\n",
       "    </div>\n",
       "  </div>\n"
      ],
      "text/plain": [
       "                                               statement  status\n",
       "33186                     well, a d is better than an f.       0\n",
       "26373  I do not really want to die, I just want the p...       1\n",
       "9387   I know how you feel. You feel as the world doe...       1\n",
       "9626   Ever since the summer solstice, I have had thi...       1\n",
       "48391  mid 40s anxiety at work I dread going to work ...       1\n",
       "...                                                  ...     ...\n",
       "23400  I think I have depression and anxiety I do not...       1\n",
       "46570  I am spiraling. Yesterday my panic attack last...       1\n",
       "8763   Or is it just me?? Like I am crying rn and its...       1\n",
       "10799  Sometimes I just want to escape, I do not know...       1\n",
       "19342  I have fucked up my reputation where i live be...       1\n",
       "\n",
       "[52681 rows x 2 columns]"
      ]
     },
     "execution_count": 12,
     "metadata": {},
     "output_type": "execute_result"
    }
   ],
   "source": [
    "# #shuffle the data\n",
    "# random.seed(1234)\n",
    "# df = shuffle(df)\n",
    "# df"
   ]
  },
  {
   "cell_type": "markdown",
   "metadata": {
    "id": "RLvH1uvrlq16"
   },
   "source": [
    "After bacis cleaning dropping the NULLs, the data contains 52681 records with 2 columns, statement \\(text\\) and status \\(status\\) .\n",
    "There are 7 unique status, as we are going to do binary classification here, we turn all mentl health issues to '1' and normal to 0"
   ]
  },
  {
   "cell_type": "markdown",
   "metadata": {
    "id": "lt1EXEwehKDV"
   },
   "source": [
    "# 3.Modeling"
   ]
  },
  {
   "cell_type": "markdown",
   "metadata": {
    "id": "3NXL0CRS1W2Z"
   },
   "source": [
    "## 3.1 Classical ML Models\n"
   ]
  },
  {
   "cell_type": "markdown",
   "metadata": {
    "id": "Uc2JWqJKBRwH"
   },
   "source": [
    "### 3.1.0 Pre-processing for classical ML Models"
   ]
  },
  {
   "cell_type": "code",
   "execution_count": 9,
   "metadata": {
    "id": "mFeJfEiCEvX5"
   },
   "outputs": [],
   "source": [
    "#make a copy of data especially for classical ML Models\n",
    "df1 = df.copy()"
   ]
  },
  {
   "cell_type": "code",
   "execution_count": 10,
   "metadata": {
    "id": "OOW3QEjsxon5"
   },
   "outputs": [],
   "source": [
    "# Step 1: Clean the Text\n",
    "# Purpose: Removes noise (e.g., special characters, extra spaces) that doesn't contribute to understanding the text's meaning.\n",
    "def clean_text(text):\n",
    "    \"\"\"Cleans input text from social media for NLP models.\n",
    "\n",
    "    Args:\n",
    "        text (str): The input text.\n",
    "\n",
    "    Returns:\n",
    "        str: The cleaned text.\n",
    "    \"\"\"\n",
    "    # Convert to lowercase\n",
    "    text = text.lower()\n",
    "\n",
    "    # Remove URLs\n",
    "    text = re.sub(r'http\\S+|www\\.\\S+', '', text)\n",
    "\n",
    "    # Remove mentions and hashtags\n",
    "    text = re.sub(r'@[A-Za-z0-9_]+', '', text)\n",
    "    text = re.sub(r'#\\w+', '', text)\n",
    "\n",
    "    # Remove HTML tags\n",
    "    text = re.sub(r'<.*?>', '', text)\n",
    "\n",
    "    # Remove special characters, punctuation, and numbers\n",
    "    text = re.sub(r'[^a-zA-Z\\s]', '', text)\n",
    "\n",
    "    # Remove extra whitespace\n",
    "    text = re.sub(r'\\s+', ' ', text).strip()\n",
    "\n",
    "    return text\n",
    "\n",
    "df1['statement'] = df1['statement'].apply(clean_text)"
   ]
  },
  {
   "cell_type": "code",
   "execution_count": 11,
   "metadata": {
    "id": "LrC-ovG2Fnel"
   },
   "outputs": [],
   "source": [
    "#Step 2: stopwords removal\n",
    "#Stop words (e.g., \"and\", \"is\", \"the\") do not carry much meaning and can be removed to reduce noise.\n",
    "stop_words = set(stopwords.words('english'))\n",
    "df1['statement'] = df1['statement'].apply(lambda x: ' '.join([word for word in x.split() if word not in stop_words]))"
   ]
  },
  {
   "cell_type": "code",
   "execution_count": 12,
   "metadata": {
    "id": "XaML7wspGU4q"
   },
   "outputs": [],
   "source": [
    "#Step 3：lemmatize\n",
    "# Reduces words to their base or root forms, ensuring that variations of the same word are treated equally (e.g., \"running\", \"runs\", \"ran\" → \"run\").\n",
    "lemmatizer = WordNetLemmatizer()\n",
    "df1['statement'] = df1['statement'].apply(lambda x: ' '.join([lemmatizer.lemmatize(word) for word in x.split()]))\n"
   ]
  },
  {
   "cell_type": "code",
   "execution_count": 13,
   "metadata": {
    "id": "Lkp9ofk2SKnc"
   },
   "outputs": [],
   "source": [
    "#Step 4: Train-Test Split\n",
    "#Random sample with seed, use 20% data for test, 60% data for train,20% data for validation\n",
    "X1 = df1['statement']\n",
    "y1 = df1['status']\n",
    "\n",
    "# Initial train-test split\n",
    "X_train_1, X_test_1, y_train_1, y_test_1 = train_test_split(\n",
    "    X1.tolist(), y1.tolist(), test_size=0.2, random_state=42\n",
    ")\n",
    "\n",
    "# Further split training data into training and validation sets\n",
    "X_train_1, X_val_1, y_train_1, y_val_1 = train_test_split(\n",
    "    X_train_1, y_train_1, test_size=0.25, random_state=42  # for validation: 0.25 * 0.8 = 0.2 of original data\n",
    ")\n"
   ]
  },
  {
   "cell_type": "code",
   "execution_count": null,
   "metadata": {
    "id": "W4lLzjsyAKLg"
   },
   "outputs": [],
   "source": []
  },
  {
   "cell_type": "code",
   "execution_count": 14,
   "metadata": {
    "id": "6mfHuUiqVFyX"
   },
   "outputs": [],
   "source": [
    "# Step 5: TF-IDF Vectorization\n",
    "#Converts raw text into numerical features for input to ML models\n",
    "import joblib\n",
    "tfidf = joblib.load(\"tfidf_vectorizer_1_binary.pkl\")\n",
    "X_train_tfidf_1 = tfidf.transform(X_train_1)  # Fit on training data\n",
    "X_test_tfidf_1 = tfidf.transform(X_test_1)       # Transform test data\n",
    "\n",
    "# Initialize the TF-IDF Vectorizer\n",
    "tfidf = tfidf = joblib.load(\"tfidf_vectorizer_2_binary.pkl\")\n",
    "\n",
    "# Fit TF-IDF on training data\n",
    "#tfidf.fit(X_train_1)\n",
    "\n",
    "# Transform train, validation, and test sets\n",
    "X_train_1= tfidf.transform(X_train_1)\n",
    "X_val_1 = tfidf.transform(X_val_1)\n",
    "X_test_1 = tfidf.transform(X_test_1)\n"
   ]
  },
  {
   "cell_type": "code",
   "execution_count": null,
   "metadata": {
    "colab": {
     "base_uri": "https://localhost:8080/",
     "height": 807
    },
    "id": "B_kZxEcbWBwv",
    "outputId": "0aa0a889-248d-4312-c2f1-4e2d924c8337"
   },
   "outputs": [
    {
     "data": {
      "image/png": "[encoded data removed]",
      "text/plain": [
       "<Figure size 1200x800 with 1 Axes>"
      ]
     },
     "metadata": {},
     "output_type": "display_data"
    }
   ],
   "source": [
    "# As shown by below plot, there are 36338 'abnormal' while just 16343 'normal', which means there are class-imbalance issues\n",
    "# Therefore, we would need to balance the class distribution in the training, we would try to do this by adjust class weights during training\n",
    "plt.figure(figsize=(12,8))\n",
    "status_counts = df1['status'].value_counts()\n",
    "ax = status_counts.plot(kind='bar')\n",
    "for i, v in enumerate(status_counts):\n",
    "    ax.text(i, v, str(v), ha='center', va='bottom')\n",
    "\n",
    "plt.title('Statement distribution by status')\n",
    "plt.xlabel('Status')\n",
    "plt.ylabel('Count')\n",
    "plt.tight_layout()\n",
    "plt.show()"
   ]
  },
  {
   "cell_type": "code",
   "execution_count": null,
   "metadata": {
    "id": "fYN8M6sHWvyQ"
   },
   "outputs": [],
   "source": [
    "#SMOTE technique used to resample the class - Do not do it - SMOTE is not giving reasonable result\n",
    "#smote = SMOTE(random_state=42)\n",
    "#X_train_resampled_1, y_train_resampled_1 = smote.fit_resample(X_train_tfidf_1, y_train_1)"
   ]
  },
  {
   "cell_type": "markdown",
   "metadata": {
    "id": "C7Y2b0vD8mU7"
   },
   "source": [
    "### 3.1.1 SVM"
   ]
  },
  {
   "cell_type": "code",
   "execution_count": null,
   "metadata": {
    "id": "AMH59hIo5ykh"
   },
   "outputs": [],
   "source": [
    "random.seed(1234)\n",
    "\n",
    "# Define parameter grid\n",
    "param_grid = {\n",
    "    'C': [0.1, 1, 10],           # Regularization strength\n",
    "    'kernel': ['linear', 'rbf'],    # Kernel types\n",
    "    'class_weight': ['balanced', None],    # Handle class imbalance\n",
    "    'gamma': ['scale', 'auto'],            # Kernel coefficient\n",
    "}\n",
    "\n",
    "# Initialize variables to track the best model and parameters\n",
    "best_f1 = 0\n",
    "best_model = None\n",
    "best_params = None\n",
    "\n",
    "# Start timer\n",
    "start_time = time.time()\n",
    "\n",
    "# Iterate through all combinations of parameters\n",
    "for C, kernel, class_weight, gamma in product(param_grid['C'], param_grid['kernel'], param_grid['class_weight'], param_grid['gamma']):\n",
    "    try:\n",
    "        # Create the SVM model with current parameters\n",
    "        model = SVC(C=C, kernel=kernel, class_weight=class_weight, gamma=gamma, random_state=42)\n",
    "\n",
    "        # Train the model\n",
    "        model.fit(X_train_1, y_train_1)\n",
    "\n",
    "        # Validate the model on validation set\n",
    "        y_val_pred = model.predict(X_val_1)\n",
    "        f1 = f1_score(y_val_1, y_val_pred, average='weighted')\n",
    "        print(f\"Validation F1-Score for C={C}, kernel={kernel}, class_weight={class_weight}, gamma={gamma}: {f1:.4f}\")\n",
    "\n",
    "        # Update the best model if current one is better\n",
    "        if f1 > best_f1:\n",
    "            best_f1 = f1\n",
    "            best_model = model\n",
    "            best_params = {'C': C, 'kernel': kernel, 'class_weight': class_weight, 'gamma': gamma}\n",
    "    except Exception as e:\n",
    "        print(f\"Skipping combination C={C}, kernel={kernel}, class_weight={class_weight}, gamma={gamma} due to error: {e}\")\n",
    "\n",
    "# End timer\n",
    "end_time = time.time()\n",
    "total_time = end_time - start_time\n",
    "print(f\"Total Parameter Tuning Time: {total_time:.2f} seconds\")\n",
    "\n",
    "# Print the best parameters and F1 score on validation set\n",
    "print(\"\\nBest Hyperparameters:\", best_params)\n",
    "print(\"Best Validation F1-Score:\", best_f1)"
   ]
  },
  {
   "cell_type": "code",
   "execution_count": null,
   "metadata": {
    "id": "Ni9U1DljCktZ"
   },
   "outputs": [],
   "source": [
    "SVM = joblib.load(\"svm_model_binary.pkl\")\n"
   ]
  },
  {
   "cell_type": "code",
   "execution_count": null,
   "metadata": {
    "colab": {
     "base_uri": "https://localhost:8080/"
    },
    "id": "_eQh_eIH8uUg",
    "outputId": "c5a6c702-41c3-4ce1-a521-8dd3a836862b"
   },
   "outputs": [
    {
     "name": "stdout",
     "output_type": "stream",
     "text": [
      "\n",
      "Test Performance:\n",
      "              precision    recall  f1-score   support\n",
      "\n",
      "           0       0.91      0.91      0.91      3308\n",
      "           1       0.96      0.96      0.96      7229\n",
      "\n",
      "    accuracy                           0.94     10537\n",
      "   macro avg       0.93      0.93      0.93     10537\n",
      "weighted avg       0.94      0.94      0.94     10537\n",
      "\n"
     ]
    },
    {
     "data": {
      "text/plain": [
       "0.9416557084656579"
      ]
     },
     "execution_count": 14,
     "metadata": {},
     "output_type": "execute_result"
    }
   ],
   "source": [
    "# Evaluate the Model on test set, with best parameters found\n",
    "y_test_pred = SVM.predict(X_test_1)\n",
    "print(\"\\nTest Performance:\")\n",
    "print(classification_report(y_test_1, y_test_pred))\n",
    "f1_score(y_test_1, y_test_pred, average='weighted')"
   ]
  },
  {
   "cell_type": "code",
   "execution_count": null,
   "metadata": {
    "id": "af4saf4evIua"
   },
   "outputs": [],
   "source": [
    "import numpy as np\n",
    "import matplotlib.pyplot as plt\n",
    "import seaborn as sns\n",
    "from sklearn.metrics import (\n",
    "    classification_report,\n",
    "    confusion_matrix,\n",
    "    f1_score,\n",
    "    roc_curve,\n",
    "    auc\n",
    ")\n",
    "from sklearn.utils import resample\n",
    "\n",
    "\n",
    "def bootstrap_f1_ci(y_true, y_pred, n_iterations=1000, average='weighted'):\n",
    "    y_true = np.array(y_true)\n",
    "    y_pred = np.array(y_pred)\n",
    "    f1_scores = []\n",
    "\n",
    "    for _ in range(n_iterations):\n",
    "        indices = resample(np.arange(len(y_true)))\n",
    "        if len(np.unique(y_true[indices])) < 2:\n",
    "            continue\n",
    "        f1 = f1_score(y_true[indices], y_pred[indices], average=average)\n",
    "        f1_scores.append(f1)\n",
    "\n",
    "    f1_mean = np.mean(f1_scores)\n",
    "    ci_lower = np.percentile(f1_scores, 2.5)\n",
    "    ci_upper = np.percentile(f1_scores, 97.5)\n",
    "    return f1_mean, ci_lower, ci_upper\n",
    "\n",
    "\n",
    "def bootstrap_auc_ci(y_true, y_scores, n_iterations=1000):\n",
    "    y_true = np.array(y_true)\n",
    "    y_scores = np.array(y_scores)\n",
    "    auc_scores = []\n",
    "\n",
    "    for _ in range(n_iterations):\n",
    "        indices = resample(np.arange(len(y_true)))\n",
    "        if len(np.unique(y_true[indices])) < 2:\n",
    "            continue\n",
    "        fpr, tpr, _ = roc_curve(y_true[indices], y_scores[indices])\n",
    "        auc_score = auc(fpr, tpr)\n",
    "        auc_scores.append(auc_score)\n",
    "\n",
    "    ci_lower = np.percentile(auc_scores, 2.5)\n",
    "    ci_upper = np.percentile(auc_scores, 97.5)\n",
    "    return np.mean(auc_scores), ci_lower, ci_upper\n",
    "\n",
    "\n",
    "def plot_confusion_matrix(y_true, y_pred, labels=['No Issue', 'Issue']):\n",
    "    conf_matrix = confusion_matrix(y_true, y_pred)\n",
    "    plt.figure(figsize=(6, 6))\n",
    "    sns.heatmap(conf_matrix, annot=True, fmt='d', cmap='Blues',\n",
    "                xticklabels=labels, yticklabels=labels)\n",
    "    plt.xlabel('Predicted')\n",
    "    plt.ylabel('Actual')\n",
    "    plt.title('Confusion Matrix')\n",
    "    plt.show()\n",
    "\n",
    "\n",
    "def plot_roc_curve(y_true, y_scores, label_prefix=\"Model\"):\n",
    "    fpr, tpr, _ = roc_curve(y_true, y_scores)\n",
    "    roc_auc = auc(fpr, tpr)\n",
    "\n",
    "    plt.figure(figsize=(8, 6))\n",
    "    plt.plot(fpr, tpr, label=f'{label_prefix} AUC = {roc_auc:.2f}')\n",
    "    plt.plot([0, 1], [0, 1], linestyle='--', color='gray')\n",
    "    plt.xlabel('False Positive Rate')\n",
    "    plt.ylabel('True Positive Rate')\n",
    "    plt.title(f'ROC Curve - {label_prefix}')\n",
    "    plt.legend(loc='lower right')\n",
    "    plt.show()\n",
    "    return roc_auc\n",
    "\n",
    "\n",
    "def evaluate_model(model, X_test, y_test, model_name=\"Model\", use_proba=False):\n",
    "    print(f\"\\n--- Evaluation Report: {model_name} ---\\n\")\n",
    "\n",
    "    y_pred = model.predict(X_test)\n",
    "    print(\"Classification Report:\")\n",
    "    print(classification_report(y_test, y_pred))\n",
    "\n",
    "    f1_mean, f1_ci_low, f1_ci_high = bootstrap_f1_ci(y_test, y_pred)\n",
    "    print(f\"Weighted F1 Score: {f1_mean:.4f}\")\n",
    "    print(f\"95% CI for F1 Score: [{f1_ci_low:.4f}, {f1_ci_high:.4f}]\")\n",
    "\n",
    "    plot_confusion_matrix(y_test, y_pred)\n",
    "\n",
    "    # ROC + AUC\n",
    "    if use_proba:\n",
    "        y_scores = model.predict_proba(X_test)[:, 1]\n",
    "    else:\n",
    "        y_scores = model.decision_function(X_test)\n",
    "\n",
    "    auc_score, auc_ci_low, auc_ci_high = bootstrap_auc_ci(y_test, y_scores)\n",
    "    print(f\"AUC Score: {auc_score:.4f}\")\n",
    "    print(f\"95% CI for AUC: [{auc_ci_low:.4f}, {auc_ci_high:.4f}]\")\n",
    "\n",
    "    plot_roc_curve(y_test, y_scores, label_prefix=model_name)\n",
    "\n",
    "\n",
    "# --- Usage Example ---\n",
    "# For SVM with decision_function:\n",
    "#evaluate_model(SVM, X_test_1, y_test_1, model_name=\"SVM\", use_proba=False)\n",
    "\n",
    "# For models like RandomForest or LogisticRegression with predict_proba:\n",
    "# evaluate_model(rf_model, X_test, y_test, model_name=\"Random Forest\", use_proba=True)\n"
   ]
  },
  {
   "cell_type": "code",
   "execution_count": null,
   "metadata": {
    "colab": {
     "base_uri": "https://localhost:8080/",
     "height": 1000
    },
    "id": "eNd7biGCGAb6",
    "outputId": "fa67f8c1-fecd-4715-8d7a-b082655fe4fd"
   },
   "outputs": [
    {
     "name": "stdout",
     "output_type": "stream",
     "text": [
      "\n",
      "--- Evaluation Report: SVM ---\n",
      "\n",
      "Classification Report:\n",
      "              precision    recall  f1-score   support\n",
      "\n",
      "           0       0.91      0.91      0.91      3308\n",
      "           1       0.96      0.96      0.96      7229\n",
      "\n",
      "    accuracy                           0.94     10537\n",
      "   macro avg       0.93      0.93      0.93     10537\n",
      "weighted avg       0.94      0.94      0.94     10537\n",
      "\n",
      "Weighted F1 Score: 0.9417\n",
      "95% CI for F1 Score: [0.9371, 0.9461]\n"
     ]
    },
    {
     "data": {
      "image/png": "[encoded data removed]",
      "text/plain": [
       "<Figure size 600x600 with 2 Axes>"
      ]
     },
     "metadata": {},
     "output_type": "display_data"
    },
    {
     "name": "stdout",
     "output_type": "stream",
     "text": [
      "AUC Score: 0.9816\n",
      "95% CI for AUC: [0.9794, 0.9838]\n"
     ]
    },
    {
     "data": {
      "image/png": "[encoded data removed]",
      "text/plain": [
       "<Figure size 800x600 with 1 Axes>"
      ]
     },
     "metadata": {},
     "output_type": "display_data"
    }
   ],
   "source": [
    "evaluate_model(SVM, X_test_1, y_test_1, model_name=\"SVM\", use_proba=False)"
   ]
  },
  {
   "cell_type": "markdown",
   "metadata": {
    "id": "PewSwsEtYJmn"
   },
   "source": [
    "### 3.1.2 Logistic Regression"
   ]
  },
  {
   "cell_type": "code",
   "execution_count": null,
   "metadata": {
    "id": "Fu7RlijD5267"
   },
   "outputs": [],
   "source": [
    "# Define parameter grid\n",
    "\n",
    "random.seed(1234)\n",
    "\n",
    "param_grid = {\n",
    "    'C': [0.01, 0.1, 1, 10, 100],       # Regularization strength\n",
    "    'solver': ['liblinear', 'lbfgs'],   # Optimization algorithms\n",
    "    'penalty': ['l2'],                  # Regularization type\n",
    "    'class_weight': ['balanced',None]  # Handle class imbalance - balanced is a choice to adjust class weights according to class frequency\n",
    "}\n",
    "\n",
    "# Grid search\n",
    "best_f1 = 0\n",
    "best_model = None\n",
    "best_params = None\n",
    "\n",
    "# Start timer\n",
    "start_time = time.time()\n",
    "\n",
    "# Iterate through all combinations of parameters, find the best params that works the best on validation set - primary metric: F1\n",
    "for C, solver, penalty, class_weight in product(param_grid['C'], param_grid['solver'], param_grid['penalty'], param_grid['class_weight']):\n",
    "    try:\n",
    "        # Create the model with current parameters\n",
    "        model = LogisticRegression(C=C, solver=solver, penalty=penalty, class_weight=class_weight, random_state=42, max_iter=1000)\n",
    "\n",
    "        # Train the model\n",
    "        model.fit(X_train_1, y_train_1)\n",
    "\n",
    "        # Validate the model on validation set\n",
    "        y_val_pred = model.predict(X_val_1)\n",
    "        f1 = f1_score(y_val_1, y_val_pred,average='weighted')\n",
    "        print(f\"Validation F1-Score for C={C}, solver={solver}, penalty={penalty}, class_weight={class_weight}: {f1:.4f}\")\n",
    "\n",
    "        # Update the best model if current one is better\n",
    "        if f1 > best_f1:\n",
    "            best_f1 = f1\n",
    "            best_model = model\n",
    "            best_params = {'C': C, 'solver': solver, 'penalty': penalty, 'class_weight': class_weight}\n",
    "    except Exception as e:\n",
    "        print(f\"Skipping combination C={C}, solver={solver}, penalty={penalty}, class_weight={class_weight} due to error: {e}\")\n",
    "\n",
    "# End timer\n",
    "end_time = time.time()\n",
    "total_time = end_time - start_time\n",
    "print(f\"Total Parameter Tuning Time: {total_time:.2f} seconds\")\n",
    "\n",
    "# Print the best parameters and F1 score on validation set\n",
    "print(\"\\nBest Hyperparameters:\", best_params)\n",
    "print(\"Best Validation F1-Score:\", best_f1)"
   ]
  },
  {
   "cell_type": "code",
   "execution_count": 15,
   "metadata": {
    "colab": {
     "base_uri": "https://localhost:8080/",
     "height": 81
    },
    "id": "c67ufXuhwrHF",
    "outputId": "19580742-653c-4838-8f8d-587012952b21"
   },
   "outputs": [
    {
     "data": {
      "text/html": [
       "<style>#sk-container-id-1 {\n",
       "  /* Definition of color scheme common for light and dark mode */\n",
       "  --sklearn-color-text: #000;\n",
       "  --sklearn-color-text-muted: #666;\n",
       "  --sklearn-color-line: gray;\n",
       "  /* Definition of color scheme for unfitted estimators */\n",
       "  --sklearn-color-unfitted-level-0: #fff5e6;\n",
       "  --sklearn-color-unfitted-level-1: #f6e4d2;\n",
       "  --sklearn-color-unfitted-level-2: #ffe0b3;\n",
       "  --sklearn-color-unfitted-level-3: chocolate;\n",
       "  /* Definition of color scheme for fitted estimators */\n",
       "  --sklearn-color-fitted-level-0: #f0f8ff;\n",
       "  --sklearn-color-fitted-level-1: #d4ebff;\n",
       "  --sklearn-color-fitted-level-2: #b3dbfd;\n",
       "  --sklearn-color-fitted-level-3: cornflowerblue;\n",
       "\n",
       "  /* Specific color for light theme */\n",
       "  --sklearn-color-text-on-default-background: var(--sg-text-color, var(--theme-code-foreground, var(--jp-content-font-color1, black)));\n",
       "  --sklearn-color-background: var(--sg-background-color, var(--theme-background, var(--jp-layout-color0, white)));\n",
       "  --sklearn-color-border-box: var(--sg-text-color, var(--theme-code-foreground, var(--jp-content-font-color1, black)));\n",
       "  --sklearn-color-icon: #696969;\n",
       "\n",
       "  @media (prefers-color-scheme: dark) {\n",
       "    /* Redefinition of color scheme for dark theme */\n",
       "    --sklearn-color-text-on-default-background: var(--sg-text-color, var(--theme-code-foreground, var(--jp-content-font-color1, white)));\n",
       "    --sklearn-color-background: var(--sg-background-color, var(--theme-background, var(--jp-layout-color0, #111)));\n",
       "    --sklearn-color-border-box: var(--sg-text-color, var(--theme-code-foreground, var(--jp-content-font-color1, white)));\n",
       "    --sklearn-color-icon: #878787;\n",
       "  }\n",
       "}\n",
       "\n",
       "#sk-container-id-1 {\n",
       "  color: var(--sklearn-color-text);\n",
       "}\n",
       "\n",
       "#sk-container-id-1 pre {\n",
       "  padding: 0;\n",
       "}\n",
       "\n",
       "#sk-container-id-1 input.sk-hidden--visually {\n",
       "  border: 0;\n",
       "  clip: rect(1px 1px 1px 1px);\n",
       "  clip: rect(1px, 1px, 1px, 1px);\n",
       "  height: 1px;\n",
       "  margin: -1px;\n",
       "  overflow: hidden;\n",
       "  padding: 0;\n",
       "  position: absolute;\n",
       "  width: 1px;\n",
       "}\n",
       "\n",
       "#sk-container-id-1 div.sk-dashed-wrapped {\n",
       "  border: 1px dashed var(--sklearn-color-line);\n",
       "  margin: 0 0.4em 0.5em 0.4em;\n",
       "  box-sizing: border-box;\n",
       "  padding-bottom: 0.4em;\n",
       "  background-color: var(--sklearn-color-background);\n",
       "}\n",
       "\n",
       "#sk-container-id-1 div.sk-container {\n",
       "  /* jupyter's `normalize.less` sets `[hidden] { display: none; }`\n",
       "     but bootstrap.min.css set `[hidden] { display: none !important; }`\n",
       "     so we also need the `!important` here to be able to override the\n",
       "     default hidden behavior on the sphinx rendered scikit-learn.org.\n",
       "     See: https://github.com/scikit-learn/scikit-learn/issues/21755 */\n",
       "  display: inline-block !important;\n",
       "  position: relative;\n",
       "}\n",
       "\n",
       "#sk-container-id-1 div.sk-text-repr-fallback {\n",
       "  display: none;\n",
       "}\n",
       "\n",
       "div.sk-parallel-item,\n",
       "div.sk-serial,\n",
       "div.sk-item {\n",
       "  /* draw centered vertical line to link estimators */\n",
       "  background-image: linear-gradient(var(--sklearn-color-text-on-default-background), var(--sklearn-color-text-on-default-background));\n",
       "  background-size: 2px 100%;\n",
       "  background-repeat: no-repeat;\n",
       "  background-position: center center;\n",
       "}\n",
       "\n",
       "/* Parallel-specific style estimator block */\n",
       "\n",
       "#sk-container-id-1 div.sk-parallel-item::after {\n",
       "  content: \"\";\n",
       "  width: 100%;\n",
       "  border-bottom: 2px solid var(--sklearn-color-text-on-default-background);\n",
       "  flex-grow: 1;\n",
       "}\n",
       "\n",
       "#sk-container-id-1 div.sk-parallel {\n",
       "  display: flex;\n",
       "  align-items: stretch;\n",
       "  justify-content: center;\n",
       "  background-color: var(--sklearn-color-background);\n",
       "  position: relative;\n",
       "}\n",
       "\n",
       "#sk-container-id-1 div.sk-parallel-item {\n",
       "  display: flex;\n",
       "  flex-direction: column;\n",
       "}\n",
       "\n",
       "#sk-container-id-1 div.sk-parallel-item:first-child::after {\n",
       "  align-self: flex-end;\n",
       "  width: 50%;\n",
       "}\n",
       "\n",
       "#sk-container-id-1 div.sk-parallel-item:last-child::after {\n",
       "  align-self: flex-start;\n",
       "  width: 50%;\n",
       "}\n",
       "\n",
       "#sk-container-id-1 div.sk-parallel-item:only-child::after {\n",
       "  width: 0;\n",
       "}\n",
       "\n",
       "/* Serial-specific style estimator block */\n",
       "\n",
       "#sk-container-id-1 div.sk-serial {\n",
       "  display: flex;\n",
       "  flex-direction: column;\n",
       "  align-items: center;\n",
       "  background-color: var(--sklearn-color-background);\n",
       "  padding-right: 1em;\n",
       "  padding-left: 1em;\n",
       "}\n",
       "\n",
       "\n",
       "/* Toggleable style: style used for estimator/Pipeline/ColumnTransformer box that is\n",
       "clickable and can be expanded/collapsed.\n",
       "- Pipeline and ColumnTransformer use this feature and define the default style\n",
       "- Estimators will overwrite some part of the style using the `sk-estimator` class\n",
       "*/\n",
       "\n",
       "/* Pipeline and ColumnTransformer style (default) */\n",
       "\n",
       "#sk-container-id-1 div.sk-toggleable {\n",
       "  /* Default theme specific background. It is overwritten whether we have a\n",
       "  specific estimator or a Pipeline/ColumnTransformer */\n",
       "  background-color: var(--sklearn-color-background);\n",
       "}\n",
       "\n",
       "/* Toggleable label */\n",
       "#sk-container-id-1 label.sk-toggleable__label {\n",
       "  cursor: pointer;\n",
       "  display: flex;\n",
       "  width: 100%;\n",
       "  margin-bottom: 0;\n",
       "  padding: 0.5em;\n",
       "  box-sizing: border-box;\n",
       "  text-align: center;\n",
       "  align-items: start;\n",
       "  justify-content: space-between;\n",
       "  gap: 0.5em;\n",
       "}\n",
       "\n",
       "#sk-container-id-1 label.sk-toggleable__label .caption {\n",
       "  font-size: 0.6rem;\n",
       "  font-weight: lighter;\n",
       "  color: var(--sklearn-color-text-muted);\n",
       "}\n",
       "\n",
       "#sk-container-id-1 label.sk-toggleable__label-arrow:before {\n",
       "  /* Arrow on the left of the label */\n",
       "  content: \"▸\";\n",
       "  float: left;\n",
       "  margin-right: 0.25em;\n",
       "  color: var(--sklearn-color-icon);\n",
       "}\n",
       "\n",
       "#sk-container-id-1 label.sk-toggleable__label-arrow:hover:before {\n",
       "  color: var(--sklearn-color-text);\n",
       "}\n",
       "\n",
       "/* Toggleable content - dropdown */\n",
       "\n",
       "#sk-container-id-1 div.sk-toggleable__content {\n",
       "  max-height: 0;\n",
       "  max-width: 0;\n",
       "  overflow: hidden;\n",
       "  text-align: left;\n",
       "  /* unfitted */\n",
       "  background-color: var(--sklearn-color-unfitted-level-0);\n",
       "}\n",
       "\n",
       "#sk-container-id-1 div.sk-toggleable__content.fitted {\n",
       "  /* fitted */\n",
       "  background-color: var(--sklearn-color-fitted-level-0);\n",
       "}\n",
       "\n",
       "#sk-container-id-1 div.sk-toggleable__content pre {\n",
       "  margin: 0.2em;\n",
       "  border-radius: 0.25em;\n",
       "  color: var(--sklearn-color-text);\n",
       "  /* unfitted */\n",
       "  background-color: var(--sklearn-color-unfitted-level-0);\n",
       "}\n",
       "\n",
       "#sk-container-id-1 div.sk-toggleable__content.fitted pre {\n",
       "  /* unfitted */\n",
       "  background-color: var(--sklearn-color-fitted-level-0);\n",
       "}\n",
       "\n",
       "#sk-container-id-1 input.sk-toggleable__control:checked~div.sk-toggleable__content {\n",
       "  /* Expand drop-down */\n",
       "  max-height: 200px;\n",
       "  max-width: 100%;\n",
       "  overflow: auto;\n",
       "}\n",
       "\n",
       "#sk-container-id-1 input.sk-toggleable__control:checked~label.sk-toggleable__label-arrow:before {\n",
       "  content: \"▾\";\n",
       "}\n",
       "\n",
       "/* Pipeline/ColumnTransformer-specific style */\n",
       "\n",
       "#sk-container-id-1 div.sk-label input.sk-toggleable__control:checked~label.sk-toggleable__label {\n",
       "  color: var(--sklearn-color-text);\n",
       "  background-color: var(--sklearn-color-unfitted-level-2);\n",
       "}\n",
       "\n",
       "#sk-container-id-1 div.sk-label.fitted input.sk-toggleable__control:checked~label.sk-toggleable__label {\n",
       "  background-color: var(--sklearn-color-fitted-level-2);\n",
       "}\n",
       "\n",
       "/* Estimator-specific style */\n",
       "\n",
       "/* Colorize estimator box */\n",
       "#sk-container-id-1 div.sk-estimator input.sk-toggleable__control:checked~label.sk-toggleable__label {\n",
       "  /* unfitted */\n",
       "  background-color: var(--sklearn-color-unfitted-level-2);\n",
       "}\n",
       "\n",
       "#sk-container-id-1 div.sk-estimator.fitted input.sk-toggleable__control:checked~label.sk-toggleable__label {\n",
       "  /* fitted */\n",
       "  background-color: var(--sklearn-color-fitted-level-2);\n",
       "}\n",
       "\n",
       "#sk-container-id-1 div.sk-label label.sk-toggleable__label,\n",
       "#sk-container-id-1 div.sk-label label {\n",
       "  /* The background is the default theme color */\n",
       "  color: var(--sklearn-color-text-on-default-background);\n",
       "}\n",
       "\n",
       "/* On hover, darken the color of the background */\n",
       "#sk-container-id-1 div.sk-label:hover label.sk-toggleable__label {\n",
       "  color: var(--sklearn-color-text);\n",
       "  background-color: var(--sklearn-color-unfitted-level-2);\n",
       "}\n",
       "\n",
       "/* Label box, darken color on hover, fitted */\n",
       "#sk-container-id-1 div.sk-label.fitted:hover label.sk-toggleable__label.fitted {\n",
       "  color: var(--sklearn-color-text);\n",
       "  background-color: var(--sklearn-color-fitted-level-2);\n",
       "}\n",
       "\n",
       "/* Estimator label */\n",
       "\n",
       "#sk-container-id-1 div.sk-label label {\n",
       "  font-family: monospace;\n",
       "  font-weight: bold;\n",
       "  display: inline-block;\n",
       "  line-height: 1.2em;\n",
       "}\n",
       "\n",
       "#sk-container-id-1 div.sk-label-container {\n",
       "  text-align: center;\n",
       "}\n",
       "\n",
       "/* Estimator-specific */\n",
       "#sk-container-id-1 div.sk-estimator {\n",
       "  font-family: monospace;\n",
       "  border: 1px dotted var(--sklearn-color-border-box);\n",
       "  border-radius: 0.25em;\n",
       "  box-sizing: border-box;\n",
       "  margin-bottom: 0.5em;\n",
       "  /* unfitted */\n",
       "  background-color: var(--sklearn-color-unfitted-level-0);\n",
       "}\n",
       "\n",
       "#sk-container-id-1 div.sk-estimator.fitted {\n",
       "  /* fitted */\n",
       "  background-color: var(--sklearn-color-fitted-level-0);\n",
       "}\n",
       "\n",
       "/* on hover */\n",
       "#sk-container-id-1 div.sk-estimator:hover {\n",
       "  /* unfitted */\n",
       "  background-color: var(--sklearn-color-unfitted-level-2);\n",
       "}\n",
       "\n",
       "#sk-container-id-1 div.sk-estimator.fitted:hover {\n",
       "  /* fitted */\n",
       "  background-color: var(--sklearn-color-fitted-level-2);\n",
       "}\n",
       "\n",
       "/* Specification for estimator info (e.g. \"i\" and \"?\") */\n",
       "\n",
       "/* Common style for \"i\" and \"?\" */\n",
       "\n",
       ".sk-estimator-doc-link,\n",
       "a:link.sk-estimator-doc-link,\n",
       "a:visited.sk-estimator-doc-link {\n",
       "  float: right;\n",
       "  font-size: smaller;\n",
       "  line-height: 1em;\n",
       "  font-family: monospace;\n",
       "  background-color: var(--sklearn-color-background);\n",
       "  border-radius: 1em;\n",
       "  height: 1em;\n",
       "  width: 1em;\n",
       "  text-decoration: none !important;\n",
       "  margin-left: 0.5em;\n",
       "  text-align: center;\n",
       "  /* unfitted */\n",
       "  border: var(--sklearn-color-unfitted-level-1) 1pt solid;\n",
       "  color: var(--sklearn-color-unfitted-level-1);\n",
       "}\n",
       "\n",
       ".sk-estimator-doc-link.fitted,\n",
       "a:link.sk-estimator-doc-link.fitted,\n",
       "a:visited.sk-estimator-doc-link.fitted {\n",
       "  /* fitted */\n",
       "  border: var(--sklearn-color-fitted-level-1) 1pt solid;\n",
       "  color: var(--sklearn-color-fitted-level-1);\n",
       "}\n",
       "\n",
       "/* On hover */\n",
       "div.sk-estimator:hover .sk-estimator-doc-link:hover,\n",
       ".sk-estimator-doc-link:hover,\n",
       "div.sk-label-container:hover .sk-estimator-doc-link:hover,\n",
       ".sk-estimator-doc-link:hover {\n",
       "  /* unfitted */\n",
       "  background-color: var(--sklearn-color-unfitted-level-3);\n",
       "  color: var(--sklearn-color-background);\n",
       "  text-decoration: none;\n",
       "}\n",
       "\n",
       "div.sk-estimator.fitted:hover .sk-estimator-doc-link.fitted:hover,\n",
       ".sk-estimator-doc-link.fitted:hover,\n",
       "div.sk-label-container:hover .sk-estimator-doc-link.fitted:hover,\n",
       ".sk-estimator-doc-link.fitted:hover {\n",
       "  /* fitted */\n",
       "  background-color: var(--sklearn-color-fitted-level-3);\n",
       "  color: var(--sklearn-color-background);\n",
       "  text-decoration: none;\n",
       "}\n",
       "\n",
       "/* Span, style for the box shown on hovering the info icon */\n",
       ".sk-estimator-doc-link span {\n",
       "  display: none;\n",
       "  z-index: 9999;\n",
       "  position: relative;\n",
       "  font-weight: normal;\n",
       "  right: .2ex;\n",
       "  padding: .5ex;\n",
       "  margin: .5ex;\n",
       "  width: min-content;\n",
       "  min-width: 20ex;\n",
       "  max-width: 50ex;\n",
       "  color: var(--sklearn-color-text);\n",
       "  box-shadow: 2pt 2pt 4pt #999;\n",
       "  /* unfitted */\n",
       "  background: var(--sklearn-color-unfitted-level-0);\n",
       "  border: .5pt solid var(--sklearn-color-unfitted-level-3);\n",
       "}\n",
       "\n",
       ".sk-estimator-doc-link.fitted span {\n",
       "  /* fitted */\n",
       "  background: var(--sklearn-color-fitted-level-0);\n",
       "  border: var(--sklearn-color-fitted-level-3);\n",
       "}\n",
       "\n",
       ".sk-estimator-doc-link:hover span {\n",
       "  display: block;\n",
       "}\n",
       "\n",
       "/* \"?\"-specific style due to the `<a>` HTML tag */\n",
       "\n",
       "#sk-container-id-1 a.estimator_doc_link {\n",
       "  float: right;\n",
       "  font-size: 1rem;\n",
       "  line-height: 1em;\n",
       "  font-family: monospace;\n",
       "  background-color: var(--sklearn-color-background);\n",
       "  border-radius: 1rem;\n",
       "  height: 1rem;\n",
       "  width: 1rem;\n",
       "  text-decoration: none;\n",
       "  /* unfitted */\n",
       "  color: var(--sklearn-color-unfitted-level-1);\n",
       "  border: var(--sklearn-color-unfitted-level-1) 1pt solid;\n",
       "}\n",
       "\n",
       "#sk-container-id-1 a.estimator_doc_link.fitted {\n",
       "  /* fitted */\n",
       "  border: var(--sklearn-color-fitted-level-1) 1pt solid;\n",
       "  color: var(--sklearn-color-fitted-level-1);\n",
       "}\n",
       "\n",
       "/* On hover */\n",
       "#sk-container-id-1 a.estimator_doc_link:hover {\n",
       "  /* unfitted */\n",
       "  background-color: var(--sklearn-color-unfitted-level-3);\n",
       "  color: var(--sklearn-color-background);\n",
       "  text-decoration: none;\n",
       "}\n",
       "\n",
       "#sk-container-id-1 a.estimator_doc_link.fitted:hover {\n",
       "  /* fitted */\n",
       "  background-color: var(--sklearn-color-fitted-level-3);\n",
       "}\n",
       "</style><div id=\"sk-container-id-1\" class=\"sk-top-container\"><div class=\"sk-text-repr-fallback\"><pre>LogisticRegression(C=10, max_iter=1000, random_state=42)</pre><b>In a Jupyter environment, please rerun this cell to show the HTML representation or trust the notebook. <br />On GitHub, the HTML representation is unable to render, please try loading this page with nbviewer.org.</b></div><div class=\"sk-container\" hidden><div class=\"sk-item\"><div class=\"sk-estimator fitted sk-toggleable\"><input class=\"sk-toggleable__control sk-hidden--visually\" id=\"sk-estimator-id-1\" type=\"checkbox\" checked><label for=\"sk-estimator-id-1\" class=\"sk-toggleable__label fitted sk-toggleable__label-arrow\"><div><div>LogisticRegression</div></div><div><a class=\"sk-estimator-doc-link fitted\" rel=\"noreferrer\" target=\"_blank\" href=\"https://scikit-learn.org/1.6/modules/generated/sklearn.linear_model.LogisticRegression.html\">?<span>Documentation for LogisticRegression</span></a><span class=\"sk-estimator-doc-link fitted\">i<span>Fitted</span></span></div></label><div class=\"sk-toggleable__content fitted\"><pre>LogisticRegression(C=10, max_iter=1000, random_state=42)</pre></div> </div></div></div></div>"
      ],
      "text/plain": [
       "LogisticRegression(C=10, max_iter=1000, random_state=42)"
      ]
     },
     "execution_count": 15,
     "metadata": {},
     "output_type": "execute_result"
    }
   ],
   "source": [
    "LR = LogisticRegression(C=10, solver='lbfgs', penalty='l2', class_weight=None, random_state=42, max_iter=1000)\n",
    "LR.fit(X_train_1, y_train_1)"
   ]
  },
  {
   "cell_type": "code",
   "execution_count": null,
   "metadata": {
    "colab": {
     "base_uri": "https://localhost:8080/",
     "height": 1000
    },
    "id": "DBUEx8vZxNHg",
    "outputId": "79f1b885-bb7d-46a9-81c2-4f3433c6fdd1"
   },
   "outputs": [
    {
     "name": "stdout",
     "output_type": "stream",
     "text": [
      "\n",
      "--- Evaluation Report: LR ---\n",
      "\n",
      "Classification Report:\n",
      "              precision    recall  f1-score   support\n",
      "\n",
      "           0       0.90      0.90      0.90      3308\n",
      "           1       0.95      0.95      0.95      7229\n",
      "\n",
      "    accuracy                           0.94     10537\n",
      "   macro avg       0.93      0.93      0.93     10537\n",
      "weighted avg       0.94      0.94      0.94     10537\n",
      "\n",
      "Weighted F1 Score: 0.9362\n",
      "95% CI for F1 Score: [0.9315, 0.9413]\n"
     ]
    },
    {
     "data": {
      "image/png": "[encoded data removed]",
      "text/plain": [
       "<Figure size 600x600 with 2 Axes>"
      ]
     },
     "metadata": {},
     "output_type": "display_data"
    },
    {
     "name": "stdout",
     "output_type": "stream",
     "text": [
      "AUC Score: 0.9783\n",
      "95% CI for AUC: [0.9759, 0.9807]\n"
     ]
    },
    {
     "data": {
      "image/png": "[encoded data removed]",
      "text/plain": [
       "<Figure size 800x600 with 1 Axes>"
      ]
     },
     "metadata": {},
     "output_type": "display_data"
    }
   ],
   "source": [
    "evaluate_model(LR, X_test_1, y_test_1, model_name=\"LR\", use_proba=True)"
   ]
  },
  {
   "cell_type": "code",
   "execution_count": 18,
   "metadata": {
    "colab": {
     "base_uri": "https://localhost:8080/",
     "height": 983
    },
    "id": "SPkWucjl9vX9",
    "outputId": "29bc526e-7e02-4af8-e538-df66bb23e51c"
   },
   "outputs": [
    {
     "data": {
      "image/png": "[encoded data removed]",
      "text/plain": [
       "<Figure size 800x600 with 1 Axes>"
      ]
     },
     "metadata": {},
     "output_type": "display_data"
    },
    {
     "name": "stdout",
     "output_type": "stream",
     "text": [
      "         Feature  Coefficient  Scaled Importance\n",
      "2287  depression    23.390375         100.000000\n",
      "7390    restless    13.797117          58.986304\n",
      "412      anxious    12.645218          54.061632\n",
      "8587     suicide    12.155925          51.969776\n",
      "7640      scared    10.909049          46.639050\n",
      "8584    suicidal    10.729209          45.870187\n",
      "2388         die    10.477631          44.794627\n",
      "661         avpd    10.393295          44.434068\n",
      "896      bipolar     9.792005          41.863397\n",
      "2282   depressed     9.620275          41.129204\n",
      "5819     nervous     9.559678          40.870138\n",
      "9869     worried     9.010162          38.520812\n",
      "408      anxiety     8.774245          37.512203\n",
      "8467      stress     8.737335          37.354404\n",
      "417      anymore     8.676387          37.093833\n",
      "3615     fucking     8.646679          36.966827\n",
      "5081        life     8.622465          36.863305\n",
      "7748        self     8.426424          36.025179\n",
      "6712    pression     8.345217          35.677997\n",
      "5422         med     8.252573          35.281918\n"
     ]
    }
   ],
   "source": [
    "import matplotlib.pyplot as plt\n",
    "import seaborn as sns\n",
    "import pandas as pd\n",
    "import numpy as np\n",
    "\n",
    "# Extract feature names\n",
    "feature_names = tfidf.get_feature_names_out()\n",
    "\n",
    "# Extract coefficients from the trained Logistic Regression model\n",
    "coefficients = LR.coef_[0]\n",
    "\n",
    "# Create DataFrame\n",
    "importance_df = pd.DataFrame({\n",
    "    'Feature': feature_names,\n",
    "    'Coefficient': coefficients\n",
    "})\n",
    "\n",
    "# Use absolute value for importance\n",
    "importance_df['Importance (Abs)'] = importance_df['Coefficient'].abs()\n",
    "\n",
    "# Normalize importance (rescale to 0–100)\n",
    "importance_df['Scaled Importance'] = (\n",
    "    importance_df['Importance (Abs)'] / importance_df['Importance (Abs)'].max()\n",
    ") * 100\n",
    "\n",
    "# Sort and take top 20\n",
    "top_20_features = importance_df.sort_values(by='Importance (Abs)', ascending=False).head(20)\n",
    "\n",
    "# Plot (horizontal bar chart)\n",
    "plt.figure(figsize=(8, 6))\n",
    "sns.set_style(\"whitegrid\")\n",
    "sns.barplot(\n",
    "    x='Scaled Importance',\n",
    "    y='Feature',\n",
    "    data=top_20_features[::-1],  # Reverse for descending top-down\n",
    "    palette=\"crest\"\n",
    ")\n",
    "\n",
    "plt.title(\"Top 20 Important Features (Logistic Regression)\", fontsize=14, fontweight='bold')\n",
    "plt.xlabel(\"Relative Importance (%)\", fontsize=12)\n",
    "plt.ylabel(\"TF-IDF Feature\", fontsize=12)\n",
    "plt.xticks(fontsize=10)\n",
    "plt.yticks(fontsize=10)\n",
    "plt.tight_layout()\n",
    "\n",
    "# Save high-res for paper\n",
    "plt.savefig(\"top_features_lr.png\", dpi=300)\n",
    "plt.show()\n",
    "\n",
    "# Optionally print the top 20\n",
    "print(top_20_features[['Feature', 'Coefficient', 'Scaled Importance']])\n"
   ]
  },
  {
   "cell_type": "markdown",
   "metadata": {
    "id": "OOFKjTzEZgwT"
   },
   "source": [
    "### 3.1.3 Random Forest"
   ]
  },
  {
   "cell_type": "code",
   "execution_count": null,
   "metadata": {
    "id": "uuDypQKN6IU3"
   },
   "outputs": [],
   "source": [
    "#Define the Hyperparameter Tuning grid\n",
    "random.seed(1234)\n",
    "\n",
    "param_grid = {\n",
    "    'n_estimators': [50, 100, 200],        # Number of trees\n",
    "    'max_depth': [10, 20, None],           # Maximum depth of trees\n",
    "    'min_samples_split': [2, 5, 10],       # Minimum samples to split a node\n",
    "    'min_samples_leaf': [1, 2, 4],         # Minimum samples at a leaf node\n",
    "    'class_weight': [None, 'balanced']     # Handle class imbalance - balanced is a choice to adjust class weights according to class frequency\n",
    "}\n",
    "\n",
    "# Grid search\n",
    "best_f1 = 0\n",
    "best_model = None\n",
    "best_params = None\n",
    "\n",
    "\n",
    "# Start timer\n",
    "start_time = time.time()\n",
    "\n",
    "# Iterate through all combinations of parameters\n",
    "for n_estimators, max_depth, min_samples_split, min_samples_leaf, class_weight in product(\n",
    "    param_grid['n_estimators'],\n",
    "    param_grid['max_depth'],\n",
    "    param_grid['min_samples_split'],\n",
    "    param_grid['min_samples_leaf'],\n",
    "    param_grid['class_weight']\n",
    "):\n",
    "    try:\n",
    "        # Create the Random Forest model with current parameters\n",
    "        model = RandomForestClassifier(\n",
    "            n_estimators=n_estimators,\n",
    "            max_depth=max_depth,\n",
    "            min_samples_split=min_samples_split,\n",
    "            min_samples_leaf=min_samples_leaf,\n",
    "            class_weight=class_weight,\n",
    "            random_state=42,\n",
    "            n_jobs=-1\n",
    "        )\n",
    "\n",
    "        # Train the model\n",
    "        model.fit(X_train_1, y_train_1)\n",
    "\n",
    "        # Validate the model on validation set\n",
    "        y_val_pred = model.predict(X_val_1)\n",
    "        f1 = f1_score(y_val_1, y_val_pred,average='weighted')\n",
    "        print(f\"Validation F1-Score for n_estimators={n_estimators}, max_depth={max_depth}, \"\n",
    "              f\"min_samples_split={min_samples_split}, min_samples_leaf={min_samples_leaf}, \"\n",
    "              f\"class_weight={class_weight}: {f1:.4f}\")\n",
    "\n",
    "        # Update the best model if current one is better\n",
    "        if f1 > best_f1:\n",
    "            best_f1 = f1\n",
    "            best_model = model\n",
    "            best_params = {\n",
    "                'n_estimators': n_estimators,\n",
    "                'max_depth': max_depth,\n",
    "                'min_samples_split': min_samples_split,\n",
    "                'min_samples_leaf': min_samples_leaf,\n",
    "                'class_weight': class_weight\n",
    "            }\n",
    "    except Exception as e:\n",
    "        print(f\"Skipping combination n_estimators={n_estimators}, max_depth={max_depth}, \"\n",
    "              f\"min_samples_split={min_samples_split}, min_samples_leaf={min_samples_leaf}, \"\n",
    "              f\"class_weight={class_weight} due to error: {e}\")\n",
    "\n",
    "# End timer\n",
    "end_time = time.time()\n",
    "total_time = end_time - start_time\n",
    "\n",
    "\n",
    "# Print the best parameters and F1 score on validation set\n",
    "print(\"\\nBest Hyperparameters:\", best_params)\n",
    "print(\"Best Validation F1-Score:\", best_f1)\n",
    "print(f\"Total Parameter Tuning Time: {total_time:.2f} seconds\")"
   ]
  },
  {
   "cell_type": "code",
   "execution_count": 17,
   "metadata": {
    "colab": {
     "base_uri": "https://localhost:8080/",
     "height": 98
    },
    "id": "3jwZMYZVxpju",
    "outputId": "99b1ea1e-15af-4c57-e9b5-0ea89a7e18ec"
   },
   "outputs": [
    {
     "data": {
      "text/html": [
       "<style>#sk-container-id-2 {\n",
       "  /* Definition of color scheme common for light and dark mode */\n",
       "  --sklearn-color-text: #000;\n",
       "  --sklearn-color-text-muted: #666;\n",
       "  --sklearn-color-line: gray;\n",
       "  /* Definition of color scheme for unfitted estimators */\n",
       "  --sklearn-color-unfitted-level-0: #fff5e6;\n",
       "  --sklearn-color-unfitted-level-1: #f6e4d2;\n",
       "  --sklearn-color-unfitted-level-2: #ffe0b3;\n",
       "  --sklearn-color-unfitted-level-3: chocolate;\n",
       "  /* Definition of color scheme for fitted estimators */\n",
       "  --sklearn-color-fitted-level-0: #f0f8ff;\n",
       "  --sklearn-color-fitted-level-1: #d4ebff;\n",
       "  --sklearn-color-fitted-level-2: #b3dbfd;\n",
       "  --sklearn-color-fitted-level-3: cornflowerblue;\n",
       "\n",
       "  /* Specific color for light theme */\n",
       "  --sklearn-color-text-on-default-background: var(--sg-text-color, var(--theme-code-foreground, var(--jp-content-font-color1, black)));\n",
       "  --sklearn-color-background: var(--sg-background-color, var(--theme-background, var(--jp-layout-color0, white)));\n",
       "  --sklearn-color-border-box: var(--sg-text-color, var(--theme-code-foreground, var(--jp-content-font-color1, black)));\n",
       "  --sklearn-color-icon: #696969;\n",
       "\n",
       "  @media (prefers-color-scheme: dark) {\n",
       "    /* Redefinition of color scheme for dark theme */\n",
       "    --sklearn-color-text-on-default-background: var(--sg-text-color, var(--theme-code-foreground, var(--jp-content-font-color1, white)));\n",
       "    --sklearn-color-background: var(--sg-background-color, var(--theme-background, var(--jp-layout-color0, #111)));\n",
       "    --sklearn-color-border-box: var(--sg-text-color, var(--theme-code-foreground, var(--jp-content-font-color1, white)));\n",
       "    --sklearn-color-icon: #878787;\n",
       "  }\n",
       "}\n",
       "\n",
       "#sk-container-id-2 {\n",
       "  color: var(--sklearn-color-text);\n",
       "}\n",
       "\n",
       "#sk-container-id-2 pre {\n",
       "  padding: 0;\n",
       "}\n",
       "\n",
       "#sk-container-id-2 input.sk-hidden--visually {\n",
       "  border: 0;\n",
       "  clip: rect(1px 1px 1px 1px);\n",
       "  clip: rect(1px, 1px, 1px, 1px);\n",
       "  height: 1px;\n",
       "  margin: -1px;\n",
       "  overflow: hidden;\n",
       "  padding: 0;\n",
       "  position: absolute;\n",
       "  width: 1px;\n",
       "}\n",
       "\n",
       "#sk-container-id-2 div.sk-dashed-wrapped {\n",
       "  border: 1px dashed var(--sklearn-color-line);\n",
       "  margin: 0 0.4em 0.5em 0.4em;\n",
       "  box-sizing: border-box;\n",
       "  padding-bottom: 0.4em;\n",
       "  background-color: var(--sklearn-color-background);\n",
       "}\n",
       "\n",
       "#sk-container-id-2 div.sk-container {\n",
       "  /* jupyter's `normalize.less` sets `[hidden] { display: none; }`\n",
       "     but bootstrap.min.css set `[hidden] { display: none !important; }`\n",
       "     so we also need the `!important` here to be able to override the\n",
       "     default hidden behavior on the sphinx rendered scikit-learn.org.\n",
       "     See: https://github.com/scikit-learn/scikit-learn/issues/21755 */\n",
       "  display: inline-block !important;\n",
       "  position: relative;\n",
       "}\n",
       "\n",
       "#sk-container-id-2 div.sk-text-repr-fallback {\n",
       "  display: none;\n",
       "}\n",
       "\n",
       "div.sk-parallel-item,\n",
       "div.sk-serial,\n",
       "div.sk-item {\n",
       "  /* draw centered vertical line to link estimators */\n",
       "  background-image: linear-gradient(var(--sklearn-color-text-on-default-background), var(--sklearn-color-text-on-default-background));\n",
       "  background-size: 2px 100%;\n",
       "  background-repeat: no-repeat;\n",
       "  background-position: center center;\n",
       "}\n",
       "\n",
       "/* Parallel-specific style estimator block */\n",
       "\n",
       "#sk-container-id-2 div.sk-parallel-item::after {\n",
       "  content: \"\";\n",
       "  width: 100%;\n",
       "  border-bottom: 2px solid var(--sklearn-color-text-on-default-background);\n",
       "  flex-grow: 1;\n",
       "}\n",
       "\n",
       "#sk-container-id-2 div.sk-parallel {\n",
       "  display: flex;\n",
       "  align-items: stretch;\n",
       "  justify-content: center;\n",
       "  background-color: var(--sklearn-color-background);\n",
       "  position: relative;\n",
       "}\n",
       "\n",
       "#sk-container-id-2 div.sk-parallel-item {\n",
       "  display: flex;\n",
       "  flex-direction: column;\n",
       "}\n",
       "\n",
       "#sk-container-id-2 div.sk-parallel-item:first-child::after {\n",
       "  align-self: flex-end;\n",
       "  width: 50%;\n",
       "}\n",
       "\n",
       "#sk-container-id-2 div.sk-parallel-item:last-child::after {\n",
       "  align-self: flex-start;\n",
       "  width: 50%;\n",
       "}\n",
       "\n",
       "#sk-container-id-2 div.sk-parallel-item:only-child::after {\n",
       "  width: 0;\n",
       "}\n",
       "\n",
       "/* Serial-specific style estimator block */\n",
       "\n",
       "#sk-container-id-2 div.sk-serial {\n",
       "  display: flex;\n",
       "  flex-direction: column;\n",
       "  align-items: center;\n",
       "  background-color: var(--sklearn-color-background);\n",
       "  padding-right: 1em;\n",
       "  padding-left: 1em;\n",
       "}\n",
       "\n",
       "\n",
       "/* Toggleable style: style used for estimator/Pipeline/ColumnTransformer box that is\n",
       "clickable and can be expanded/collapsed.\n",
       "- Pipeline and ColumnTransformer use this feature and define the default style\n",
       "- Estimators will overwrite some part of the style using the `sk-estimator` class\n",
       "*/\n",
       "\n",
       "/* Pipeline and ColumnTransformer style (default) */\n",
       "\n",
       "#sk-container-id-2 div.sk-toggleable {\n",
       "  /* Default theme specific background. It is overwritten whether we have a\n",
       "  specific estimator or a Pipeline/ColumnTransformer */\n",
       "  background-color: var(--sklearn-color-background);\n",
       "}\n",
       "\n",
       "/* Toggleable label */\n",
       "#sk-container-id-2 label.sk-toggleable__label {\n",
       "  cursor: pointer;\n",
       "  display: flex;\n",
       "  width: 100%;\n",
       "  margin-bottom: 0;\n",
       "  padding: 0.5em;\n",
       "  box-sizing: border-box;\n",
       "  text-align: center;\n",
       "  align-items: start;\n",
       "  justify-content: space-between;\n",
       "  gap: 0.5em;\n",
       "}\n",
       "\n",
       "#sk-container-id-2 label.sk-toggleable__label .caption {\n",
       "  font-size: 0.6rem;\n",
       "  font-weight: lighter;\n",
       "  color: var(--sklearn-color-text-muted);\n",
       "}\n",
       "\n",
       "#sk-container-id-2 label.sk-toggleable__label-arrow:before {\n",
       "  /* Arrow on the left of the label */\n",
       "  content: \"▸\";\n",
       "  float: left;\n",
       "  margin-right: 0.25em;\n",
       "  color: var(--sklearn-color-icon);\n",
       "}\n",
       "\n",
       "#sk-container-id-2 label.sk-toggleable__label-arrow:hover:before {\n",
       "  color: var(--sklearn-color-text);\n",
       "}\n",
       "\n",
       "/* Toggleable content - dropdown */\n",
       "\n",
       "#sk-container-id-2 div.sk-toggleable__content {\n",
       "  max-height: 0;\n",
       "  max-width: 0;\n",
       "  overflow: hidden;\n",
       "  text-align: left;\n",
       "  /* unfitted */\n",
       "  background-color: var(--sklearn-color-unfitted-level-0);\n",
       "}\n",
       "\n",
       "#sk-container-id-2 div.sk-toggleable__content.fitted {\n",
       "  /* fitted */\n",
       "  background-color: var(--sklearn-color-fitted-level-0);\n",
       "}\n",
       "\n",
       "#sk-container-id-2 div.sk-toggleable__content pre {\n",
       "  margin: 0.2em;\n",
       "  border-radius: 0.25em;\n",
       "  color: var(--sklearn-color-text);\n",
       "  /* unfitted */\n",
       "  background-color: var(--sklearn-color-unfitted-level-0);\n",
       "}\n",
       "\n",
       "#sk-container-id-2 div.sk-toggleable__content.fitted pre {\n",
       "  /* unfitted */\n",
       "  background-color: var(--sklearn-color-fitted-level-0);\n",
       "}\n",
       "\n",
       "#sk-container-id-2 input.sk-toggleable__control:checked~div.sk-toggleable__content {\n",
       "  /* Expand drop-down */\n",
       "  max-height: 200px;\n",
       "  max-width: 100%;\n",
       "  overflow: auto;\n",
       "}\n",
       "\n",
       "#sk-container-id-2 input.sk-toggleable__control:checked~label.sk-toggleable__label-arrow:before {\n",
       "  content: \"▾\";\n",
       "}\n",
       "\n",
       "/* Pipeline/ColumnTransformer-specific style */\n",
       "\n",
       "#sk-container-id-2 div.sk-label input.sk-toggleable__control:checked~label.sk-toggleable__label {\n",
       "  color: var(--sklearn-color-text);\n",
       "  background-color: var(--sklearn-color-unfitted-level-2);\n",
       "}\n",
       "\n",
       "#sk-container-id-2 div.sk-label.fitted input.sk-toggleable__control:checked~label.sk-toggleable__label {\n",
       "  background-color: var(--sklearn-color-fitted-level-2);\n",
       "}\n",
       "\n",
       "/* Estimator-specific style */\n",
       "\n",
       "/* Colorize estimator box */\n",
       "#sk-container-id-2 div.sk-estimator input.sk-toggleable__control:checked~label.sk-toggleable__label {\n",
       "  /* unfitted */\n",
       "  background-color: var(--sklearn-color-unfitted-level-2);\n",
       "}\n",
       "\n",
       "#sk-container-id-2 div.sk-estimator.fitted input.sk-toggleable__control:checked~label.sk-toggleable__label {\n",
       "  /* fitted */\n",
       "  background-color: var(--sklearn-color-fitted-level-2);\n",
       "}\n",
       "\n",
       "#sk-container-id-2 div.sk-label label.sk-toggleable__label,\n",
       "#sk-container-id-2 div.sk-label label {\n",
       "  /* The background is the default theme color */\n",
       "  color: var(--sklearn-color-text-on-default-background);\n",
       "}\n",
       "\n",
       "/* On hover, darken the color of the background */\n",
       "#sk-container-id-2 div.sk-label:hover label.sk-toggleable__label {\n",
       "  color: var(--sklearn-color-text);\n",
       "  background-color: var(--sklearn-color-unfitted-level-2);\n",
       "}\n",
       "\n",
       "/* Label box, darken color on hover, fitted */\n",
       "#sk-container-id-2 div.sk-label.fitted:hover label.sk-toggleable__label.fitted {\n",
       "  color: var(--sklearn-color-text);\n",
       "  background-color: var(--sklearn-color-fitted-level-2);\n",
       "}\n",
       "\n",
       "/* Estimator label */\n",
       "\n",
       "#sk-container-id-2 div.sk-label label {\n",
       "  font-family: monospace;\n",
       "  font-weight: bold;\n",
       "  display: inline-block;\n",
       "  line-height: 1.2em;\n",
       "}\n",
       "\n",
       "#sk-container-id-2 div.sk-label-container {\n",
       "  text-align: center;\n",
       "}\n",
       "\n",
       "/* Estimator-specific */\n",
       "#sk-container-id-2 div.sk-estimator {\n",
       "  font-family: monospace;\n",
       "  border: 1px dotted var(--sklearn-color-border-box);\n",
       "  border-radius: 0.25em;\n",
       "  box-sizing: border-box;\n",
       "  margin-bottom: 0.5em;\n",
       "  /* unfitted */\n",
       "  background-color: var(--sklearn-color-unfitted-level-0);\n",
       "}\n",
       "\n",
       "#sk-container-id-2 div.sk-estimator.fitted {\n",
       "  /* fitted */\n",
       "  background-color: var(--sklearn-color-fitted-level-0);\n",
       "}\n",
       "\n",
       "/* on hover */\n",
       "#sk-container-id-2 div.sk-estimator:hover {\n",
       "  /* unfitted */\n",
       "  background-color: var(--sklearn-color-unfitted-level-2);\n",
       "}\n",
       "\n",
       "#sk-container-id-2 div.sk-estimator.fitted:hover {\n",
       "  /* fitted */\n",
       "  background-color: var(--sklearn-color-fitted-level-2);\n",
       "}\n",
       "\n",
       "/* Specification for estimator info (e.g. \"i\" and \"?\") */\n",
       "\n",
       "/* Common style for \"i\" and \"?\" */\n",
       "\n",
       ".sk-estimator-doc-link,\n",
       "a:link.sk-estimator-doc-link,\n",
       "a:visited.sk-estimator-doc-link {\n",
       "  float: right;\n",
       "  font-size: smaller;\n",
       "  line-height: 1em;\n",
       "  font-family: monospace;\n",
       "  background-color: var(--sklearn-color-background);\n",
       "  border-radius: 1em;\n",
       "  height: 1em;\n",
       "  width: 1em;\n",
       "  text-decoration: none !important;\n",
       "  margin-left: 0.5em;\n",
       "  text-align: center;\n",
       "  /* unfitted */\n",
       "  border: var(--sklearn-color-unfitted-level-1) 1pt solid;\n",
       "  color: var(--sklearn-color-unfitted-level-1);\n",
       "}\n",
       "\n",
       ".sk-estimator-doc-link.fitted,\n",
       "a:link.sk-estimator-doc-link.fitted,\n",
       "a:visited.sk-estimator-doc-link.fitted {\n",
       "  /* fitted */\n",
       "  border: var(--sklearn-color-fitted-level-1) 1pt solid;\n",
       "  color: var(--sklearn-color-fitted-level-1);\n",
       "}\n",
       "\n",
       "/* On hover */\n",
       "div.sk-estimator:hover .sk-estimator-doc-link:hover,\n",
       ".sk-estimator-doc-link:hover,\n",
       "div.sk-label-container:hover .sk-estimator-doc-link:hover,\n",
       ".sk-estimator-doc-link:hover {\n",
       "  /* unfitted */\n",
       "  background-color: var(--sklearn-color-unfitted-level-3);\n",
       "  color: var(--sklearn-color-background);\n",
       "  text-decoration: none;\n",
       "}\n",
       "\n",
       "div.sk-estimator.fitted:hover .sk-estimator-doc-link.fitted:hover,\n",
       ".sk-estimator-doc-link.fitted:hover,\n",
       "div.sk-label-container:hover .sk-estimator-doc-link.fitted:hover,\n",
       ".sk-estimator-doc-link.fitted:hover {\n",
       "  /* fitted */\n",
       "  background-color: var(--sklearn-color-fitted-level-3);\n",
       "  color: var(--sklearn-color-background);\n",
       "  text-decoration: none;\n",
       "}\n",
       "\n",
       "/* Span, style for the box shown on hovering the info icon */\n",
       ".sk-estimator-doc-link span {\n",
       "  display: none;\n",
       "  z-index: 9999;\n",
       "  position: relative;\n",
       "  font-weight: normal;\n",
       "  right: .2ex;\n",
       "  padding: .5ex;\n",
       "  margin: .5ex;\n",
       "  width: min-content;\n",
       "  min-width: 20ex;\n",
       "  max-width: 50ex;\n",
       "  color: var(--sklearn-color-text);\n",
       "  box-shadow: 2pt 2pt 4pt #999;\n",
       "  /* unfitted */\n",
       "  background: var(--sklearn-color-unfitted-level-0);\n",
       "  border: .5pt solid var(--sklearn-color-unfitted-level-3);\n",
       "}\n",
       "\n",
       ".sk-estimator-doc-link.fitted span {\n",
       "  /* fitted */\n",
       "  background: var(--sklearn-color-fitted-level-0);\n",
       "  border: var(--sklearn-color-fitted-level-3);\n",
       "}\n",
       "\n",
       ".sk-estimator-doc-link:hover span {\n",
       "  display: block;\n",
       "}\n",
       "\n",
       "/* \"?\"-specific style due to the `<a>` HTML tag */\n",
       "\n",
       "#sk-container-id-2 a.estimator_doc_link {\n",
       "  float: right;\n",
       "  font-size: 1rem;\n",
       "  line-height: 1em;\n",
       "  font-family: monospace;\n",
       "  background-color: var(--sklearn-color-background);\n",
       "  border-radius: 1rem;\n",
       "  height: 1rem;\n",
       "  width: 1rem;\n",
       "  text-decoration: none;\n",
       "  /* unfitted */\n",
       "  color: var(--sklearn-color-unfitted-level-1);\n",
       "  border: var(--sklearn-color-unfitted-level-1) 1pt solid;\n",
       "}\n",
       "\n",
       "#sk-container-id-2 a.estimator_doc_link.fitted {\n",
       "  /* fitted */\n",
       "  border: var(--sklearn-color-fitted-level-1) 1pt solid;\n",
       "  color: var(--sklearn-color-fitted-level-1);\n",
       "}\n",
       "\n",
       "/* On hover */\n",
       "#sk-container-id-2 a.estimator_doc_link:hover {\n",
       "  /* unfitted */\n",
       "  background-color: var(--sklearn-color-unfitted-level-3);\n",
       "  color: var(--sklearn-color-background);\n",
       "  text-decoration: none;\n",
       "}\n",
       "\n",
       "#sk-container-id-2 a.estimator_doc_link.fitted:hover {\n",
       "  /* fitted */\n",
       "  background-color: var(--sklearn-color-fitted-level-3);\n",
       "}\n",
       "</style><div id=\"sk-container-id-2\" class=\"sk-top-container\"><div class=\"sk-text-repr-fallback\"><pre>RandomForestClassifier(class_weight=&#x27;balanced&#x27;, n_estimators=50, n_jobs=-1,\n",
       "                       random_state=42)</pre><b>In a Jupyter environment, please rerun this cell to show the HTML representation or trust the notebook. <br />On GitHub, the HTML representation is unable to render, please try loading this page with nbviewer.org.</b></div><div class=\"sk-container\" hidden><div class=\"sk-item\"><div class=\"sk-estimator fitted sk-toggleable\"><input class=\"sk-toggleable__control sk-hidden--visually\" id=\"sk-estimator-id-2\" type=\"checkbox\" checked><label for=\"sk-estimator-id-2\" class=\"sk-toggleable__label fitted sk-toggleable__label-arrow\"><div><div>RandomForestClassifier</div></div><div><a class=\"sk-estimator-doc-link fitted\" rel=\"noreferrer\" target=\"_blank\" href=\"https://scikit-learn.org/1.6/modules/generated/sklearn.ensemble.RandomForestClassifier.html\">?<span>Documentation for RandomForestClassifier</span></a><span class=\"sk-estimator-doc-link fitted\">i<span>Fitted</span></span></div></label><div class=\"sk-toggleable__content fitted\"><pre>RandomForestClassifier(class_weight=&#x27;balanced&#x27;, n_estimators=50, n_jobs=-1,\n",
       "                       random_state=42)</pre></div> </div></div></div></div>"
      ],
      "text/plain": [
       "RandomForestClassifier(class_weight='balanced', n_estimators=50, n_jobs=-1,\n",
       "                       random_state=42)"
      ]
     },
     "execution_count": 17,
     "metadata": {},
     "output_type": "execute_result"
    }
   ],
   "source": [
    "RandomForest = RandomForestClassifier(\n",
    "    n_estimators=50,\n",
    "    max_depth=None,\n",
    "    min_samples_split=2,\n",
    "    min_samples_leaf=1,\n",
    "    class_weight='balanced',\n",
    "    random_state=42,\n",
    "    n_jobs=-1\n",
    ")\n",
    "\n",
    "# Train the model\n",
    "RandomForest.fit(X_train_1, y_train_1)\n"
   ]
  },
  {
   "cell_type": "code",
   "execution_count": null,
   "metadata": {
    "colab": {
     "base_uri": "https://localhost:8080/",
     "height": 1000
    },
    "id": "bC7zxS8ux-8P",
    "outputId": "08d19d3a-d5c3-4a6f-c2a2-4b3f104c8f68"
   },
   "outputs": [
    {
     "name": "stdout",
     "output_type": "stream",
     "text": [
      "\n",
      "--- Evaluation Report: Random Forest ---\n",
      "\n",
      "Classification Report:\n",
      "              precision    recall  f1-score   support\n",
      "\n",
      "           0       0.91      0.88      0.89      3308\n",
      "           1       0.94      0.96      0.95      7229\n",
      "\n",
      "    accuracy                           0.94     10537\n",
      "   macro avg       0.93      0.92      0.92     10537\n",
      "weighted avg       0.93      0.94      0.93     10537\n",
      "\n",
      "Weighted F1 Score: 0.9347\n",
      "95% CI for F1 Score: [0.9299, 0.9397]\n"
     ]
    },
    {
     "data": {
      "image/png": "[encoded data removed]",
      "text/plain": [
       "<Figure size 600x600 with 2 Axes>"
      ]
     },
     "metadata": {},
     "output_type": "display_data"
    },
    {
     "name": "stdout",
     "output_type": "stream",
     "text": [
      "AUC Score: 0.9764\n",
      "95% CI for AUC: [0.9736, 0.9791]\n"
     ]
    },
    {
     "data": {
      "image/png": "[encoded data removed]",
      "text/plain": [
       "<Figure size 800x600 with 1 Axes>"
      ]
     },
     "metadata": {},
     "output_type": "display_data"
    }
   ],
   "source": [
    "evaluate_model(RandomForest, X_test_1, y_test_1, model_name=\"Random Forest\", use_proba=True)"
   ]
  },
  {
   "cell_type": "code",
   "execution_count": 19,
   "metadata": {
    "colab": {
     "base_uri": "https://localhost:8080/",
     "height": 607
    },
    "id": "zRNExs7HgV_K",
    "outputId": "02b56b23-ab54-46b1-fb51-5f629c26f8ef"
   },
   "outputs": [
    {
     "data": {
      "image/png": "[encoded data removed]",
      "text/plain": [
       "<Figure size 800x600 with 1 Axes>"
      ]
     },
     "metadata": {},
     "output_type": "display_data"
    }
   ],
   "source": [
    "import matplotlib.pyplot as plt\n",
    "import seaborn as sns\n",
    "import numpy as np\n",
    "\n",
    "# Ensure the best_model is available after parameter tuning\n",
    "if RandomForest is not None:\n",
    "    # Get the feature names from TfidfVectorizer\n",
    "    feature_names = tfidf.get_feature_names_out()\n",
    "\n",
    "    # Get the feature importances from the trained Random Forest model\n",
    "    feature_importance = RandomForest.feature_importances_\n",
    "    feature_importance = (feature_importance / feature_importance.max()) * 100\n",
    "\n",
    "    # Map feature importance to feature names\n",
    "    important_features = sorted(\n",
    "        zip(feature_importance, feature_names),\n",
    "        key=lambda x: x[0],\n",
    "        reverse=True\n",
    "    )\n",
    "\n",
    "    # Select top N features\n",
    "    top_n = 20\n",
    "    top_features = important_features[:top_n]\n",
    "    importances, names = zip(*top_features)\n",
    "\n",
    "    # Reverse for horizontal bar plot\n",
    "    importances = importances[::-1]\n",
    "    names = names[::-1]\n",
    "\n",
    "    # Plot\n",
    "    plt.figure(figsize=(8, 6))\n",
    "    sns.set_style(\"whitegrid\")\n",
    "    sns.barplot(x=importances, y=names, palette=\"viridis\")\n",
    "\n",
    "    plt.title(\"Top 20 Important Features (Random Forest)\", fontsize=14, fontweight='bold')\n",
    "    plt.xlabel(\"Relative Importance (%)\", fontsize=12)\n",
    "    plt.ylabel(\"TF-IDF Feature\", fontsize=12)\n",
    "    plt.xticks(fontsize=10)\n",
    "    plt.yticks(fontsize=10)\n",
    "    plt.tight_layout()\n",
    "\n",
    "    # Save high-res for paper\n",
    "    plt.savefig(\"top_features_rf.png\", dpi=300)\n",
    "    plt.show()\n",
    "else:\n",
    "    print(\"No model was trained successfully. Unable to display feature importance.\")\n"
   ]
  },
  {
   "cell_type": "markdown",
   "metadata": {
    "id": "Xxf9Kwwjgt1Q"
   },
   "source": [
    "### 3.1.4 LGBM"
   ]
  },
  {
   "cell_type": "code",
   "execution_count": null,
   "metadata": {
    "id": "motY8sH96gRm"
   },
   "outputs": [],
   "source": [
    "random.seed(1234)\n",
    "\n",
    "param_grid = {\n",
    "    'n_estimators': [50, 100],            # Reduced to two options for number of boosting iterations\n",
    "    'learning_rate': [0.01, 0.1],         # Reduced to two commonly used learning rates\n",
    "    'max_depth': [-1, 10],                # Focus on unlimited depth (-1) and a typical max depth (10)\n",
    "    'num_leaves': [31, 50],               # Removed larger values for simplicity\n",
    "    'min_child_samples': [10, 20],        # Focused on fewer options for minimum child samples\n",
    "    'class_weight': [None, 'balanced']    # Retained both options for class imbalance handling\n",
    "}\n",
    "\n",
    "# Grid search\n",
    "best_f1 = 0\n",
    "best_model = None\n",
    "best_params = None\n",
    "\n",
    "# Start timer\n",
    "start_time = time.time()\n",
    "\n",
    "# Iterate through all combinations of parameters\n",
    "for n_estimators, learning_rate, max_depth, num_leaves, min_child_samples, class_weight in product(\n",
    "    param_grid['n_estimators'],\n",
    "    param_grid['learning_rate'],\n",
    "    param_grid['max_depth'],\n",
    "    param_grid['num_leaves'],\n",
    "    param_grid['min_child_samples'],\n",
    "    param_grid['class_weight']\n",
    "):\n",
    "    try:\n",
    "        # Create the LightGBM model with current parameters\n",
    "        model = LGBMClassifier(\n",
    "            n_estimators=n_estimators,\n",
    "            learning_rate=learning_rate,\n",
    "            max_depth=max_depth,\n",
    "            num_leaves=num_leaves,\n",
    "            min_child_samples=min_child_samples,\n",
    "            class_weight=class_weight,\n",
    "            random_state=42,\n",
    "            n_jobs=-1,\n",
    "            importance_type = \"gain\"\n",
    "        )\n",
    "\n",
    "        # Train the model\n",
    "        model.fit(X_train_1, y_train_1)\n",
    "\n",
    "        # Validate the model\n",
    "        y_val_pred = model.predict(X_val_1)\n",
    "        f1 = f1_score(y_val_1, y_val_pred,average = 'weighted')\n",
    "        print(f\"Validation F1-Score for n_estimators={n_estimators}, learning_rate={learning_rate}, \"\n",
    "              f\"max_depth={max_depth}, num_leaves={num_leaves}, \"\n",
    "              f\"min_child_samples={min_child_samples}, class_weight={class_weight}: {f1:.4f}\")\n",
    "\n",
    "        # Update the best model if current one is better\n",
    "        if f1 > best_f1:\n",
    "            best_f1 = f1\n",
    "            best_model = model\n",
    "            best_params = {\n",
    "                'n_estimators': n_estimators,\n",
    "                'learning_rate': learning_rate,\n",
    "                'max_depth': max_depth,\n",
    "                'num_leaves': num_leaves,\n",
    "                'min_child_samples': min_child_samples,\n",
    "                'class_weight': class_weight\n",
    "            }\n",
    "    except Exception as e:\n",
    "        print(f\"Skipping combination n_estimators={n_estimators}, learning_rate={learning_rate}, \"\n",
    "              f\"max_depth={max_depth}, num_leaves={num_leaves}, \"\n",
    "              f\"min_child_samples={min_child_samples}, class_weight={class_weight} due to error: {e}\")\n",
    "\n",
    "# End timer\n",
    "end_time = time.time()\n",
    "total_time = end_time - start_time\n",
    "\n",
    "# Print the best parameters and F1 score\n",
    "print(\"\\nBest Hyperparameters:\", best_params)\n",
    "print(\"Best Validation F1-Score:\", best_f1)\n",
    "print(f\"Total Parameter Tuning Time: {total_time:.2f} seconds\")"
   ]
  },
  {
   "cell_type": "code",
   "execution_count": 20,
   "metadata": {
    "colab": {
     "base_uri": "https://localhost:8080/",
     "height": 241
    },
    "id": "9v6qFmzHyRoK",
    "outputId": "4f9fd96e-6be6-4c11-bd4e-c3ed4ea30afd"
   },
   "outputs": [
    {
     "name": "stdout",
     "output_type": "stream",
     "text": [
      "[LightGBM] [Info] Number of positive: 21878, number of negative: 9730\n",
      "[LightGBM] [Info] Auto-choosing row-wise multi-threading, the overhead of testing was 6.555659 seconds.\n",
      "You can set `force_row_wise=true` to remove the overhead.\n",
      "And if memory is not enough, you can set `force_col_wise=true`.\n",
      "[LightGBM] [Info] Total Bins 245313\n",
      "[LightGBM] [Info] Number of data points in the train set: 31608, number of used features: 6982\n",
      "[LightGBM] [Info] [binary:BoostFromScore]: pavg=0.692167 -> initscore=0.810268\n",
      "[LightGBM] [Info] Start training from score 0.810268\n"
     ]
    },
    {
     "data": {
      "text/html": [
       "<style>#sk-container-id-3 {\n",
       "  /* Definition of color scheme common for light and dark mode */\n",
       "  --sklearn-color-text: #000;\n",
       "  --sklearn-color-text-muted: #666;\n",
       "  --sklearn-color-line: gray;\n",
       "  /* Definition of color scheme for unfitted estimators */\n",
       "  --sklearn-color-unfitted-level-0: #fff5e6;\n",
       "  --sklearn-color-unfitted-level-1: #f6e4d2;\n",
       "  --sklearn-color-unfitted-level-2: #ffe0b3;\n",
       "  --sklearn-color-unfitted-level-3: chocolate;\n",
       "  /* Definition of color scheme for fitted estimators */\n",
       "  --sklearn-color-fitted-level-0: #f0f8ff;\n",
       "  --sklearn-color-fitted-level-1: #d4ebff;\n",
       "  --sklearn-color-fitted-level-2: #b3dbfd;\n",
       "  --sklearn-color-fitted-level-3: cornflowerblue;\n",
       "\n",
       "  /* Specific color for light theme */\n",
       "  --sklearn-color-text-on-default-background: var(--sg-text-color, var(--theme-code-foreground, var(--jp-content-font-color1, black)));\n",
       "  --sklearn-color-background: var(--sg-background-color, var(--theme-background, var(--jp-layout-color0, white)));\n",
       "  --sklearn-color-border-box: var(--sg-text-color, var(--theme-code-foreground, var(--jp-content-font-color1, black)));\n",
       "  --sklearn-color-icon: #696969;\n",
       "\n",
       "  @media (prefers-color-scheme: dark) {\n",
       "    /* Redefinition of color scheme for dark theme */\n",
       "    --sklearn-color-text-on-default-background: var(--sg-text-color, var(--theme-code-foreground, var(--jp-content-font-color1, white)));\n",
       "    --sklearn-color-background: var(--sg-background-color, var(--theme-background, var(--jp-layout-color0, #111)));\n",
       "    --sklearn-color-border-box: var(--sg-text-color, var(--theme-code-foreground, var(--jp-content-font-color1, white)));\n",
       "    --sklearn-color-icon: #878787;\n",
       "  }\n",
       "}\n",
       "\n",
       "#sk-container-id-3 {\n",
       "  color: var(--sklearn-color-text);\n",
       "}\n",
       "\n",
       "#sk-container-id-3 pre {\n",
       "  padding: 0;\n",
       "}\n",
       "\n",
       "#sk-container-id-3 input.sk-hidden--visually {\n",
       "  border: 0;\n",
       "  clip: rect(1px 1px 1px 1px);\n",
       "  clip: rect(1px, 1px, 1px, 1px);\n",
       "  height: 1px;\n",
       "  margin: -1px;\n",
       "  overflow: hidden;\n",
       "  padding: 0;\n",
       "  position: absolute;\n",
       "  width: 1px;\n",
       "}\n",
       "\n",
       "#sk-container-id-3 div.sk-dashed-wrapped {\n",
       "  border: 1px dashed var(--sklearn-color-line);\n",
       "  margin: 0 0.4em 0.5em 0.4em;\n",
       "  box-sizing: border-box;\n",
       "  padding-bottom: 0.4em;\n",
       "  background-color: var(--sklearn-color-background);\n",
       "}\n",
       "\n",
       "#sk-container-id-3 div.sk-container {\n",
       "  /* jupyter's `normalize.less` sets `[hidden] { display: none; }`\n",
       "     but bootstrap.min.css set `[hidden] { display: none !important; }`\n",
       "     so we also need the `!important` here to be able to override the\n",
       "     default hidden behavior on the sphinx rendered scikit-learn.org.\n",
       "     See: https://github.com/scikit-learn/scikit-learn/issues/21755 */\n",
       "  display: inline-block !important;\n",
       "  position: relative;\n",
       "}\n",
       "\n",
       "#sk-container-id-3 div.sk-text-repr-fallback {\n",
       "  display: none;\n",
       "}\n",
       "\n",
       "div.sk-parallel-item,\n",
       "div.sk-serial,\n",
       "div.sk-item {\n",
       "  /* draw centered vertical line to link estimators */\n",
       "  background-image: linear-gradient(var(--sklearn-color-text-on-default-background), var(--sklearn-color-text-on-default-background));\n",
       "  background-size: 2px 100%;\n",
       "  background-repeat: no-repeat;\n",
       "  background-position: center center;\n",
       "}\n",
       "\n",
       "/* Parallel-specific style estimator block */\n",
       "\n",
       "#sk-container-id-3 div.sk-parallel-item::after {\n",
       "  content: \"\";\n",
       "  width: 100%;\n",
       "  border-bottom: 2px solid var(--sklearn-color-text-on-default-background);\n",
       "  flex-grow: 1;\n",
       "}\n",
       "\n",
       "#sk-container-id-3 div.sk-parallel {\n",
       "  display: flex;\n",
       "  align-items: stretch;\n",
       "  justify-content: center;\n",
       "  background-color: var(--sklearn-color-background);\n",
       "  position: relative;\n",
       "}\n",
       "\n",
       "#sk-container-id-3 div.sk-parallel-item {\n",
       "  display: flex;\n",
       "  flex-direction: column;\n",
       "}\n",
       "\n",
       "#sk-container-id-3 div.sk-parallel-item:first-child::after {\n",
       "  align-self: flex-end;\n",
       "  width: 50%;\n",
       "}\n",
       "\n",
       "#sk-container-id-3 div.sk-parallel-item:last-child::after {\n",
       "  align-self: flex-start;\n",
       "  width: 50%;\n",
       "}\n",
       "\n",
       "#sk-container-id-3 div.sk-parallel-item:only-child::after {\n",
       "  width: 0;\n",
       "}\n",
       "\n",
       "/* Serial-specific style estimator block */\n",
       "\n",
       "#sk-container-id-3 div.sk-serial {\n",
       "  display: flex;\n",
       "  flex-direction: column;\n",
       "  align-items: center;\n",
       "  background-color: var(--sklearn-color-background);\n",
       "  padding-right: 1em;\n",
       "  padding-left: 1em;\n",
       "}\n",
       "\n",
       "\n",
       "/* Toggleable style: style used for estimator/Pipeline/ColumnTransformer box that is\n",
       "clickable and can be expanded/collapsed.\n",
       "- Pipeline and ColumnTransformer use this feature and define the default style\n",
       "- Estimators will overwrite some part of the style using the `sk-estimator` class\n",
       "*/\n",
       "\n",
       "/* Pipeline and ColumnTransformer style (default) */\n",
       "\n",
       "#sk-container-id-3 div.sk-toggleable {\n",
       "  /* Default theme specific background. It is overwritten whether we have a\n",
       "  specific estimator or a Pipeline/ColumnTransformer */\n",
       "  background-color: var(--sklearn-color-background);\n",
       "}\n",
       "\n",
       "/* Toggleable label */\n",
       "#sk-container-id-3 label.sk-toggleable__label {\n",
       "  cursor: pointer;\n",
       "  display: flex;\n",
       "  width: 100%;\n",
       "  margin-bottom: 0;\n",
       "  padding: 0.5em;\n",
       "  box-sizing: border-box;\n",
       "  text-align: center;\n",
       "  align-items: start;\n",
       "  justify-content: space-between;\n",
       "  gap: 0.5em;\n",
       "}\n",
       "\n",
       "#sk-container-id-3 label.sk-toggleable__label .caption {\n",
       "  font-size: 0.6rem;\n",
       "  font-weight: lighter;\n",
       "  color: var(--sklearn-color-text-muted);\n",
       "}\n",
       "\n",
       "#sk-container-id-3 label.sk-toggleable__label-arrow:before {\n",
       "  /* Arrow on the left of the label */\n",
       "  content: \"▸\";\n",
       "  float: left;\n",
       "  margin-right: 0.25em;\n",
       "  color: var(--sklearn-color-icon);\n",
       "}\n",
       "\n",
       "#sk-container-id-3 label.sk-toggleable__label-arrow:hover:before {\n",
       "  color: var(--sklearn-color-text);\n",
       "}\n",
       "\n",
       "/* Toggleable content - dropdown */\n",
       "\n",
       "#sk-container-id-3 div.sk-toggleable__content {\n",
       "  max-height: 0;\n",
       "  max-width: 0;\n",
       "  overflow: hidden;\n",
       "  text-align: left;\n",
       "  /* unfitted */\n",
       "  background-color: var(--sklearn-color-unfitted-level-0);\n",
       "}\n",
       "\n",
       "#sk-container-id-3 div.sk-toggleable__content.fitted {\n",
       "  /* fitted */\n",
       "  background-color: var(--sklearn-color-fitted-level-0);\n",
       "}\n",
       "\n",
       "#sk-container-id-3 div.sk-toggleable__content pre {\n",
       "  margin: 0.2em;\n",
       "  border-radius: 0.25em;\n",
       "  color: var(--sklearn-color-text);\n",
       "  /* unfitted */\n",
       "  background-color: var(--sklearn-color-unfitted-level-0);\n",
       "}\n",
       "\n",
       "#sk-container-id-3 div.sk-toggleable__content.fitted pre {\n",
       "  /* unfitted */\n",
       "  background-color: var(--sklearn-color-fitted-level-0);\n",
       "}\n",
       "\n",
       "#sk-container-id-3 input.sk-toggleable__control:checked~div.sk-toggleable__content {\n",
       "  /* Expand drop-down */\n",
       "  max-height: 200px;\n",
       "  max-width: 100%;\n",
       "  overflow: auto;\n",
       "}\n",
       "\n",
       "#sk-container-id-3 input.sk-toggleable__control:checked~label.sk-toggleable__label-arrow:before {\n",
       "  content: \"▾\";\n",
       "}\n",
       "\n",
       "/* Pipeline/ColumnTransformer-specific style */\n",
       "\n",
       "#sk-container-id-3 div.sk-label input.sk-toggleable__control:checked~label.sk-toggleable__label {\n",
       "  color: var(--sklearn-color-text);\n",
       "  background-color: var(--sklearn-color-unfitted-level-2);\n",
       "}\n",
       "\n",
       "#sk-container-id-3 div.sk-label.fitted input.sk-toggleable__control:checked~label.sk-toggleable__label {\n",
       "  background-color: var(--sklearn-color-fitted-level-2);\n",
       "}\n",
       "\n",
       "/* Estimator-specific style */\n",
       "\n",
       "/* Colorize estimator box */\n",
       "#sk-container-id-3 div.sk-estimator input.sk-toggleable__control:checked~label.sk-toggleable__label {\n",
       "  /* unfitted */\n",
       "  background-color: var(--sklearn-color-unfitted-level-2);\n",
       "}\n",
       "\n",
       "#sk-container-id-3 div.sk-estimator.fitted input.sk-toggleable__control:checked~label.sk-toggleable__label {\n",
       "  /* fitted */\n",
       "  background-color: var(--sklearn-color-fitted-level-2);\n",
       "}\n",
       "\n",
       "#sk-container-id-3 div.sk-label label.sk-toggleable__label,\n",
       "#sk-container-id-3 div.sk-label label {\n",
       "  /* The background is the default theme color */\n",
       "  color: var(--sklearn-color-text-on-default-background);\n",
       "}\n",
       "\n",
       "/* On hover, darken the color of the background */\n",
       "#sk-container-id-3 div.sk-label:hover label.sk-toggleable__label {\n",
       "  color: var(--sklearn-color-text);\n",
       "  background-color: var(--sklearn-color-unfitted-level-2);\n",
       "}\n",
       "\n",
       "/* Label box, darken color on hover, fitted */\n",
       "#sk-container-id-3 div.sk-label.fitted:hover label.sk-toggleable__label.fitted {\n",
       "  color: var(--sklearn-color-text);\n",
       "  background-color: var(--sklearn-color-fitted-level-2);\n",
       "}\n",
       "\n",
       "/* Estimator label */\n",
       "\n",
       "#sk-container-id-3 div.sk-label label {\n",
       "  font-family: monospace;\n",
       "  font-weight: bold;\n",
       "  display: inline-block;\n",
       "  line-height: 1.2em;\n",
       "}\n",
       "\n",
       "#sk-container-id-3 div.sk-label-container {\n",
       "  text-align: center;\n",
       "}\n",
       "\n",
       "/* Estimator-specific */\n",
       "#sk-container-id-3 div.sk-estimator {\n",
       "  font-family: monospace;\n",
       "  border: 1px dotted var(--sklearn-color-border-box);\n",
       "  border-radius: 0.25em;\n",
       "  box-sizing: border-box;\n",
       "  margin-bottom: 0.5em;\n",
       "  /* unfitted */\n",
       "  background-color: var(--sklearn-color-unfitted-level-0);\n",
       "}\n",
       "\n",
       "#sk-container-id-3 div.sk-estimator.fitted {\n",
       "  /* fitted */\n",
       "  background-color: var(--sklearn-color-fitted-level-0);\n",
       "}\n",
       "\n",
       "/* on hover */\n",
       "#sk-container-id-3 div.sk-estimator:hover {\n",
       "  /* unfitted */\n",
       "  background-color: var(--sklearn-color-unfitted-level-2);\n",
       "}\n",
       "\n",
       "#sk-container-id-3 div.sk-estimator.fitted:hover {\n",
       "  /* fitted */\n",
       "  background-color: var(--sklearn-color-fitted-level-2);\n",
       "}\n",
       "\n",
       "/* Specification for estimator info (e.g. \"i\" and \"?\") */\n",
       "\n",
       "/* Common style for \"i\" and \"?\" */\n",
       "\n",
       ".sk-estimator-doc-link,\n",
       "a:link.sk-estimator-doc-link,\n",
       "a:visited.sk-estimator-doc-link {\n",
       "  float: right;\n",
       "  font-size: smaller;\n",
       "  line-height: 1em;\n",
       "  font-family: monospace;\n",
       "  background-color: var(--sklearn-color-background);\n",
       "  border-radius: 1em;\n",
       "  height: 1em;\n",
       "  width: 1em;\n",
       "  text-decoration: none !important;\n",
       "  margin-left: 0.5em;\n",
       "  text-align: center;\n",
       "  /* unfitted */\n",
       "  border: var(--sklearn-color-unfitted-level-1) 1pt solid;\n",
       "  color: var(--sklearn-color-unfitted-level-1);\n",
       "}\n",
       "\n",
       ".sk-estimator-doc-link.fitted,\n",
       "a:link.sk-estimator-doc-link.fitted,\n",
       "a:visited.sk-estimator-doc-link.fitted {\n",
       "  /* fitted */\n",
       "  border: var(--sklearn-color-fitted-level-1) 1pt solid;\n",
       "  color: var(--sklearn-color-fitted-level-1);\n",
       "}\n",
       "\n",
       "/* On hover */\n",
       "div.sk-estimator:hover .sk-estimator-doc-link:hover,\n",
       ".sk-estimator-doc-link:hover,\n",
       "div.sk-label-container:hover .sk-estimator-doc-link:hover,\n",
       ".sk-estimator-doc-link:hover {\n",
       "  /* unfitted */\n",
       "  background-color: var(--sklearn-color-unfitted-level-3);\n",
       "  color: var(--sklearn-color-background);\n",
       "  text-decoration: none;\n",
       "}\n",
       "\n",
       "div.sk-estimator.fitted:hover .sk-estimator-doc-link.fitted:hover,\n",
       ".sk-estimator-doc-link.fitted:hover,\n",
       "div.sk-label-container:hover .sk-estimator-doc-link.fitted:hover,\n",
       ".sk-estimator-doc-link.fitted:hover {\n",
       "  /* fitted */\n",
       "  background-color: var(--sklearn-color-fitted-level-3);\n",
       "  color: var(--sklearn-color-background);\n",
       "  text-decoration: none;\n",
       "}\n",
       "\n",
       "/* Span, style for the box shown on hovering the info icon */\n",
       ".sk-estimator-doc-link span {\n",
       "  display: none;\n",
       "  z-index: 9999;\n",
       "  position: relative;\n",
       "  font-weight: normal;\n",
       "  right: .2ex;\n",
       "  padding: .5ex;\n",
       "  margin: .5ex;\n",
       "  width: min-content;\n",
       "  min-width: 20ex;\n",
       "  max-width: 50ex;\n",
       "  color: var(--sklearn-color-text);\n",
       "  box-shadow: 2pt 2pt 4pt #999;\n",
       "  /* unfitted */\n",
       "  background: var(--sklearn-color-unfitted-level-0);\n",
       "  border: .5pt solid var(--sklearn-color-unfitted-level-3);\n",
       "}\n",
       "\n",
       ".sk-estimator-doc-link.fitted span {\n",
       "  /* fitted */\n",
       "  background: var(--sklearn-color-fitted-level-0);\n",
       "  border: var(--sklearn-color-fitted-level-3);\n",
       "}\n",
       "\n",
       ".sk-estimator-doc-link:hover span {\n",
       "  display: block;\n",
       "}\n",
       "\n",
       "/* \"?\"-specific style due to the `<a>` HTML tag */\n",
       "\n",
       "#sk-container-id-3 a.estimator_doc_link {\n",
       "  float: right;\n",
       "  font-size: 1rem;\n",
       "  line-height: 1em;\n",
       "  font-family: monospace;\n",
       "  background-color: var(--sklearn-color-background);\n",
       "  border-radius: 1rem;\n",
       "  height: 1rem;\n",
       "  width: 1rem;\n",
       "  text-decoration: none;\n",
       "  /* unfitted */\n",
       "  color: var(--sklearn-color-unfitted-level-1);\n",
       "  border: var(--sklearn-color-unfitted-level-1) 1pt solid;\n",
       "}\n",
       "\n",
       "#sk-container-id-3 a.estimator_doc_link.fitted {\n",
       "  /* fitted */\n",
       "  border: var(--sklearn-color-fitted-level-1) 1pt solid;\n",
       "  color: var(--sklearn-color-fitted-level-1);\n",
       "}\n",
       "\n",
       "/* On hover */\n",
       "#sk-container-id-3 a.estimator_doc_link:hover {\n",
       "  /* unfitted */\n",
       "  background-color: var(--sklearn-color-unfitted-level-3);\n",
       "  color: var(--sklearn-color-background);\n",
       "  text-decoration: none;\n",
       "}\n",
       "\n",
       "#sk-container-id-3 a.estimator_doc_link.fitted:hover {\n",
       "  /* fitted */\n",
       "  background-color: var(--sklearn-color-fitted-level-3);\n",
       "}\n",
       "</style><div id=\"sk-container-id-3\" class=\"sk-top-container\"><div class=\"sk-text-repr-fallback\"><pre>LGBMClassifier(importance_type=&#x27;gain&#x27;, min_child_samples=10, n_jobs=-1,\n",
       "               num_leaves=50, random_state=42)</pre><b>In a Jupyter environment, please rerun this cell to show the HTML representation or trust the notebook. <br />On GitHub, the HTML representation is unable to render, please try loading this page with nbviewer.org.</b></div><div class=\"sk-container\" hidden><div class=\"sk-item\"><div class=\"sk-estimator fitted sk-toggleable\"><input class=\"sk-toggleable__control sk-hidden--visually\" id=\"sk-estimator-id-3\" type=\"checkbox\" checked><label for=\"sk-estimator-id-3\" class=\"sk-toggleable__label fitted sk-toggleable__label-arrow\"><div><div>LGBMClassifier</div></div><div><span class=\"sk-estimator-doc-link fitted\">i<span>Fitted</span></span></div></label><div class=\"sk-toggleable__content fitted\"><pre>LGBMClassifier(importance_type=&#x27;gain&#x27;, min_child_samples=10, n_jobs=-1,\n",
       "               num_leaves=50, random_state=42)</pre></div> </div></div></div></div>"
      ],
      "text/plain": [
       "LGBMClassifier(importance_type='gain', min_child_samples=10, n_jobs=-1,\n",
       "               num_leaves=50, random_state=42)"
      ]
     },
     "execution_count": 20,
     "metadata": {},
     "output_type": "execute_result"
    }
   ],
   "source": [
    "LGBM = LGBMClassifier(\n",
    "    n_estimators=100,\n",
    "    learning_rate=0.1,\n",
    "    max_depth=-1,\n",
    "    num_leaves=50,\n",
    "    min_child_samples=10,\n",
    "    class_weight=None,\n",
    "    random_state=42,\n",
    "    n_jobs=-1,\n",
    "    importance_type = \"gain\"\n",
    ")\n",
    "\n",
    "# Train the model\n",
    "LGBM.fit(X_train_1, y_train_1)"
   ]
  },
  {
   "cell_type": "code",
   "execution_count": null,
   "metadata": {
    "colab": {
     "base_uri": "https://localhost:8080/",
     "height": 1000
    },
    "id": "6bSO_00Zyj3R",
    "outputId": "11df4124-d12a-40de-d7a4-caea0de59bbc"
   },
   "outputs": [
    {
     "name": "stdout",
     "output_type": "stream",
     "text": [
      "\n",
      "--- Evaluation Report: LGBM ---\n",
      "\n",
      "Classification Report:\n",
      "              precision    recall  f1-score   support\n",
      "\n",
      "           0       0.90      0.90      0.90      3308\n",
      "           1       0.95      0.95      0.95      7229\n",
      "\n",
      "    accuracy                           0.94     10537\n",
      "   macro avg       0.93      0.93      0.93     10537\n",
      "weighted avg       0.94      0.94      0.94     10537\n",
      "\n",
      "Weighted F1 Score: 0.9362\n",
      "95% CI for F1 Score: [0.9315, 0.9415]\n"
     ]
    },
    {
     "data": {
      "image/png": "[encoded data removed]",
      "text/plain": [
       "<Figure size 600x600 with 2 Axes>"
      ]
     },
     "metadata": {},
     "output_type": "display_data"
    },
    {
     "name": "stdout",
     "output_type": "stream",
     "text": [
      "AUC Score: 0.9802\n",
      "95% CI for AUC: [0.9779, 0.9825]\n"
     ]
    },
    {
     "data": {
      "image/png": "[encoded data removed]",
      "text/plain": [
       "<Figure size 800x600 with 1 Axes>"
      ]
     },
     "metadata": {},
     "output_type": "display_data"
    }
   ],
   "source": [
    "evaluate_model(LGBM, X_test_1, y_test_1, model_name=\"LGBM\", use_proba=True)"
   ]
  },
  {
   "cell_type": "code",
   "execution_count": 21,
   "metadata": {
    "colab": {
     "base_uri": "https://localhost:8080/",
     "height": 607
    },
    "id": "VBVKpyYDlHGF",
    "outputId": "9043ddf7-ac4e-412d-8518-9c433f8bb38c"
   },
   "outputs": [
    {
     "data": {
      "image/png": "[encoded data removed]",
      "text/plain": [
       "<Figure size 800x600 with 1 Axes>"
      ]
     },
     "metadata": {},
     "output_type": "display_data"
    }
   ],
   "source": [
    "import matplotlib.pyplot as plt\n",
    "import seaborn as sns\n",
    "import numpy as np\n",
    "\n",
    "# Ensure the best_model is available after parameter tuning\n",
    "if LGBM is not None:\n",
    "    # Get the feature names from TfidfVectorizer\n",
    "    feature_names = tfidf.get_feature_names_out()\n",
    "\n",
    "    # Get the feature importances from the trained Random Forest model\n",
    "    feature_importance = LGBM.feature_importances_\n",
    "    feature_importance = (feature_importance / feature_importance.max()) * 100\n",
    "\n",
    "    # Map feature importance to feature names\n",
    "    important_features = sorted(\n",
    "        zip(feature_importance, feature_names),\n",
    "        key=lambda x: x[0],\n",
    "        reverse=True\n",
    "    )\n",
    "\n",
    "    # Select top N features\n",
    "    top_n = 20\n",
    "    top_features = important_features[:top_n]\n",
    "    importances, names = zip(*top_features)\n",
    "\n",
    "    # Reverse for horizontal bar plot\n",
    "    importances = importances[::-1]\n",
    "    names = names[::-1]\n",
    "\n",
    "    # Plot\n",
    "    plt.figure(figsize=(8, 6))\n",
    "    sns.set_style(\"whitegrid\")\n",
    "    sns.barplot(x=importances, y=names, palette=\"viridis\")\n",
    "\n",
    "    plt.title(\"Top 20 Important Features (LGBM)\", fontsize=14, fontweight='bold')\n",
    "    plt.xlabel(\"Relative Importance (%)\", fontsize=12)\n",
    "    plt.ylabel(\"TF-IDF Feature\", fontsize=12)\n",
    "    plt.xticks(fontsize=10)\n",
    "    plt.yticks(fontsize=10)\n",
    "    plt.tight_layout()\n",
    "\n",
    "    # Save high-res for paper\n",
    "    plt.savefig(\"top_features_lgbm.png\", dpi=300)\n",
    "    plt.show()\n",
    "else:\n",
    "    print(\"No model was trained successfully. Unable to display feature importance.\")\n"
   ]
  },
  {
   "cell_type": "markdown",
   "metadata": {
    "id": "FEX8CIK8TUe6"
   },
   "source": [
    "## 3.2  DL Models\n"
   ]
  },
  {
   "cell_type": "code",
   "execution_count": null,
   "metadata": {
    "colab": {
     "base_uri": "https://localhost:8080/"
    },
    "id": "MLzu2wsNDB4s",
    "outputId": "6d3b4238-b85e-42d3-f23a-9c92e1ae2b38"
   },
   "outputs": [
    {
     "data": {
      "text/plain": [
       "device(type='cuda')"
      ]
     },
     "execution_count": 16,
     "metadata": {},
     "output_type": "execute_result"
    }
   ],
   "source": [
    "import pandas as pd\n",
    "import numpy as np\n",
    "from sklearn.model_selection import train_test_split\n",
    "from sklearn.utils.class_weight import compute_class_weight\n",
    "from sklearn.metrics import classification_report, confusion_matrix, roc_curve, auc\n",
    "import torch\n",
    "from transformers import AlbertTokenizer, AlbertForSequenceClassification, Trainer, TrainingArguments\n",
    "import matplotlib.pyplot as plt\n",
    "import seaborn as sns\n",
    "import pandas as pd\n",
    "import torch\n",
    "from torch.utils.data import Dataset, DataLoader\n",
    "from transformers import AlbertTokenizer, AlbertForSequenceClassification\n",
    "from transformers import DistilBertTokenizer, DistilBertForSequenceClassification\n",
    "from torch.optim import AdamW\n",
    "from sklearn.model_selection import train_test_split\n",
    "from sklearn.metrics import accuracy_score, classification_report\n",
    "from tqdm import tqdm\n",
    "from collections import Counter\n",
    "import torch\n",
    "from torch import nn\n",
    "from torch.utils.data import Dataset, DataLoader\n",
    "from sklearn.model_selection import train_test_split\n",
    "from sklearn.metrics import accuracy_score, classification_report, confusion_matrix, roc_curve, auc\n",
    "import matplotlib.pyplot as plt\n",
    "import seaborn as sns\n",
    "from tqdm import tqdm\n",
    "device = torch.device('cuda' if torch.cuda.is_available() else 'cpu')\n",
    "device"
   ]
  },
  {
   "cell_type": "markdown",
   "metadata": {
    "id": "oCvQeFdW2EpS"
   },
   "source": [
    "### Compare performance with Stats Test\n"
   ]
  },
  {
   "cell_type": "code",
   "execution_count": null,
   "metadata": {
    "colab": {
     "base_uri": "https://localhost:8080/"
    },
    "id": "FE3wTD8R2Jmn",
    "outputId": "d6b2b53c-bdbc-4484-f0aa-c6286732ad55"
   },
   "outputs": [
    {
     "name": "stdout",
     "output_type": "stream",
     "text": [
      "\n",
      "--- McNemar’s Test: SVM vs LGBM ---\n",
      "Statistic = 6.7522, p-value = 0.0094\n",
      "=> Significant difference.\n"
     ]
    }
   ],
   "source": [
    "from statsmodels.stats.contingency_tables import mcnemar\n",
    "from sklearn.metrics import accuracy_score\n",
    "import numpy as np\n",
    "\n",
    "def run_mcnemar_test(y_true, y_pred_1, y_pred_2, model_1_name=\"Model 1\", model_2_name=\"Model 2\"):\n",
    "    assert len(y_true) == len(y_pred_1) == len(y_pred_2), \"Length mismatch.\"\n",
    "\n",
    "    # Create contingency table\n",
    "    both_correct = np.sum((y_pred_1 == y_true) & (y_pred_2 == y_true))\n",
    "    model1_correct = np.sum((y_pred_1 == y_true) & (y_pred_2 != y_true))\n",
    "    model2_correct = np.sum((y_pred_1 != y_true) & (y_pred_2 == y_true))\n",
    "    both_wrong = np.sum((y_pred_1 != y_true) & (y_pred_2 != y_true))\n",
    "\n",
    "    table = [[both_correct, model2_correct],\n",
    "             [model1_correct, both_wrong]]\n",
    "\n",
    "    result = mcnemar(table, exact=False, correction=True)\n",
    "    print(f\"\\n--- McNemar’s Test: {model_1_name} vs {model_2_name} ---\")\n",
    "    print(f\"Statistic = {result.statistic:.4f}, p-value = {result.pvalue:.4f}\")\n",
    "    if result.pvalue < 0.05:\n",
    "        print(\"=> Significant difference.\")\n",
    "    else:\n",
    "        print(\"=> No significant difference.\")\n",
    "SVM_preds = SVM.predict(X_test_1)\n",
    "LGBM_preds = LGBM.predict(X_test_1)\n",
    "run_mcnemar_test(y_test_1, SVM_preds, LGBM_preds, \"SVM\", \"LGBM\")\n",
    "\n",
    "\n"
   ]
  },
  {
   "cell_type": "code",
   "execution_count": null,
   "metadata": {
    "id": "eNx5qFot4v6Z"
   },
   "outputs": [],
   "source": [
    "RandomForest_preds = RandomForest.predict(X_test_1)\n",
    "LR_preds = LR.predict(X_test_1)"
   ]
  },
  {
   "cell_type": "markdown",
   "metadata": {
    "id": "qzNU0z_-i8H_"
   },
   "source": [
    "### 3.2.1 ALBERT"
   ]
  },
  {
   "cell_type": "code",
   "execution_count": null,
   "metadata": {
    "id": "lOEPL9wUBgRo"
   },
   "outputs": [],
   "source": [
    "#make a copy especially for ALBERT\n",
    "df2 = df.copy()"
   ]
  },
  {
   "cell_type": "code",
   "execution_count": null,
   "metadata": {
    "id": "Xf8tCnt8DFH-"
   },
   "outputs": [],
   "source": [
    "# Pre-processing for ALBERT\n",
    "def clean_text_Albert(text):\n",
    "    text = text.lower()  # Convert to lowercase\n",
    "    text = re.sub(r\"http\\S+\", \"<URL>\", text)  # Replace URLs with <URL>\n",
    "    text = re.sub(r\"@\\w+\", \"<USER>\", text)   # Replace mentions with <USER>\n",
    "    text = re.sub(r\"#\\w+\", \"<HASHTAG>\", text)  # Replace hashtags with <HASHTAG>\n",
    "    text = re.sub(r\"[^\\w\\s]\", \"\", text)      # Remove special characters\n",
    "    text = re.sub(r\"\\s+\", \" \", text)         # Normalize whitespace\n",
    "    return text.strip()\n",
    "\n",
    "df2['statement'] = df2['statement'].apply(clean_text_Albert)"
   ]
  },
  {
   "cell_type": "markdown",
   "metadata": {
    "id": "x-YJ64ZLEatB"
   },
   "source": [
    "Pre-processing is minimal for ALBERT,\n",
    "\n",
    "Not Required:\n",
    "\n",
    "Stopword Removal:\\\n",
    "ALBERT learns word importance from context, so stopwords (e.g., \"the\", \"is\") should remain.\n",
    "\n",
    "Lemmatization:\\\n",
    "Transformer models like ALBERT are context-aware and already handle semantic relationships between words like \"running\", \"ran\", and \"run\". Lemmatization or stemming can be skipped.\n",
    "\n",
    "\n",
    "\n",
    "Punctuation Removal:\\\n",
    "Do not remove punctuation, as it can change the meaning of sentences (e.g., \"I’m fine.\" vs. \"I’m fine!\"). But when we use traditional model with TF-IDF, removing punctuation helps reduce noises.\\\n",
    "\n",
    "Tokenization:\\\n",
    "ALBERT's tokenizer handles tokenization internally, splitting text into subword units (WordPiece tokens).\n"
   ]
  },
  {
   "cell_type": "code",
   "execution_count": null,
   "metadata": {
    "colab": {
     "base_uri": "https://localhost:8080/",
     "height": 145,
     "referenced_widgets": [
      "1e0a00a3a97e4d2c9d9a8433d51600bc",
      "2fd5de5066b7487a9e4e986f1831c98b",
      "6e1c62a8e40a4cdeb99279cc215c2796",
      "53569aa76b5648e384f7c9ab645efa4a",
      "ba024f84a64f4fa884cf3c4af5331305",
      "9b9ea54192bb489c9614eb557fa3d634",
      "11229c85a5214bb28a0214f092f77a75",
      "3ac49eed20fd4bb0aceeca34c14d56ab",
      "1bccd08c29de4182b561e0faed603c05",
      "b55ade64ece24b51b8c470eaab958f74",
      "509bc44ef4384102936ab4ac72ae0c13",
      "f90cdfca1ff14eb38bc7675dbaab7f16",
      "04b6bda63dfe479b8f1f7350dbaa81ac",
      "ea872e608f514febb9ebc382bb6b417a",
      "4157168e8790429380f76460a68c3e25",
      "c3ce9ec3df764b41a8123f366c03a3b1",
      "df644fdb89664f9596ed9f476335d95e",
      "629228b3854345b09060636ca068f441",
      "d3c21a1a11c64375940e9e465628906e",
      "87065f9bbf0c4c2e9c31d4e674481b6d",
      "0fd6c490b68c4a47932ab3d7065d743c",
      "4a157647910a402898c990ebc184f6d0",
      "59961236a69845eabc9aa7ea054c7c6a",
      "df4745b2b2b547f4b4862b4df5f2d2a2",
      "b1341afcab3c4ab59ce00bee18589ce1",
      "486aacbe78f842a4b8722655ffaaffc1",
      "aaf64ed379ea496b9d24a00a3c8208e2",
      "80b7593d668247bf9c0311db70c4470c",
      "55fedff7a1b345d39d31411793648359",
      "8cad3f0079084ca09a5f180616cc5de9",
      "cfa24088aa3949a386d74fe83c5a8b12",
      "718a73c13c39468db76631cebb547a15",
      "82b9018125cf4d7bb3dc42a274362dc6",
      "00b9f004fbe04a2582024e0273a35e20",
      "d96e95f562124e72bb38cfdcb167674a",
      "2a9850f3fae84590bc555055011f1581",
      "b7226253629642ec9883f2bcf55e8cfe",
      "e66ee7573e2343ed907c0448a5ebcc46",
      "6433f60c37f5459399dc66926aa11887",
      "e8e55fa54edd443b9ff42edcf78923d4",
      "1bdc57a178e8401ea067e40fa5e2a65f",
      "4117ced9d2cb4190af92d8b93264b460",
      "8fa1917914754e49931e13611cecd953",
      "e7a855894ee541029bdbf20b3b378d01"
     ]
    },
    "id": "mhbAvfzVi7Ph",
    "outputId": "8f4d5a28-012b-4337-ae04-8292be648cbd"
   },
   "outputs": [
    {
     "data": {
      "application/vnd.jupyter.widget-view+json": {
       "model_id": "1e0a00a3a97e4d2c9d9a8433d51600bc",
       "version_major": 2,
       "version_minor": 0
      },
      "text/plain": [
       "tokenizer_config.json:   0%|          | 0.00/25.0 [00:00<?, ?B/s]"
      ]
     },
     "metadata": {},
     "output_type": "display_data"
    },
    {
     "data": {
      "application/vnd.jupyter.widget-view+json": {
       "model_id": "f90cdfca1ff14eb38bc7675dbaab7f16",
       "version_major": 2,
       "version_minor": 0
      },
      "text/plain": [
       "spiece.model:   0%|          | 0.00/760k [00:00<?, ?B/s]"
      ]
     },
     "metadata": {},
     "output_type": "display_data"
    },
    {
     "data": {
      "application/vnd.jupyter.widget-view+json": {
       "model_id": "59961236a69845eabc9aa7ea054c7c6a",
       "version_major": 2,
       "version_minor": 0
      },
      "text/plain": [
       "tokenizer.json:   0%|          | 0.00/1.31M [00:00<?, ?B/s]"
      ]
     },
     "metadata": {},
     "output_type": "display_data"
    },
    {
     "data": {
      "application/vnd.jupyter.widget-view+json": {
       "model_id": "00b9f004fbe04a2582024e0273a35e20",
       "version_major": 2,
       "version_minor": 0
      },
      "text/plain": [
       "config.json:   0%|          | 0.00/684 [00:00<?, ?B/s]"
      ]
     },
     "metadata": {},
     "output_type": "display_data"
    }
   ],
   "source": [
    "# Initial train-test split: 60% train, 20% test, 20% validation\n",
    "train_texts_2, test_texts_2, train_labels_2, test_labels_2 = train_test_split(\n",
    "    df2['statement'].tolist(), df2['status'].tolist(), test_size=0.2, random_state=42\n",
    ")\n",
    "train_texts_2, val_texts_2, train_labels_2, val_labels_2 = train_test_split(\n",
    "    train_texts_2, train_labels_2, test_size=0.25, random_state=42  # 0.25 * 0.8 = 0.2 of original data\n",
    ")\n",
    "\n",
    "\n",
    "#Prepare the data for the model\n",
    "# Load tokenizer\n",
    "tokenizer = AlbertTokenizer.from_pretrained('albert-base-v2')\n",
    "max_len = 200\n",
    "\n",
    "# Create Dataset objects\n",
    "class SentimentDataset(Dataset):\n",
    "    def __init__(self, texts, labels, tokenizer, max_len):\n",
    "        self.texts = list(texts)  # Ensure texts is a list of strings\n",
    "        self.labels = labels\n",
    "        self.tokenizer = tokenizer\n",
    "        self.max_len = max_len\n",
    "\n",
    "    def __len__(self):\n",
    "        return len(self.labels)\n",
    "\n",
    "    def __getitem__(self, idx):\n",
    "        text = str(self.texts[idx])  # Ensure each text is a string\n",
    "        label = self.labels[idx]\n",
    "        encoding = self.tokenizer(\n",
    "            text,\n",
    "            truncation=True,\n",
    "            padding='max_length',\n",
    "            max_length=self.max_len,\n",
    "            return_tensors=\"pt\"\n",
    "        )\n",
    "        return {\n",
    "            'input_ids': encoding['input_ids'].squeeze(0),\n",
    "            'attention_mask': encoding['attention_mask'].squeeze(0),\n",
    "            'label': torch.tensor(label, dtype=torch.long)\n",
    "        }\n",
    "\n",
    "train_dataset_2 = SentimentDataset(train_texts_2, train_labels_2, tokenizer,max_len)\n",
    "test_dataset_2 = SentimentDataset(test_texts_2, test_labels_2, tokenizer,max_len)\n",
    "val_dataset_2 = SentimentDataset(val_texts_2,val_labels_2,tokenizer,max_len)\n",
    "\n",
    "\n",
    "# Create DataLoaders\n",
    "train_loader_2 = DataLoader(train_dataset_2, batch_size=4, shuffle=True)\n",
    "val_loader_2 = DataLoader(val_dataset_2,batch_size = 4)\n",
    "test_loader_2 = DataLoader(test_dataset_2, batch_size=4)"
   ]
  },
  {
   "cell_type": "code",
   "execution_count": null,
   "metadata": {
    "id": "8Ei25w3f7V3D"
   },
   "outputs": [],
   "source": [
    "random.seed(1234)\n",
    "\n",
    "def random_hyperparameter_tuning(train_texts, train_labels, val_texts, val_labels, tokenizer, n_iter=10):\n",
    "    # Define hyperparameter ranges\n",
    "    param_space = {\n",
    "        'lr': (np.log10(1e-5), np.log10(1e-4)),              # Learning rate range\n",
    "        'epochs': (3, 5),                # Epoch range\n",
    "        'dropout': (0.1, 0.5)           # Dropout rate range\n",
    "    }\n",
    "\n",
    "    best_f1 = 0\n",
    "    best_params = None\n",
    "    best_model = None\n",
    "\n",
    "    # Compute class weights for class imbalance\n",
    "    class_weights = compute_class_weight(class_weight='balanced', classes=np.unique(train_labels), y=train_labels)\n",
    "    class_weights = torch.tensor(class_weights, dtype=torch.float).to(device)\n",
    "\n",
    "    # Progress bar for random search iterations\n",
    "    with tqdm(total=n_iter, desc=\"Random Search Tuning\", leave=True) as pbar:\n",
    "        for _ in range(n_iter):\n",
    "            # Randomly sample hyperparameters\n",
    "            hyperparams = {\n",
    "                'lr': 10**np.random.uniform(*param_space['lr']),\n",
    "                'epochs': np.random.randint(*param_space['epochs']),\n",
    "                'dropout': np.random.uniform(*param_space['dropout'])\n",
    "            }\n",
    "\n",
    "            # Initialize model with dropout\n",
    "            model = AlbertForSequenceClassification.from_pretrained(\n",
    "                'albert-base-v2',\n",
    "                num_labels=2,\n",
    "                hidden_dropout_prob=hyperparams['dropout']\n",
    "            ).to(device)\n",
    "\n",
    "            optimizer = AdamW(model.parameters(), lr=hyperparams['lr'])\n",
    "            criterion = torch.nn.CrossEntropyLoss(weight=class_weights)\n",
    "\n",
    "            # Training loop\n",
    "            for epoch in range(hyperparams['epochs']):\n",
    "                model.train()\n",
    "                for batch in train_loader_2:\n",
    "                    input_ids = batch['input_ids'].to(device)\n",
    "                    attention_mask = batch['attention_mask'].to(device)\n",
    "                    labels = batch['label'].to(device)\n",
    "\n",
    "                    optimizer.zero_grad()\n",
    "                    outputs = model(input_ids, attention_mask=attention_mask)\n",
    "                    loss = criterion(outputs.logits, labels)\n",
    "                    loss.backward()\n",
    "                    optimizer.step()\n",
    "\n",
    "            # Validation evaluation\n",
    "            model.eval()\n",
    "            val_predictions, val_labels_batch = [], []\n",
    "            with torch.no_grad():\n",
    "                for batch in val_loader_2:\n",
    "                    input_ids = batch['input_ids'].to(device)\n",
    "                    attention_mask = batch['attention_mask'].to(device)\n",
    "                    labels = batch['label'].to(device)\n",
    "\n",
    "                    outputs = model(input_ids, attention_mask=attention_mask)\n",
    "                    preds = torch.argmax(outputs.logits, dim=1)\n",
    "                    val_predictions.extend(preds.cpu().numpy())\n",
    "                    val_labels_batch.extend(labels.cpu().numpy())\n",
    "\n",
    "            # Calculate F1-score\n",
    "            f1 = f1_score(val_labels_batch, val_predictions, average='weighted')\n",
    "            accuracy = accuracy_score(val_labels_batch, val_predictions)\n",
    "\n",
    "            # Update best model\n",
    "            if f1 > best_f1:\n",
    "                best_f1 = f1\n",
    "                best_params = hyperparams\n",
    "                best_model = model\n",
    "                # Save the best model\n",
    "                model_save_path = \"best_albert_model.pth\"\n",
    "                torch.save(model.state_dict(), model_save_path)\n",
    "\n",
    "            # Update progress bar\n",
    "            pbar.set_postfix(f1=f1, accuracy=accuracy)\n",
    "            pbar.update(1)\n",
    "\n",
    "    print(f\"Best F1 Score: {best_f1:.4f}\")\n",
    "    print(f\"Best Hyperparameters: {best_params}\")\n",
    "    return best_params, best_f1, best_model\n",
    "\n",
    "#Start timer\n",
    "start_time = time.time()\n",
    "best_params, best_f1, best_model = random_hyperparameter_tuning(\n",
    "    train_texts=train_texts_2,\n",
    "    train_labels=train_labels_2,\n",
    "    val_texts=val_texts_2,\n",
    "    val_labels=val_labels_2,\n",
    "    tokenizer=tokenizer,\n",
    "    n_iter=10\n",
    ")\n",
    "# End timer\n",
    "end_time = time.time()\n",
    "total_time = end_time - start_time\n",
    "print(f\"Total Parameter Tuning Time: {total_time:.2f} seconds\")"
   ]
  },
  {
   "cell_type": "code",
   "execution_count": null,
   "metadata": {
    "colab": {
     "base_uri": "https://localhost:8080/"
    },
    "id": "1tdAC4wixTD_",
    "outputId": "c32057b3-8e33-41db-b824-f4c96561b131"
   },
   "outputs": [
    {
     "name": "stderr",
     "output_type": "stream",
     "text": [
      "Some weights of AlbertForSequenceClassification were not initialized from the model checkpoint at albert-base-v2 and are newly initialized: ['classifier.bias', 'classifier.weight']\n",
      "You should probably TRAIN this model on a down-stream task to be able to use it for predictions and inference.\n"
     ]
    },
    {
     "name": "stdout",
     "output_type": "stream",
     "text": [
      "Test F-1 Score: 0.9650, Test Accuracy: 0.9650\n"
     ]
    }
   ],
   "source": [
    "import torch\n",
    "from transformers import AlbertTokenizer, AlbertForSequenceClassification\n",
    "from sklearn.metrics import f1_score, accuracy_score\n",
    "\n",
    "# Setup\n",
    "device = torch.device(\"cuda\" if torch.cuda.is_available() else \"cpu\")\n",
    "\n",
    "# Load model and tokenizer with the same config as during training\n",
    "model = AlbertForSequenceClassification.from_pretrained(\"albert-base-v2\", num_labels=2)\n",
    "model.load_state_dict(torch.load(\"best_albert_binary_model.pth\", map_location=device))\n",
    "model.to(device)\n",
    "\n",
    "tokenizer = AlbertTokenizer.from_pretrained(\"albert-base-v2\")\n",
    "\n",
    "# Evaluation\n",
    "model.eval()\n",
    "test_predictions_albert, test_labels_batch_albert, test_probabilities_albert = [], [], []\n",
    "\n",
    "with torch.no_grad():\n",
    "    for batch in test_loader_2:\n",
    "        input_ids = batch['input_ids'].to(device)\n",
    "        attention_mask = batch['attention_mask'].to(device)\n",
    "        labels = batch['label'].to(device)\n",
    "\n",
    "        outputs = model(input_ids, attention_mask=attention_mask)\n",
    "        preds = torch.argmax(outputs.logits, dim=1)\n",
    "\n",
    "        test_predictions_albert.extend(preds.cpu().numpy())\n",
    "        test_labels_batch_albert.extend(labels.cpu().numpy())\n",
    "        probs = torch.softmax(outputs.logits, dim=1)[:, 1]\n",
    "        test_probabilities_albert.extend(probs.cpu().numpy())\n",
    "\n",
    "# Metrics\n",
    "test_f1 = f1_score(test_labels_batch_albert, test_predictions_albert, average='weighted')\n",
    "test_accuracy = accuracy_score(test_labels_batch_albert, test_predictions_albert)\n",
    "\n",
    "print(f\"Test F-1 Score: {test_f1:.4f}, Test Accuracy: {test_accuracy:.4f}\")"
   ]
  },
  {
   "cell_type": "code",
   "execution_count": null,
   "metadata": {
    "id": "ZoRSjmyvycUF"
   },
   "outputs": [],
   "source": [
    "def evaluate_pytorch_model(model, test_loader, device, model_name=\"DL Model\", num_classes=2, use_attention_mask=True):\n",
    "    model.eval()\n",
    "    model.to(device)\n",
    "\n",
    "    all_preds = []\n",
    "    all_probs = []\n",
    "    all_labels = []\n",
    "\n",
    "    with torch.no_grad():\n",
    "        for batch in test_loader:\n",
    "            input_ids = batch['input_ids'].to(device)\n",
    "            labels = batch['label'].to(device)\n",
    "\n",
    "            # Transformer: with attention mask\n",
    "            if use_attention_mask:\n",
    "                attention_mask = batch['attention_mask'].to(device)\n",
    "                outputs = model(input_ids, attention_mask=attention_mask)\n",
    "            else:\n",
    "                outputs = model(input_ids)\n",
    "\n",
    "            logits = outputs.logits if hasattr(outputs, 'logits') else outputs\n",
    "            probs = torch.softmax(logits, dim=1)\n",
    "            preds = torch.argmax(probs, dim=1)\n",
    "\n",
    "            all_preds.extend(preds.cpu().numpy())\n",
    "            all_probs.extend(probs.cpu().numpy())\n",
    "            all_labels.extend(labels.cpu().numpy())\n",
    "\n",
    "    all_preds = np.array(all_preds)\n",
    "    all_labels = np.array(all_labels)\n",
    "    all_probs = np.array(all_probs)\n",
    "\n",
    "    if num_classes == 2:\n",
    "        positive_probs = all_probs[:, 1]\n",
    "    else:\n",
    "        positive_probs = None\n",
    "\n",
    "    acc = accuracy_score(all_labels, all_preds)\n",
    "    f1 = f1_score(all_labels, all_preds, average='weighted')\n",
    "    print(f\"\\n--- Evaluation Report: {model_name} ---\")\n",
    "    print(f\"Accuracy: {acc:.4f}\")\n",
    "    print(f\"Weighted F1 Score: {f1:.4f}\")\n",
    "\n",
    "    # F1 CI\n",
    "    f1_scores = []\n",
    "    for _ in range(1000):\n",
    "        idx = resample(np.arange(len(all_labels)))\n",
    "        if len(np.unique(all_labels[idx])) < 2:\n",
    "            continue\n",
    "        f1_bs = f1_score(all_labels[idx], all_preds[idx], average='weighted')\n",
    "        f1_scores.append(f1_bs)\n",
    "    print(f\"95% CI for F1 Score: [{np.percentile(f1_scores, 2.5):.4f}, {np.percentile(f1_scores, 97.5):.4f}]\")\n",
    "\n",
    "    # Confusion matrix\n",
    "    conf_matrix = confusion_matrix(all_labels, all_preds)\n",
    "    plt.figure(figsize=(6, 6))\n",
    "    sns.heatmap(conf_matrix, annot=True, fmt='d', cmap='Blues')\n",
    "    plt.xlabel(\"Predicted\")\n",
    "    plt.ylabel(\"Actual\")\n",
    "    plt.title(f\"Confusion Matrix - {model_name}\")\n",
    "    plt.show()\n",
    "\n",
    "    # ROC\n",
    "    if num_classes == 2:\n",
    "        fpr, tpr, _ = roc_curve(all_labels, positive_probs)\n",
    "        roc_auc = auc(fpr, tpr)\n",
    "\n",
    "        auc_scores = []\n",
    "        for _ in range(1000):\n",
    "            idx = resample(np.arange(len(all_labels)))\n",
    "            if len(np.unique(all_labels[idx])) < 2:\n",
    "                continue\n",
    "            fpr_bs, tpr_bs, _ = roc_curve(all_labels[idx], positive_probs[idx])\n",
    "            auc_scores.append(auc(fpr_bs, tpr_bs))\n",
    "        print(f\"AUC: {roc_auc:.4f}\")\n",
    "        print(f\"95% CI for AUC: [{np.percentile(auc_scores, 2.5):.4f}, {np.percentile(auc_scores, 97.5):.4f}]\")\n",
    "\n",
    "        plt.figure(figsize=(8, 6))\n",
    "        plt.plot(fpr, tpr, label=f\"AUC = {roc_auc:.2f}\")\n",
    "        plt.plot([0, 1], [0, 1], linestyle='--', color='gray')\n",
    "        plt.xlabel(\"False Positive Rate\")\n",
    "        plt.ylabel(\"True Positive Rate\")\n",
    "        plt.title(f\"ROC Curve - {model_name}\")\n",
    "        plt.legend(loc='lower right')\n",
    "        plt.show()\n"
   ]
  },
  {
   "cell_type": "code",
   "execution_count": null,
   "metadata": {
    "colab": {
     "base_uri": "https://localhost:8080/",
     "height": 1000
    },
    "id": "NA_OU_qnz20n",
    "outputId": "c6c3dbe0-0f9a-4309-e4e4-9bdb23cc7e3d"
   },
   "outputs": [
    {
     "name": "stderr",
     "output_type": "stream",
     "text": [
      "Some weights of AlbertForSequenceClassification were not initialized from the model checkpoint at albert-base-v2 and are newly initialized: ['classifier.bias', 'classifier.weight']\n",
      "You should probably TRAIN this model on a down-stream task to be able to use it for predictions and inference.\n"
     ]
    },
    {
     "name": "stdout",
     "output_type": "stream",
     "text": [
      "\n",
      "--- Evaluation Report: ALBERT ---\n",
      "Accuracy: 0.9650\n",
      "Weighted F1 Score: 0.9650\n",
      "95% CI for F1 Score: [0.9613, 0.9685]\n"
     ]
    },
    {
     "data": {
      "image/png": "[encoded data removed]",
      "text/plain": [
       "<Figure size 600x600 with 2 Axes>"
      ]
     },
     "metadata": {},
     "output_type": "display_data"
    },
    {
     "name": "stdout",
     "output_type": "stream",
     "text": [
      "AUC: 0.9928\n",
      "95% CI for AUC: [0.9916, 0.9941]\n"
     ]
    },
    {
     "data": {
      "image/png": "[encoded data removed]",
      "text/plain": [
       "<Figure size 800x600 with 1 Axes>"
      ]
     },
     "metadata": {},
     "output_type": "display_data"
    }
   ],
   "source": [
    "albert = AlbertForSequenceClassification.from_pretrained(\"albert-base-v2\", num_labels=2)\n",
    "albert.load_state_dict(torch.load(\"best_albert_binary_model.pth\", map_location=device))\n",
    "albert.to(device)\n",
    "evaluate_pytorch_model(albert, test_loader_2, device, model_name=\"ALBERT\", num_classes=2, use_attention_mask=True)\n"
   ]
  },
  {
   "cell_type": "code",
   "execution_count": null,
   "metadata": {
    "colab": {
     "base_uri": "https://localhost:8080/"
    },
    "id": "IrEmiykpJMnz",
    "outputId": "5a6f8add-f773-40c3-c003-4aa581a86ffd"
   },
   "outputs": [
    {
     "name": "stdout",
     "output_type": "stream",
     "text": [
      "Test F-1 Score: 0.9566, Test Accuracy: 0.9565\n"
     ]
    }
   ],
   "source": [
    "best_model = model\n",
    "best_model.to(device)\n",
    "\n",
    "# Initialize lists to store predictions and labels\n",
    "test_predictions, test_labels_batch, test_probabilities = [], [], []\n",
    "\n",
    "# Set the model to evaluation mode\n",
    "best_model.eval()\n",
    "\n",
    "# Perform evaluation\n",
    "with torch.no_grad():\n",
    "    for batch in test_loader_2:\n",
    "        input_ids = batch['input_ids'].to(device)\n",
    "        attention_mask = batch['attention_mask'].to(device)\n",
    "        labels = batch['label'].to(device)\n",
    "\n",
    "        # Forward pass\n",
    "        outputs = best_model(input_ids, attention_mask=attention_mask)\n",
    "\n",
    "        # Predicted labels\n",
    "        preds = torch.argmax(outputs.logits, dim=1)\n",
    "        test_predictions.extend(preds.cpu().numpy())\n",
    "\n",
    "        # True labels\n",
    "        test_labels_batch.extend(labels.cpu().numpy())\n",
    "\n",
    "        # Probabilities for class 1\n",
    "        probs = torch.softmax(outputs.logits, dim=1)[:, 1]\n",
    "        test_probabilities.extend(probs.cpu().numpy())\n",
    "\n",
    "# Calculate F1 Score and Accuracy\n",
    "test_f1 = f1_score(test_labels_batch, test_predictions, average='weighted')\n",
    "test_accuracy = accuracy_score(test_labels_batch, test_predictions)\n",
    "\n",
    "print(f\"Test F-1 Score: {test_f1:.4f}, Test Accuracy: {test_accuracy:.4f}\")"
   ]
  },
  {
   "cell_type": "markdown",
   "metadata": {
    "id": "kqpnRHGhjAoN"
   },
   "source": [
    "### 3.2.2 GRU"
   ]
  },
  {
   "cell_type": "code",
   "execution_count": null,
   "metadata": {
    "id": "haolyiMKKYjB"
   },
   "outputs": [],
   "source": [
    "#copy for GRU\n",
    "df3 = df.copy()"
   ]
  },
  {
   "cell_type": "code",
   "execution_count": null,
   "metadata": {
    "id": "OybvhU51KWX-"
   },
   "outputs": [],
   "source": [
    "# Pre-processing for GRU - still minimal\n",
    "def clean_text_GRU(text):\n",
    "    text = text.lower()  # Convert to lowercase\n",
    "    text = re.sub(r\"http\\S+\", \"<URL>\", text)  # Replace URLs\n",
    "    text = re.sub(r\"@\\w+\", \"<USER>\", text)   # Replace mentions\n",
    "    text = re.sub(r\"#\\w+\", \"<HASHTAG>\", text)  # Replace hashtags\n",
    "    text = re.sub(r\"[^\\w\\s]\", \"\", text)      # Remove special characters\n",
    "    text = re.sub(r\"\\s+\", \" \", text)         # Normalize whitespace\n",
    "    return text.strip()\n",
    "\n",
    "df3['statement'] = df3['statement'].apply(clean_text_GRU)"
   ]
  },
  {
   "cell_type": "code",
   "execution_count": null,
   "metadata": {
    "id": "UVnCvuKmi7e9"
   },
   "outputs": [],
   "source": [
    "# Hyperparameters\n",
    "from collections import Counter\n",
    "MAX_LEN = 200  # Maximum sequence length\n",
    "VOCAB_SIZE = 10000  # Vocabulary size\n",
    "BATCH_SIZE = 16\n",
    "\n",
    "# Split Dataset\n",
    "# Initial train-test split\n",
    "train_texts_3, test_texts_3, train_labels_3, test_labels_3 = train_test_split(\n",
    "    df3['statement'].tolist(), df3['status'].tolist(), test_size=0.2, random_state=42\n",
    ")\n",
    "# Further split training data into training and validation sets\n",
    "train_texts_3, val_texts_3, train_labels_3, val_labels_3 = train_test_split(\n",
    "    train_texts_3, train_labels_3, test_size=0.25, random_state=42  # 0.25 * 0.8 = 0.2 of original data\n",
    ")\n",
    "\n",
    "# **MODIFIED**: Build Vocabulary after the train-validation-test split\n",
    "# Build Vocabulary on Training Data Only\n",
    "all_train_words = \" \".join(train_texts_3).split()\n",
    "most_common_words = [word for word, _ in Counter(all_train_words).most_common(VOCAB_SIZE - 1)]\n",
    "word_to_index = {word: idx + 1 for idx, word in enumerate(most_common_words)}\n",
    "\n",
    "# Text-to-Sequence Conversion\n",
    "def text_to_sequence(text, word_to_index, max_len=MAX_LEN):\n",
    "    tokens = text.split()\n",
    "    sequence = [word_to_index.get(word, 0) for word in tokens]\n",
    "    return sequence[:max_len]\n",
    "\n",
    "# Convert text to sequences for train, validation, and test sets\n",
    "train_sequences_3 = [text_to_sequence(text, word_to_index) for text in train_texts_3]\n",
    "val_sequences_3 = [text_to_sequence(text, word_to_index) for text in val_texts_3]\n",
    "test_sequences_3 = [text_to_sequence(text, word_to_index) for text in test_texts_3]\n",
    "\n",
    "# Pad Sequences\n",
    "train_sequences_3 = nn.utils.rnn.pad_sequence([torch.tensor(seq) for seq in train_sequences_3], batch_first=True, padding_value=0)\n",
    "val_sequences_3 = nn.utils.rnn.pad_sequence([torch.tensor(seq) for seq in val_sequences_3], batch_first=True, padding_value=0)\n",
    "test_sequences_3 = nn.utils.rnn.pad_sequence([torch.tensor(seq) for seq in test_sequences_3], batch_first=True, padding_value=0)\n",
    "\n",
    "# Convert Labels\n",
    "train_labels_3 = torch.tensor(train_labels_3, dtype=torch.long)\n",
    "val_labels_3 = torch.tensor(val_labels_3, dtype=torch.long)\n",
    "test_labels_3 = torch.tensor(test_labels_3, dtype=torch.long)\n",
    "\n",
    "# Dataset Class\n",
    "class SentimentDataset(Dataset):\n",
    "    def __init__(self, texts, labels):\n",
    "        self.texts = texts\n",
    "        self.labels = labels\n",
    "\n",
    "    def __len__(self):\n",
    "        return len(self.labels)\n",
    "\n",
    "    def __getitem__(self, idx):\n",
    "        return {\n",
    "            'input_ids': self.texts[idx],\n",
    "            'label': self.labels[idx]\n",
    "        }\n",
    "\n",
    "# Create Datasets and DataLoaders\n",
    "train_dataset_3 = SentimentDataset(train_sequences_3, train_labels_3)\n",
    "val_dataset_3 = SentimentDataset(val_sequences_3, val_labels_3)\n",
    "test_dataset_3 = SentimentDataset(test_sequences_3, test_labels_3)\n",
    "\n",
    "train_loader_3 = DataLoader(train_dataset_3, batch_size=BATCH_SIZE, shuffle=True)\n",
    "val_loader_3 = DataLoader(val_dataset_3, batch_size=BATCH_SIZE)\n",
    "test_loader_3 = DataLoader(test_dataset_3, batch_size=BATCH_SIZE)"
   ]
  },
  {
   "cell_type": "code",
   "execution_count": null,
   "metadata": {
    "id": "z8eQecQ9M8YX"
   },
   "outputs": [],
   "source": [
    "# Define GRU Model\n",
    "class GRUSentimentModel(nn.Module):\n",
    "    def __init__(self, vocab_size, embedding_dim, hidden_dim, output_dim):\n",
    "        super(GRUSentimentModel, self).__init__()\n",
    "        self.embedding = nn.Embedding(vocab_size, embedding_dim)\n",
    "        self.gru = nn.GRU(embedding_dim, hidden_dim, batch_first=True)\n",
    "        self.fc = nn.Linear(hidden_dim, output_dim)\n",
    "        self.dropout = nn.Dropout(0.3)\n",
    "\n",
    "    def forward(self, input_ids):\n",
    "        embedded = self.embedding(input_ids)\n",
    "        _, hidden = self.gru(embedded)  # Only last hidden state\n",
    "        output = self.fc(self.dropout(hidden[-1]))\n",
    "        return output  # **MODIFIED**: Removed `softmax` because `CrossEntropyLoss` expects raw logits\n",
    "\n",
    "# #Define Loss Function\n",
    "# class FocalLoss(nn.Module):\n",
    "#     def __init__(self, alpha=0.2, gamma=0.5, ignore_index=-1):\n",
    "#         super(FocalLoss, self).__init__()\n",
    "#         self.alpha = alpha\n",
    "#         self.gamma = gamma\n",
    "#         self.ignore_index = ignore_index\n",
    "#         self.cross_entropy = nn.CrossEntropyLoss(ignore_index=ignore_index, reduction='none')\n",
    "\n",
    "#     def forward(self, logits, target):\n",
    "#         # Cross entropy loss\n",
    "#         ce_loss = self.cross_entropy(logits, target)\n",
    "#         # Probabilities of correct class\n",
    "#         pt = torch.exp(-ce_loss)\n",
    "#         # Focal loss\n",
    "#         focal_loss = self.alpha * (1 - pt) ** self.gamma * ce_loss\n",
    "#         return focal_loss.mean()\n",
    "\n"
   ]
  },
  {
   "cell_type": "code",
   "execution_count": null,
   "metadata": {
    "colab": {
     "base_uri": "https://localhost:8080/"
    },
    "id": "VJgiSDTBNK1G",
    "outputId": "45f87507-0ef8-4bf5-d435-230ddf45a2bc"
   },
   "outputs": [
    {
     "name": "stderr",
     "output_type": "stream",
     "text": [
      "Training Epoch 1/9: 100%|██████████| 1976/1976 [00:20<00:00, 96.64it/s, loss=0.0548]\n"
     ]
    },
    {
     "name": "stdout",
     "output_type": "stream",
     "text": [
      "Epoch 1/9, Loss: 0.2157\n"
     ]
    },
    {
     "name": "stderr",
     "output_type": "stream",
     "text": [
      "Training Epoch 2/9: 100%|██████████| 1976/1976 [00:19<00:00, 100.16it/s, loss=0.00313]\n"
     ]
    },
    {
     "name": "stdout",
     "output_type": "stream",
     "text": [
      "Epoch 2/9, Loss: 0.1209\n"
     ]
    },
    {
     "name": "stderr",
     "output_type": "stream",
     "text": [
      "Training Epoch 3/9: 100%|██████████| 1976/1976 [00:19<00:00, 99.98it/s, loss=0.316] \n"
     ]
    },
    {
     "name": "stdout",
     "output_type": "stream",
     "text": [
      "Epoch 3/9, Loss: 0.0834\n"
     ]
    },
    {
     "name": "stderr",
     "output_type": "stream",
     "text": [
      "Training Epoch 4/9: 100%|██████████| 1976/1976 [00:19<00:00, 100.60it/s, loss=0.0182]\n"
     ]
    },
    {
     "name": "stdout",
     "output_type": "stream",
     "text": [
      "Epoch 4/9, Loss: 0.0466\n"
     ]
    },
    {
     "name": "stderr",
     "output_type": "stream",
     "text": [
      "Training Epoch 5/9: 100%|██████████| 1976/1976 [00:19<00:00, 100.15it/s, loss=0.00192]\n"
     ]
    },
    {
     "name": "stdout",
     "output_type": "stream",
     "text": [
      "Epoch 5/9, Loss: 0.0315\n"
     ]
    },
    {
     "name": "stderr",
     "output_type": "stream",
     "text": [
      "Training Epoch 6/9: 100%|██████████| 1976/1976 [00:20<00:00, 98.35it/s, loss=0.00143]\n"
     ]
    },
    {
     "name": "stdout",
     "output_type": "stream",
     "text": [
      "Epoch 6/9, Loss: 0.0234\n"
     ]
    },
    {
     "name": "stderr",
     "output_type": "stream",
     "text": [
      "Training Epoch 7/9: 100%|██████████| 1976/1976 [00:19<00:00, 99.80it/s, loss=0.000907]\n"
     ]
    },
    {
     "name": "stdout",
     "output_type": "stream",
     "text": [
      "Epoch 7/9, Loss: 0.0202\n"
     ]
    },
    {
     "name": "stderr",
     "output_type": "stream",
     "text": [
      "Training Epoch 8/9: 100%|██████████| 1976/1976 [00:19<00:00, 100.34it/s, loss=0.00811]\n"
     ]
    },
    {
     "name": "stdout",
     "output_type": "stream",
     "text": [
      "Epoch 8/9, Loss: 0.0177\n"
     ]
    },
    {
     "name": "stderr",
     "output_type": "stream",
     "text": [
      "Training Epoch 9/9: 100%|██████████| 1976/1976 [00:19<00:00, 99.83it/s, loss=0.00387] \n"
     ]
    },
    {
     "name": "stdout",
     "output_type": "stream",
     "text": [
      "Epoch 9/9, Loss: 0.0159\n"
     ]
    },
    {
     "name": "stderr",
     "output_type": "stream",
     "text": [
      "Validating: 100%|██████████| 659/659 [00:02<00:00, 284.74it/s]\n",
      "Random Search Tuning:  10%|█         | 1/10 [03:01<27:14, 181.60s/it, accuracy=0.946, f1=0.946]"
     ]
    },
    {
     "name": "stdout",
     "output_type": "stream",
     "text": [
      "Validation F-1 Score: 0.9463, Accuracy: 0.9465\n"
     ]
    },
    {
     "name": "stderr",
     "output_type": "stream",
     "text": [
      "Training Epoch 1/9: 100%|██████████| 1976/1976 [00:18<00:00, 106.41it/s, loss=0.0602]\n"
     ]
    },
    {
     "name": "stdout",
     "output_type": "stream",
     "text": [
      "Epoch 1/9, Loss: 0.2082\n"
     ]
    },
    {
     "name": "stderr",
     "output_type": "stream",
     "text": [
      "Training Epoch 2/9: 100%|██████████| 1976/1976 [00:18<00:00, 106.12it/s, loss=0.00623]\n"
     ]
    },
    {
     "name": "stdout",
     "output_type": "stream",
     "text": [
      "Epoch 2/9, Loss: 0.1173\n"
     ]
    },
    {
     "name": "stderr",
     "output_type": "stream",
     "text": [
      "Training Epoch 3/9: 100%|██████████| 1976/1976 [00:18<00:00, 105.57it/s, loss=0.00605]\n"
     ]
    },
    {
     "name": "stdout",
     "output_type": "stream",
     "text": [
      "Epoch 3/9, Loss: 0.0709\n"
     ]
    },
    {
     "name": "stderr",
     "output_type": "stream",
     "text": [
      "Training Epoch 4/9: 100%|██████████| 1976/1976 [00:18<00:00, 106.67it/s, loss=0.00194]\n"
     ]
    },
    {
     "name": "stdout",
     "output_type": "stream",
     "text": [
      "Epoch 4/9, Loss: 0.0407\n"
     ]
    },
    {
     "name": "stderr",
     "output_type": "stream",
     "text": [
      "Training Epoch 5/9: 100%|██████████| 1976/1976 [00:18<00:00, 106.55it/s, loss=0.000582]\n"
     ]
    },
    {
     "name": "stdout",
     "output_type": "stream",
     "text": [
      "Epoch 5/9, Loss: 0.0229\n"
     ]
    },
    {
     "name": "stderr",
     "output_type": "stream",
     "text": [
      "Training Epoch 6/9: 100%|██████████| 1976/1976 [00:18<00:00, 106.70it/s, loss=0.00258]\n"
     ]
    },
    {
     "name": "stdout",
     "output_type": "stream",
     "text": [
      "Epoch 6/9, Loss: 0.0166\n"
     ]
    },
    {
     "name": "stderr",
     "output_type": "stream",
     "text": [
      "Training Epoch 7/9: 100%|██████████| 1976/1976 [00:18<00:00, 105.88it/s, loss=0.000325]\n"
     ]
    },
    {
     "name": "stdout",
     "output_type": "stream",
     "text": [
      "Epoch 7/9, Loss: 0.0153\n"
     ]
    },
    {
     "name": "stderr",
     "output_type": "stream",
     "text": [
      "Training Epoch 8/9: 100%|██████████| 1976/1976 [00:18<00:00, 106.26it/s, loss=0.00976]\n"
     ]
    },
    {
     "name": "stdout",
     "output_type": "stream",
     "text": [
      "Epoch 8/9, Loss: 0.0150\n"
     ]
    },
    {
     "name": "stderr",
     "output_type": "stream",
     "text": [
      "Training Epoch 9/9: 100%|██████████| 1976/1976 [00:18<00:00, 105.40it/s, loss=0.000112]\n"
     ]
    },
    {
     "name": "stdout",
     "output_type": "stream",
     "text": [
      "Epoch 9/9, Loss: 0.0122\n"
     ]
    },
    {
     "name": "stderr",
     "output_type": "stream",
     "text": [
      "Validating: 100%|██████████| 659/659 [00:01<00:00, 351.33it/s]\n",
      "Random Search Tuning:  20%|██        | 2/10 [05:51<23:17, 174.67s/it, accuracy=0.948, f1=0.948]"
     ]
    },
    {
     "name": "stdout",
     "output_type": "stream",
     "text": [
      "Validation F-1 Score: 0.9481, Accuracy: 0.9479\n"
     ]
    },
    {
     "name": "stderr",
     "output_type": "stream",
     "text": [
      "Training Epoch 1/6: 100%|██████████| 1976/1976 [00:19<00:00, 99.02it/s, loss=0.429]\n"
     ]
    },
    {
     "name": "stdout",
     "output_type": "stream",
     "text": [
      "Epoch 1/6, Loss: 0.3182\n"
     ]
    },
    {
     "name": "stderr",
     "output_type": "stream",
     "text": [
      "Training Epoch 2/6: 100%|██████████| 1976/1976 [00:19<00:00, 99.14it/s, loss=0.0129]\n"
     ]
    },
    {
     "name": "stdout",
     "output_type": "stream",
     "text": [
      "Epoch 2/6, Loss: 0.1789\n"
     ]
    },
    {
     "name": "stderr",
     "output_type": "stream",
     "text": [
      "Training Epoch 3/6: 100%|██████████| 1976/1976 [00:19<00:00, 98.97it/s, loss=0.00602]\n"
     ]
    },
    {
     "name": "stdout",
     "output_type": "stream",
     "text": [
      "Epoch 3/6, Loss: 0.1458\n"
     ]
    },
    {
     "name": "stderr",
     "output_type": "stream",
     "text": [
      "Training Epoch 4/6: 100%|██████████| 1976/1976 [00:19<00:00, 98.88it/s, loss=0.104]\n"
     ]
    },
    {
     "name": "stdout",
     "output_type": "stream",
     "text": [
      "Epoch 4/6, Loss: 0.1214\n"
     ]
    },
    {
     "name": "stderr",
     "output_type": "stream",
     "text": [
      "Training Epoch 5/6: 100%|██████████| 1976/1976 [00:19<00:00, 98.97it/s, loss=0.00499]\n"
     ]
    },
    {
     "name": "stdout",
     "output_type": "stream",
     "text": [
      "Epoch 5/6, Loss: 0.1023\n"
     ]
    },
    {
     "name": "stderr",
     "output_type": "stream",
     "text": [
      "Training Epoch 6/6: 100%|██████████| 1976/1976 [00:19<00:00, 98.83it/s, loss=1.13]\n"
     ]
    },
    {
     "name": "stdout",
     "output_type": "stream",
     "text": [
      "Epoch 6/6, Loss: 0.0850\n"
     ]
    },
    {
     "name": "stderr",
     "output_type": "stream",
     "text": [
      "Validating: 100%|██████████| 659/659 [00:02<00:00, 272.38it/s]\n",
      "Random Search Tuning:  30%|███       | 3/10 [07:54<17:36, 150.92s/it, accuracy=0.942, f1=0.943]"
     ]
    },
    {
     "name": "stdout",
     "output_type": "stream",
     "text": [
      "Validation F-1 Score: 0.9426, Accuracy: 0.9420\n"
     ]
    },
    {
     "name": "stderr",
     "output_type": "stream",
     "text": [
      "Training Epoch 1/9: 100%|██████████| 1976/1976 [00:22<00:00, 85.97it/s, loss=0.156]\n"
     ]
    },
    {
     "name": "stdout",
     "output_type": "stream",
     "text": [
      "Epoch 1/9, Loss: 0.2625\n"
     ]
    },
    {
     "name": "stderr",
     "output_type": "stream",
     "text": [
      "Training Epoch 2/9: 100%|██████████| 1976/1976 [00:23<00:00, 85.60it/s, loss=0.172]\n"
     ]
    },
    {
     "name": "stdout",
     "output_type": "stream",
     "text": [
      "Epoch 2/9, Loss: 0.1475\n"
     ]
    },
    {
     "name": "stderr",
     "output_type": "stream",
     "text": [
      "Training Epoch 3/9: 100%|██████████| 1976/1976 [00:23<00:00, 85.83it/s, loss=0.0138]\n"
     ]
    },
    {
     "name": "stdout",
     "output_type": "stream",
     "text": [
      "Epoch 3/9, Loss: 0.1105\n"
     ]
    },
    {
     "name": "stderr",
     "output_type": "stream",
     "text": [
      "Training Epoch 4/9: 100%|██████████| 1976/1976 [00:23<00:00, 85.80it/s, loss=0.0227]\n"
     ]
    },
    {
     "name": "stdout",
     "output_type": "stream",
     "text": [
      "Epoch 4/9, Loss: 0.0807\n"
     ]
    },
    {
     "name": "stderr",
     "output_type": "stream",
     "text": [
      "Training Epoch 5/9: 100%|██████████| 1976/1976 [00:22<00:00, 86.04it/s, loss=0.24]\n"
     ]
    },
    {
     "name": "stdout",
     "output_type": "stream",
     "text": [
      "Epoch 5/9, Loss: 0.0550\n"
     ]
    },
    {
     "name": "stderr",
     "output_type": "stream",
     "text": [
      "Training Epoch 6/9: 100%|██████████| 1976/1976 [00:22<00:00, 86.21it/s, loss=0.0108]\n"
     ]
    },
    {
     "name": "stdout",
     "output_type": "stream",
     "text": [
      "Epoch 6/9, Loss: 0.0361\n"
     ]
    },
    {
     "name": "stderr",
     "output_type": "stream",
     "text": [
      "Training Epoch 7/9: 100%|██████████| 1976/1976 [00:22<00:00, 85.97it/s, loss=0.00159]\n"
     ]
    },
    {
     "name": "stdout",
     "output_type": "stream",
     "text": [
      "Epoch 7/9, Loss: 0.0251\n"
     ]
    },
    {
     "name": "stderr",
     "output_type": "stream",
     "text": [
      "Training Epoch 8/9: 100%|██████████| 1976/1976 [00:23<00:00, 85.90it/s, loss=0.00135]\n"
     ]
    },
    {
     "name": "stdout",
     "output_type": "stream",
     "text": [
      "Epoch 8/9, Loss: 0.0177\n"
     ]
    },
    {
     "name": "stderr",
     "output_type": "stream",
     "text": [
      "Training Epoch 9/9: 100%|██████████| 1976/1976 [00:22<00:00, 86.15it/s, loss=0.00822]\n"
     ]
    },
    {
     "name": "stdout",
     "output_type": "stream",
     "text": [
      "Epoch 9/9, Loss: 0.0147\n"
     ]
    },
    {
     "name": "stderr",
     "output_type": "stream",
     "text": [
      "Validating: 100%|██████████| 659/659 [00:02<00:00, 265.97it/s]\n",
      "Random Search Tuning:  40%|████      | 4/10 [11:23<17:25, 174.19s/it, accuracy=0.947, f1=0.947]"
     ]
    },
    {
     "name": "stdout",
     "output_type": "stream",
     "text": [
      "Validation F-1 Score: 0.9473, Accuracy: 0.9474\n"
     ]
    },
    {
     "name": "stderr",
     "output_type": "stream",
     "text": [
      "Training Epoch 1/7: 100%|██████████| 1976/1976 [00:23<00:00, 82.91it/s, loss=0.0109]\n"
     ]
    },
    {
     "name": "stdout",
     "output_type": "stream",
     "text": [
      "Epoch 1/7, Loss: 0.2375\n"
     ]
    },
    {
     "name": "stderr",
     "output_type": "stream",
     "text": [
      "Training Epoch 2/7: 100%|██████████| 1976/1976 [00:23<00:00, 83.00it/s, loss=0.0886]\n"
     ]
    },
    {
     "name": "stdout",
     "output_type": "stream",
     "text": [
      "Epoch 2/7, Loss: 0.1388\n"
     ]
    },
    {
     "name": "stderr",
     "output_type": "stream",
     "text": [
      "Training Epoch 3/7: 100%|██████████| 1976/1976 [00:23<00:00, 83.05it/s, loss=0.09]\n"
     ]
    },
    {
     "name": "stdout",
     "output_type": "stream",
     "text": [
      "Epoch 3/7, Loss: 0.1035\n"
     ]
    },
    {
     "name": "stderr",
     "output_type": "stream",
     "text": [
      "Training Epoch 4/7: 100%|██████████| 1976/1976 [00:23<00:00, 83.02it/s, loss=0.0096]\n"
     ]
    },
    {
     "name": "stdout",
     "output_type": "stream",
     "text": [
      "Epoch 4/7, Loss: 0.0760\n"
     ]
    },
    {
     "name": "stderr",
     "output_type": "stream",
     "text": [
      "Training Epoch 5/7: 100%|██████████| 1976/1976 [00:23<00:00, 83.06it/s, loss=0.000893]\n"
     ]
    },
    {
     "name": "stdout",
     "output_type": "stream",
     "text": [
      "Epoch 5/7, Loss: 0.0481\n"
     ]
    },
    {
     "name": "stderr",
     "output_type": "stream",
     "text": [
      "Training Epoch 6/7: 100%|██████████| 1976/1976 [00:23<00:00, 83.08it/s, loss=0.0094]\n"
     ]
    },
    {
     "name": "stdout",
     "output_type": "stream",
     "text": [
      "Epoch 6/7, Loss: 0.0299\n"
     ]
    },
    {
     "name": "stderr",
     "output_type": "stream",
     "text": [
      "Training Epoch 7/7: 100%|██████████| 1976/1976 [00:23<00:00, 83.04it/s, loss=0.000632]\n"
     ]
    },
    {
     "name": "stdout",
     "output_type": "stream",
     "text": [
      "Epoch 7/7, Loss: 0.0235\n"
     ]
    },
    {
     "name": "stderr",
     "output_type": "stream",
     "text": [
      "Validating: 100%|██████████| 659/659 [00:02<00:00, 227.71it/s]\n",
      "Random Search Tuning:  50%|█████     | 5/10 [14:13<14:23, 172.65s/it, accuracy=0.949, f1=0.949]"
     ]
    },
    {
     "name": "stdout",
     "output_type": "stream",
     "text": [
      "Validation F-1 Score: 0.9487, Accuracy: 0.9487\n"
     ]
    },
    {
     "name": "stderr",
     "output_type": "stream",
     "text": [
      "Training Epoch 1/7: 100%|██████████| 1976/1976 [00:18<00:00, 106.18it/s, loss=0.0488]\n"
     ]
    },
    {
     "name": "stdout",
     "output_type": "stream",
     "text": [
      "Epoch 1/7, Loss: 0.3056\n"
     ]
    },
    {
     "name": "stderr",
     "output_type": "stream",
     "text": [
      "Training Epoch 2/7: 100%|██████████| 1976/1976 [00:18<00:00, 106.91it/s, loss=0.0513]\n"
     ]
    },
    {
     "name": "stdout",
     "output_type": "stream",
     "text": [
      "Epoch 2/7, Loss: 0.1646\n"
     ]
    },
    {
     "name": "stderr",
     "output_type": "stream",
     "text": [
      "Training Epoch 3/7: 100%|██████████| 1976/1976 [00:18<00:00, 106.09it/s, loss=0.0183]\n"
     ]
    },
    {
     "name": "stdout",
     "output_type": "stream",
     "text": [
      "Epoch 3/7, Loss: 0.1362\n"
     ]
    },
    {
     "name": "stderr",
     "output_type": "stream",
     "text": [
      "Training Epoch 4/7: 100%|██████████| 1976/1976 [00:18<00:00, 105.78it/s, loss=0.339]\n"
     ]
    },
    {
     "name": "stdout",
     "output_type": "stream",
     "text": [
      "Epoch 4/7, Loss: 0.1122\n"
     ]
    },
    {
     "name": "stderr",
     "output_type": "stream",
     "text": [
      "Training Epoch 5/7: 100%|██████████| 1976/1976 [00:18<00:00, 105.24it/s, loss=0.0203]\n"
     ]
    },
    {
     "name": "stdout",
     "output_type": "stream",
     "text": [
      "Epoch 5/7, Loss: 0.0922\n"
     ]
    },
    {
     "name": "stderr",
     "output_type": "stream",
     "text": [
      "Training Epoch 6/7: 100%|██████████| 1976/1976 [00:18<00:00, 104.76it/s, loss=0.00806]\n"
     ]
    },
    {
     "name": "stdout",
     "output_type": "stream",
     "text": [
      "Epoch 6/7, Loss: 0.0735\n"
     ]
    },
    {
     "name": "stderr",
     "output_type": "stream",
     "text": [
      "Training Epoch 7/7: 100%|██████████| 1976/1976 [00:19<00:00, 103.62it/s, loss=0.0145]\n"
     ]
    },
    {
     "name": "stdout",
     "output_type": "stream",
     "text": [
      "Epoch 7/7, Loss: 0.0591\n"
     ]
    },
    {
     "name": "stderr",
     "output_type": "stream",
     "text": [
      "Validating: 100%|██████████| 659/659 [00:01<00:00, 355.41it/s]\n",
      "Random Search Tuning:  60%|██████    | 6/10 [16:27<10:37, 159.31s/it, accuracy=0.944, f1=0.944]"
     ]
    },
    {
     "name": "stdout",
     "output_type": "stream",
     "text": [
      "Validation F-1 Score: 0.9442, Accuracy: 0.9437\n"
     ]
    },
    {
     "name": "stderr",
     "output_type": "stream",
     "text": [
      "Training Epoch 1/5: 100%|██████████| 1976/1976 [00:19<00:00, 99.06it/s, loss=0.0783]\n"
     ]
    },
    {
     "name": "stdout",
     "output_type": "stream",
     "text": [
      "Epoch 1/5, Loss: 0.2392\n"
     ]
    },
    {
     "name": "stderr",
     "output_type": "stream",
     "text": [
      "Training Epoch 2/5: 100%|██████████| 1976/1976 [00:19<00:00, 99.37it/s, loss=0.0875] \n"
     ]
    },
    {
     "name": "stdout",
     "output_type": "stream",
     "text": [
      "Epoch 2/5, Loss: 0.1310\n"
     ]
    },
    {
     "name": "stderr",
     "output_type": "stream",
     "text": [
      "Training Epoch 3/5: 100%|██████████| 1976/1976 [00:20<00:00, 98.68it/s, loss=0.131] \n"
     ]
    },
    {
     "name": "stdout",
     "output_type": "stream",
     "text": [
      "Epoch 3/5, Loss: 0.0954\n"
     ]
    },
    {
     "name": "stderr",
     "output_type": "stream",
     "text": [
      "Training Epoch 4/5: 100%|██████████| 1976/1976 [00:19<00:00, 99.27it/s, loss=0.013] \n"
     ]
    },
    {
     "name": "stdout",
     "output_type": "stream",
     "text": [
      "Epoch 4/5, Loss: 0.0660\n"
     ]
    },
    {
     "name": "stderr",
     "output_type": "stream",
     "text": [
      "Training Epoch 5/5: 100%|██████████| 1976/1976 [00:19<00:00, 99.11it/s, loss=0.000929] \n"
     ]
    },
    {
     "name": "stdout",
     "output_type": "stream",
     "text": [
      "Epoch 5/5, Loss: 0.0418\n"
     ]
    },
    {
     "name": "stderr",
     "output_type": "stream",
     "text": [
      "Validating: 100%|██████████| 659/659 [00:02<00:00, 293.34it/s]\n",
      "Random Search Tuning:  70%|███████   | 7/10 [18:09<07:02, 140.70s/it, accuracy=0.945, f1=0.945]"
     ]
    },
    {
     "name": "stdout",
     "output_type": "stream",
     "text": [
      "Validation F-1 Score: 0.9453, Accuracy: 0.9448\n"
     ]
    },
    {
     "name": "stderr",
     "output_type": "stream",
     "text": [
      "Training Epoch 1/9: 100%|██████████| 1976/1976 [00:19<00:00, 99.29it/s, loss=0.431]\n"
     ]
    },
    {
     "name": "stdout",
     "output_type": "stream",
     "text": [
      "Epoch 1/9, Loss: 0.2744\n"
     ]
    },
    {
     "name": "stderr",
     "output_type": "stream",
     "text": [
      "Training Epoch 2/9: 100%|██████████| 1976/1976 [00:19<00:00, 100.81it/s, loss=0.0158]\n"
     ]
    },
    {
     "name": "stdout",
     "output_type": "stream",
     "text": [
      "Epoch 2/9, Loss: 0.1550\n"
     ]
    },
    {
     "name": "stderr",
     "output_type": "stream",
     "text": [
      "Training Epoch 3/9: 100%|██████████| 1976/1976 [00:19<00:00, 100.28it/s, loss=0.274]\n"
     ]
    },
    {
     "name": "stdout",
     "output_type": "stream",
     "text": [
      "Epoch 3/9, Loss: 0.1244\n"
     ]
    },
    {
     "name": "stderr",
     "output_type": "stream",
     "text": [
      "Training Epoch 4/9: 100%|██████████| 1976/1976 [00:19<00:00, 101.00it/s, loss=0.011]\n"
     ]
    },
    {
     "name": "stdout",
     "output_type": "stream",
     "text": [
      "Epoch 4/9, Loss: 0.0996\n"
     ]
    },
    {
     "name": "stderr",
     "output_type": "stream",
     "text": [
      "Training Epoch 5/9: 100%|██████████| 1976/1976 [00:19<00:00, 100.30it/s, loss=0.029]\n"
     ]
    },
    {
     "name": "stdout",
     "output_type": "stream",
     "text": [
      "Epoch 5/9, Loss: 0.0736\n"
     ]
    },
    {
     "name": "stderr",
     "output_type": "stream",
     "text": [
      "Training Epoch 6/9: 100%|██████████| 1976/1976 [00:19<00:00, 100.51it/s, loss=0.056]\n"
     ]
    },
    {
     "name": "stdout",
     "output_type": "stream",
     "text": [
      "Epoch 6/9, Loss: 0.0535\n"
     ]
    },
    {
     "name": "stderr",
     "output_type": "stream",
     "text": [
      "Training Epoch 7/9: 100%|██████████| 1976/1976 [00:19<00:00, 100.83it/s, loss=0.00186]\n"
     ]
    },
    {
     "name": "stdout",
     "output_type": "stream",
     "text": [
      "Epoch 7/9, Loss: 0.0369\n"
     ]
    },
    {
     "name": "stderr",
     "output_type": "stream",
     "text": [
      "Training Epoch 8/9: 100%|██████████| 1976/1976 [00:19<00:00, 100.48it/s, loss=0.00124]\n"
     ]
    },
    {
     "name": "stdout",
     "output_type": "stream",
     "text": [
      "Epoch 8/9, Loss: 0.0276\n"
     ]
    },
    {
     "name": "stderr",
     "output_type": "stream",
     "text": [
      "Training Epoch 9/9: 100%|██████████| 1976/1976 [00:19<00:00, 100.30it/s, loss=0.00194]\n"
     ]
    },
    {
     "name": "stdout",
     "output_type": "stream",
     "text": [
      "Epoch 9/9, Loss: 0.0220\n"
     ]
    },
    {
     "name": "stderr",
     "output_type": "stream",
     "text": [
      "Validating: 100%|██████████| 659/659 [00:02<00:00, 294.40it/s]\n",
      "Random Search Tuning:  80%|████████  | 8/10 [21:09<05:06, 153.15s/it, accuracy=0.946, f1=0.946]"
     ]
    },
    {
     "name": "stdout",
     "output_type": "stream",
     "text": [
      "Validation F-1 Score: 0.9460, Accuracy: 0.9457\n"
     ]
    },
    {
     "name": "stderr",
     "output_type": "stream",
     "text": [
      "Training Epoch 1/5: 100%|██████████| 1976/1976 [00:19<00:00, 100.68it/s, loss=0.0894]\n"
     ]
    },
    {
     "name": "stdout",
     "output_type": "stream",
     "text": [
      "Epoch 1/5, Loss: 0.2432\n"
     ]
    },
    {
     "name": "stderr",
     "output_type": "stream",
     "text": [
      "Training Epoch 2/5: 100%|██████████| 1976/1976 [00:19<00:00, 100.38it/s, loss=0.0832]\n"
     ]
    },
    {
     "name": "stdout",
     "output_type": "stream",
     "text": [
      "Epoch 2/5, Loss: 0.1366\n"
     ]
    },
    {
     "name": "stderr",
     "output_type": "stream",
     "text": [
      "Training Epoch 3/5: 100%|██████████| 1976/1976 [00:19<00:00, 100.74it/s, loss=0.00596]\n"
     ]
    },
    {
     "name": "stdout",
     "output_type": "stream",
     "text": [
      "Epoch 3/5, Loss: 0.1008\n"
     ]
    },
    {
     "name": "stderr",
     "output_type": "stream",
     "text": [
      "Training Epoch 4/5: 100%|██████████| 1976/1976 [00:19<00:00, 100.98it/s, loss=0.0117]\n"
     ]
    },
    {
     "name": "stdout",
     "output_type": "stream",
     "text": [
      "Epoch 4/5, Loss: 0.0665\n"
     ]
    },
    {
     "name": "stderr",
     "output_type": "stream",
     "text": [
      "Training Epoch 5/5: 100%|██████████| 1976/1976 [00:19<00:00, 100.84it/s, loss=0.1]\n"
     ]
    },
    {
     "name": "stdout",
     "output_type": "stream",
     "text": [
      "Epoch 5/5, Loss: 0.0421\n"
     ]
    },
    {
     "name": "stderr",
     "output_type": "stream",
     "text": [
      "Validating: 100%|██████████| 659/659 [00:02<00:00, 296.57it/s]\n",
      "Random Search Tuning:  90%|█████████ | 9/10 [22:50<02:16, 136.76s/it, accuracy=0.952, f1=0.952]"
     ]
    },
    {
     "name": "stdout",
     "output_type": "stream",
     "text": [
      "Validation F-1 Score: 0.9523, Accuracy: 0.9523\n"
     ]
    },
    {
     "name": "stderr",
     "output_type": "stream",
     "text": [
      "Training Epoch 1/8: 100%|██████████| 1976/1976 [00:19<00:00, 99.69it/s, loss=0.196] \n"
     ]
    },
    {
     "name": "stdout",
     "output_type": "stream",
     "text": [
      "Epoch 1/8, Loss: 0.2153\n"
     ]
    },
    {
     "name": "stderr",
     "output_type": "stream",
     "text": [
      "Training Epoch 2/8: 100%|██████████| 1976/1976 [00:19<00:00, 100.48it/s, loss=0.0346]\n"
     ]
    },
    {
     "name": "stdout",
     "output_type": "stream",
     "text": [
      "Epoch 2/8, Loss: 0.1183\n"
     ]
    },
    {
     "name": "stderr",
     "output_type": "stream",
     "text": [
      "Training Epoch 3/8: 100%|██████████| 1976/1976 [00:19<00:00, 99.95it/s, loss=0.466]\n"
     ]
    },
    {
     "name": "stdout",
     "output_type": "stream",
     "text": [
      "Epoch 3/8, Loss: 0.0749\n"
     ]
    },
    {
     "name": "stderr",
     "output_type": "stream",
     "text": [
      "Training Epoch 4/8: 100%|██████████| 1976/1976 [00:19<00:00, 100.22it/s, loss=6.57e-5]\n"
     ]
    },
    {
     "name": "stdout",
     "output_type": "stream",
     "text": [
      "Epoch 4/8, Loss: 0.0383\n"
     ]
    },
    {
     "name": "stderr",
     "output_type": "stream",
     "text": [
      "Training Epoch 5/8: 100%|██████████| 1976/1976 [00:19<00:00, 100.28it/s, loss=0.00213]\n"
     ]
    },
    {
     "name": "stdout",
     "output_type": "stream",
     "text": [
      "Epoch 5/8, Loss: 0.0237\n"
     ]
    },
    {
     "name": "stderr",
     "output_type": "stream",
     "text": [
      "Training Epoch 6/8: 100%|██████████| 1976/1976 [00:19<00:00, 100.47it/s, loss=0.000424]\n"
     ]
    },
    {
     "name": "stdout",
     "output_type": "stream",
     "text": [
      "Epoch 6/8, Loss: 0.0178\n"
     ]
    },
    {
     "name": "stderr",
     "output_type": "stream",
     "text": [
      "Training Epoch 7/8: 100%|██████████| 1976/1976 [00:19<00:00, 100.04it/s, loss=7.83e-6]\n"
     ]
    },
    {
     "name": "stdout",
     "output_type": "stream",
     "text": [
      "Epoch 7/8, Loss: 0.0142\n"
     ]
    },
    {
     "name": "stderr",
     "output_type": "stream",
     "text": [
      "Training Epoch 8/8: 100%|██████████| 1976/1976 [00:19<00:00, 100.06it/s, loss=0.000331]\n"
     ]
    },
    {
     "name": "stdout",
     "output_type": "stream",
     "text": [
      "Epoch 8/8, Loss: 0.0133\n"
     ]
    },
    {
     "name": "stderr",
     "output_type": "stream",
     "text": [
      "Validating: 100%|██████████| 659/659 [00:02<00:00, 293.26it/s]\n",
      "Random Search Tuning: 100%|██████████| 10/10 [25:30<00:00, 153.07s/it, accuracy=0.947, f1=0.947]"
     ]
    },
    {
     "name": "stdout",
     "output_type": "stream",
     "text": [
      "Validation F-1 Score: 0.9465, Accuracy: 0.9467\n",
      "Best Validation F1 Score: 0.9523\n",
      "Best Hyperparameters: {'embedding_dim': 156.02979350260784, 'hidden_dim': 467.03628008471236, 'lr': 0.000411395570516993, 'epochs': 5}\n",
      "Total Parameter Tuning Time: 1530.76 seconds\n"
     ]
    },
    {
     "name": "stderr",
     "output_type": "stream",
     "text": [
      "\n"
     ]
    }
   ],
   "source": [
    "random.seed(1234)\n",
    "\n",
    "def train_and_evaluate(hyperparams, train_loader, val_loader, vocab_size, output_dim, device):\n",
    "    embedding_dim = int(hyperparams['embedding_dim'])\n",
    "    hidden_dim = int(hyperparams['hidden_dim'])\n",
    "    lr = hyperparams['lr']\n",
    "    # alpha = hyperparams['alpha']\n",
    "    # gamma = hyperparams['gamma']\n",
    "\n",
    "    # Initialize the model, loss, and optimizer\n",
    "    model = GRUSentimentModel(vocab_size, embedding_dim, hidden_dim, output_dim).to(device)\n",
    "\n",
    "    # **MODIFIED**: Compute class weights for the training set\n",
    "    all_train_labels = [label for batch in train_loader for label in batch['label'].numpy()]\n",
    "    class_weights = compute_class_weight(\n",
    "        class_weight='balanced',\n",
    "        classes=np.unique(all_train_labels),\n",
    "        y=all_train_labels\n",
    "    )\n",
    "    class_weights_tensor = torch.tensor(class_weights, dtype=torch.float).to(device)  # Convert to PyTorch tensor\n",
    "\n",
    "    # **MODIFIED**: Use CrossEntropyLoss with class weights\n",
    "    criterion = nn.CrossEntropyLoss(weight=class_weights_tensor)\n",
    "    optimizer = torch.optim.Adam(model.parameters(), lr=lr)\n",
    "\n",
    "    # Training loop\n",
    "    for epoch in range(hyperparams['epochs']):\n",
    "        model.train()\n",
    "        total_loss = 0\n",
    "        train_loop = tqdm(train_loader, desc=f\"Training Epoch {epoch + 1}/{hyperparams['epochs']}\", leave=True, position=0)\n",
    "        for batch in train_loop:\n",
    "            input_ids = batch['input_ids'].to(device)\n",
    "            labels = batch['label'].to(device)\n",
    "\n",
    "            optimizer.zero_grad()\n",
    "            outputs = model(input_ids)\n",
    "            loss = criterion(outputs, labels)  # **MODIFIED**: Use CrossEntropyLoss\n",
    "            total_loss += loss.item()\n",
    "            loss.backward()\n",
    "            optimizer.step()\n",
    "\n",
    "            train_loop.set_postfix(loss=loss.item())\n",
    "\n",
    "        print(f\"Epoch {epoch + 1}/{hyperparams['epochs']}, Loss: {total_loss / len(train_loader):.4f}\")\n",
    "\n",
    "    # Validation evaluation\n",
    "    model.eval()\n",
    "    val_predictions, val_labels = [], []\n",
    "    val_loop = tqdm(val_loader, desc=\"Validating\", leave=True, position=0)\n",
    "    with torch.no_grad():\n",
    "        for batch in val_loop:\n",
    "            input_ids = batch['input_ids'].to(device)\n",
    "            labels = batch['label'].to(device)\n",
    "\n",
    "            outputs = model(input_ids)\n",
    "            preds = torch.argmax(outputs, dim=1)\n",
    "            val_predictions.extend(preds.cpu().numpy())\n",
    "            val_labels.extend(labels.cpu().numpy())\n",
    "\n",
    "    # Calculate F1 score and accuracy\n",
    "    f1 = f1_score(val_labels, val_predictions, average='weighted')\n",
    "    accuracy = accuracy_score(val_labels, val_predictions)\n",
    "    print(f\"Validation F-1 Score: {f1:.4f}, Accuracy: {accuracy:.4f}\")\n",
    "    return f1, accuracy, model\n",
    "\n",
    "\n",
    "def random_hyperparameter_tuning(train_loader, val_loader, vocab_size, output_dim, device, n_iter=20):\n",
    "    # Define hyperparameter ranges for random search\n",
    "    param_space = {\n",
    "        'embedding_dim': (150, 250),\n",
    "        'hidden_dim': (256, 768),\n",
    "        'lr': (np.log10(1e-4), np.log10(1e-3)),  # Log-uniform for learning rate\n",
    "        'epochs': (5, 10),  # **MODIFIED**: Removed `alpha` and `gamma` since FocalLoss is no longer used\n",
    "    }\n",
    "\n",
    "    best_f1 = 0\n",
    "    best_params = None\n",
    "    best_model = None\n",
    "\n",
    "    # Random search iterations\n",
    "    with tqdm(total=n_iter, desc=\"Random Search Tuning\", leave=True, position=0) as pbar:\n",
    "        for _ in range(n_iter):\n",
    "            # Sample hyperparameters\n",
    "            hyperparams = {\n",
    "                'embedding_dim': np.random.uniform(*param_space['embedding_dim']),\n",
    "                'hidden_dim': np.random.uniform(*param_space['hidden_dim']),\n",
    "                'lr': 10**np.random.uniform(*param_space['lr']),\n",
    "                'epochs': np.random.randint(*param_space['epochs']),\n",
    "            }\n",
    "            f1, accuracy, model = train_and_evaluate(hyperparams, train_loader, val_loader, vocab_size, output_dim, device)\n",
    "            pbar.set_postfix(f1=f1, accuracy=accuracy)\n",
    "            pbar.update(1)\n",
    "\n",
    "            if f1 > best_f1:\n",
    "                best_f1 = f1\n",
    "                best_params = hyperparams\n",
    "                best_model = model\n",
    "\n",
    "    print(f\"Best Validation F1 Score: {best_f1:.4f}\")\n",
    "    print(f\"Best Hyperparameters: {best_params}\")\n",
    "\n",
    "    # Save the best model\n",
    "    torch.save(best_model.state_dict(), \"best_gru_model.pth\")\n",
    "    return best_params, best_f1, best_model\n",
    "\n",
    "#Start timer\n",
    "start_time = time.time()\n",
    "# Run random search\n",
    "best_params, best_f1, best_model= random_hyperparameter_tuning(\n",
    "    train_loader_3,\n",
    "    val_loader_3,\n",
    "    vocab_size=VOCAB_SIZE,\n",
    "    output_dim=2,\n",
    "    device=device,\n",
    "    n_iter=10  # Number of random samples to evaluate\n",
    ")\n",
    "# End timer\n",
    "end_time = time.time()\n",
    "total_time = end_time - start_time\n",
    "print(f\"Total Parameter Tuning Time: {total_time:.2f} seconds\")\n"
   ]
  },
  {
   "cell_type": "code",
   "execution_count": null,
   "metadata": {
    "colab": {
     "base_uri": "https://localhost:8080/"
    },
    "id": "UpOl8zid6le4",
    "outputId": "d8d9f6db-a005-4ff0-b58e-beb01fbddba3"
   },
   "outputs": [
    {
     "name": "stderr",
     "output_type": "stream",
     "text": [
      "Training Epoch 1/5: 100%|██████████| 1976/1976 [00:33<00:00, 59.46it/s, loss=0.0445]\n"
     ]
    },
    {
     "name": "stdout",
     "output_type": "stream",
     "text": [
      "Epoch 1/5, Loss: 0.2493\n"
     ]
    },
    {
     "name": "stderr",
     "output_type": "stream",
     "text": [
      "Training Epoch 2/5: 100%|██████████| 1976/1976 [00:33<00:00, 58.14it/s, loss=0.0143]\n"
     ]
    },
    {
     "name": "stdout",
     "output_type": "stream",
     "text": [
      "Epoch 2/5, Loss: 0.1423\n"
     ]
    },
    {
     "name": "stderr",
     "output_type": "stream",
     "text": [
      "Training Epoch 3/5: 100%|██████████| 1976/1976 [00:35<00:00, 54.99it/s, loss=0.194]\n"
     ]
    },
    {
     "name": "stdout",
     "output_type": "stream",
     "text": [
      "Epoch 3/5, Loss: 0.1061\n"
     ]
    },
    {
     "name": "stderr",
     "output_type": "stream",
     "text": [
      "Training Epoch 4/5: 100%|██████████| 1976/1976 [00:34<00:00, 56.86it/s, loss=0.0048]\n"
     ]
    },
    {
     "name": "stdout",
     "output_type": "stream",
     "text": [
      "Epoch 4/5, Loss: 0.0758\n"
     ]
    },
    {
     "name": "stderr",
     "output_type": "stream",
     "text": [
      "Training Epoch 5/5: 100%|██████████| 1976/1976 [00:36<00:00, 54.72it/s, loss=0.00537]"
     ]
    },
    {
     "name": "stdout",
     "output_type": "stream",
     "text": [
      "Epoch 5/5, Loss: 0.0491\n"
     ]
    },
    {
     "name": "stderr",
     "output_type": "stream",
     "text": [
      "\n"
     ]
    }
   ],
   "source": [
    "hyperparams = {'embedding_dim': 156.02979350260784, 'hidden_dim': 467.03628008471236, 'lr': 0.000411395570516993, 'epochs': 5}\n",
    "train_loader = train_loader_3\n",
    "val_loader=val_loader_3\n",
    "vocab_size=VOCAB_SIZE\n",
    "output_dim=2\n",
    "device=device\n",
    "embedding_dim = int(hyperparams['embedding_dim'])\n",
    "hidden_dim = int(hyperparams['hidden_dim'])\n",
    "lr = hyperparams['lr']\n",
    "# alpha = hyperparams['alpha']\n",
    "# gamma = hyperparams['gamma']\n",
    "\n",
    "# Initialize the model, loss, and optimizer\n",
    "model = GRUSentimentModel(vocab_size, embedding_dim, hidden_dim, output_dim).to(device)\n",
    "\n",
    "# **MODIFIED**: Compute class weights for the training set\n",
    "all_train_labels = [label for batch in train_loader for label in batch['label'].numpy()]\n",
    "class_weights = compute_class_weight(\n",
    "    class_weight='balanced',\n",
    "    classes=np.unique(all_train_labels),\n",
    "    y=all_train_labels\n",
    ")\n",
    "class_weights_tensor = torch.tensor(class_weights, dtype=torch.float).to(device)  # Convert to PyTorch tensor\n",
    "\n",
    "# **MODIFIED**: Use CrossEntropyLoss with class weights\n",
    "criterion = nn.CrossEntropyLoss(weight=class_weights_tensor)\n",
    "optimizer = torch.optim.Adam(model.parameters(), lr=lr)\n",
    "\n",
    "# Training loop\n",
    "for epoch in range(hyperparams['epochs']):\n",
    "    model.train()\n",
    "    total_loss = 0\n",
    "    train_loop = tqdm(train_loader, desc=f\"Training Epoch {epoch + 1}/{hyperparams['epochs']}\", leave=True, position=0)\n",
    "    for batch in train_loop:\n",
    "        input_ids = batch['input_ids'].to(device)\n",
    "        labels = batch['label'].to(device)\n",
    "\n",
    "        optimizer.zero_grad()\n",
    "        outputs = model(input_ids)\n",
    "        loss = criterion(outputs, labels)  # **MODIFIED**: Use CrossEntropyLoss\n",
    "        total_loss += loss.item()\n",
    "        loss.backward()\n",
    "        optimizer.step()\n",
    "\n",
    "        train_loop.set_postfix(loss=loss.item())\n",
    "\n",
    "    print(f\"Epoch {epoch + 1}/{hyperparams['epochs']}, Loss: {total_loss / len(train_loader):.4f}\")"
   ]
  },
  {
   "cell_type": "code",
   "execution_count": null,
   "metadata": {
    "id": "ziuemfDo9UMG"
   },
   "outputs": [],
   "source": [
    "model_save_path = \"GRU_Binary.pth\"\n",
    "torch.save(model.state_dict(), model_save_path)"
   ]
  },
  {
   "cell_type": "code",
   "execution_count": null,
   "metadata": {
    "colab": {
     "base_uri": "https://localhost:8080/"
    },
    "id": "pNsnsIJFrzKW",
    "outputId": "8b14ed18-aa51-4e33-ed33-d537ed723adf"
   },
   "outputs": [
    {
     "name": "stderr",
     "output_type": "stream",
     "text": [
      "Testing Best Model: 100%|██████████| 659/659 [00:06<00:00, 105.99it/s]\n"
     ]
    },
    {
     "name": "stdout",
     "output_type": "stream",
     "text": [
      "Test F-1 Score: 0.9520, Test Accuracy: 0.9522\n",
      "\n",
      "Classification Report:\n",
      "              precision    recall  f1-score   support\n",
      "\n",
      "           0     0.9333    0.9129    0.9230      3308\n",
      "           1     0.9606    0.9701    0.9653      7229\n",
      "\n",
      "    accuracy                         0.9522     10537\n",
      "   macro avg     0.9469    0.9415    0.9441     10537\n",
      "weighted avg     0.9520    0.9522    0.9520     10537\n",
      "\n"
     ]
    }
   ],
   "source": [
    "# Evaluate the best model on the test set\n",
    "best_model = model\n",
    "best_model.eval()\n",
    "test_predictions, test_labels = [], []\n",
    "\n",
    "# **MODIFIED**: Added probabilities collection for further analysis if needed\n",
    "test_probabilities = []\n",
    "test_loop = tqdm(test_loader_3, desc=\"Testing Best Model\", leave=True, position=0)\n",
    "with torch.no_grad():\n",
    "    for batch in test_loop:\n",
    "        input_ids = batch['input_ids'].to(device)\n",
    "        labels = batch['label'].to(device)\n",
    "\n",
    "        # Forward pass\n",
    "        outputs = best_model(input_ids)\n",
    "\n",
    "        # **MODIFIED**: Added probability calculation using softmax\n",
    "        probs = torch.softmax(outputs, dim=1)  # Probabilities for each class\n",
    "        preds = torch.argmax(probs, dim=1)  # Predicted class\n",
    "\n",
    "        test_predictions.extend(preds.cpu().numpy())\n",
    "        test_labels.extend(labels.cpu().numpy())\n",
    "\n",
    "        # **MODIFIED**: Collect probabilities of the positive class (e.g., class 1)\n",
    "        test_probabilities.extend(probs[:, 1].cpu().numpy())\n",
    "\n",
    "# Calculate F1 score and accuracy on the test set\n",
    "test_f1 = f1_score(test_labels, test_predictions, average='weighted')\n",
    "test_accuracy = accuracy_score(test_labels, test_predictions)\n",
    "\n",
    "print(f\"Test F-1 Score: {test_f1:.4f}, Test Accuracy: {test_accuracy:.4f}\")\n",
    "print(\"\\nClassification Report:\")\n",
    "print(classification_report(test_labels, test_predictions, digits=4))"
   ]
  },
  {
   "cell_type": "code",
   "execution_count": null,
   "metadata": {
    "colab": {
     "base_uri": "https://localhost:8080/",
     "height": 1000
    },
    "id": "CiQrZUzDE9-H",
    "outputId": "e8784517-50fc-419f-ecde-1646e8bd8b78"
   },
   "outputs": [
    {
     "name": "stdout",
     "output_type": "stream",
     "text": [
      "\n",
      "--- Evaluation Report: gru ---\n",
      "Accuracy: 0.9522\n",
      "Weighted F1 Score: 0.9520\n",
      "95% CI for F1 Score: [0.9478, 0.9558]\n"
     ]
    },
    {
     "data": {
      "image/png": "[encoded data removed]",
      "text/plain": [
       "<Figure size 600x600 with 2 Axes>"
      ]
     },
     "metadata": {},
     "output_type": "display_data"
    },
    {
     "name": "stdout",
     "output_type": "stream",
     "text": [
      "AUC: 0.9879\n",
      "95% CI for AUC: [0.9863, 0.9896]\n"
     ]
    },
    {
     "data": {
      "image/png": "[encoded data removed]",
      "text/plain": [
       "<Figure size 800x600 with 1 Axes>"
      ]
     },
     "metadata": {},
     "output_type": "display_data"
    }
   ],
   "source": [
    "gru =  GRUSentimentModel(vocab_size, embedding_dim, hidden_dim, output_dim).to(device)\n",
    "gru.load_state_dict(torch.load(\"GRU_Binary.pth\", map_location=device))\n",
    "gru.to(device)\n",
    "evaluate_pytorch_model(gru, test_loader_3, device, model_name=\"gru\", num_classes=2, use_attention_mask=False)\n"
   ]
  },
  {
   "cell_type": "code",
   "execution_count": null,
   "metadata": {
    "colab": {
     "base_uri": "https://localhost:8080/",
     "height": 1000
    },
    "id": "59K085Nq4jcz",
    "outputId": "07d871cb-0906-456f-c1df-ee0534d962ea"
   },
   "outputs": [
    {
     "name": "stdout",
     "output_type": "stream",
     "text": [
      "\n",
      "📊 Pairwise McNemar's Test Results (corrected using 'holm'):\n",
      "\n",
      "         Model 1       Model 2  Winner   Statistic  Corrected p-value  \\\n",
      "0            SVM          LGBM     SVM    6.752232       3.745219e-02   \n",
      "1            SVM  RandomForest     SVM    9.734737       9.040895e-03   \n",
      "2            SVM            LR     SVM   13.267544       1.620245e-03   \n",
      "3            SVM        ALBERT  ALBERT  107.571685       4.003413e-24   \n",
      "4            SVM           GRU     GRU   21.043478       3.142849e-05   \n",
      "5           LGBM  RandomForest    LGBM    0.437690       1.000000e+00   \n",
      "6           LGBM            LR     Tie    0.001992       1.000000e+00   \n",
      "7           LGBM        ALBERT  ALBERT  159.508803       2.173008e-35   \n",
      "8           LGBM           GRU     GRU   49.650450       1.837279e-11   \n",
      "9   RandomForest            LR      LR    0.264220       1.000000e+00   \n",
      "10  RandomForest        ALBERT  ALBERT  158.769726       2.941594e-35   \n",
      "11  RandomForest           GRU     GRU   54.864726       1.420295e-12   \n",
      "12            LR        ALBERT  ALBERT  148.526230       4.731998e-33   \n",
      "13            LR           GRU     GRU   43.948963       3.033457e-10   \n",
      "14        ALBERT           GRU  ALBERT   42.051522       7.111997e-10   \n",
      "\n",
      "   Significant  \n",
      "0          Yes  \n",
      "1          Yes  \n",
      "2          Yes  \n",
      "3          Yes  \n",
      "4          Yes  \n",
      "5           No  \n",
      "6           No  \n",
      "7          Yes  \n",
      "8          Yes  \n",
      "9           No  \n",
      "10         Yes  \n",
      "11         Yes  \n",
      "12         Yes  \n",
      "13         Yes  \n",
      "14         Yes  \n"
     ]
    },
    {
     "data": {
      "application/vnd.google.colaboratory.intrinsic+json": {
       "summary": "{\n  \"name\": \"run_mcnemar_test(y_test_1, model_preds)\",\n  \"rows\": 15,\n  \"fields\": [\n    {\n      \"column\": \"Model 1\",\n      \"properties\": {\n        \"dtype\": \"category\",\n        \"num_unique_values\": 5,\n        \"samples\": [\n          \"LGBM\",\n          \"ALBERT\",\n          \"RandomForest\"\n        ],\n        \"semantic_type\": \"\",\n        \"description\": \"\"\n      }\n    },\n    {\n      \"column\": \"Model 2\",\n      \"properties\": {\n        \"dtype\": \"category\",\n        \"num_unique_values\": 5,\n        \"samples\": [\n          \"RandomForest\",\n          \"GRU\",\n          \"LR\"\n        ],\n        \"semantic_type\": \"\",\n        \"description\": \"\"\n      }\n    },\n    {\n      \"column\": \"Statistic\",\n      \"properties\": {\n        \"dtype\": \"number\",\n        \"std\": 59.632168367670836,\n        \"min\": 0.00199203187250996,\n        \"max\": 159.5088028169014,\n        \"num_unique_values\": 15,\n        \"samples\": [\n          0.26422018348623855,\n          54.86472602739726,\n          6.752232142857143\n        ],\n        \"semantic_type\": \"\",\n        \"description\": \"\"\n      }\n    },\n    {\n      \"column\": \"p-value\",\n      \"properties\": {\n        \"dtype\": \"number\",\n        \"std\": 0.3006691038408429,\n        \"min\": 1.4486717953239897e-36,\n        \"max\": 0.964400488876858,\n        \"num_unique_values\": 15,\n        \"samples\": [\n          0.607235543774111,\n          1.291176862797398e-13,\n          0.00936304763753395\n        ],\n        \"semantic_type\": \"\",\n        \"description\": \"\"\n      }\n    },\n    {\n      \"column\": \"Winner\",\n      \"properties\": {\n        \"dtype\": \"category\",\n        \"num_unique_values\": 6,\n        \"samples\": [\n          \"SVM\",\n          \"ALBERT\",\n          \"LR\"\n        ],\n        \"semantic_type\": \"\",\n        \"description\": \"\"\n      }\n    },\n    {\n      \"column\": \"Corrected p-value\",\n      \"properties\": {\n        \"dtype\": \"number\",\n        \"std\": 0.412490224887219,\n        \"min\": 2.1730076929859846e-35,\n        \"max\": 1.0,\n        \"num_unique_values\": 13,\n        \"samples\": [\n          3.033457358575353e-10,\n          1.4202945490771379e-12,\n          0.0374521905501358\n        ],\n        \"semantic_type\": \"\",\n        \"description\": \"\"\n      }\n    },\n    {\n      \"column\": \"Significant\",\n      \"properties\": {\n        \"dtype\": \"category\",\n        \"num_unique_values\": 2,\n        \"samples\": [\n          \"No\",\n          \"Yes\"\n        ],\n        \"semantic_type\": \"\",\n        \"description\": \"\"\n      }\n    }\n  ]\n}",
       "type": "dataframe"
      },
      "text/html": [
       "\n",
       "  <div id=\"df-5650d6d5-bd8d-45e9-b276-c80f37832efa\" class=\"colab-df-container\">\n",
       "    <div>\n",
       "<style scoped>\n",
       "    .dataframe tbody tr th:only-of-type {\n",
       "        vertical-align: middle;\n",
       "    }\n",
       "\n",
       "    .dataframe tbody tr th {\n",
       "        vertical-align: top;\n",
       "    }\n",
       "\n",
       "    .dataframe thead th {\n",
       "        text-align: right;\n",
       "    }\n",
       "</style>\n",
       "<table border=\"1\" class=\"dataframe\">\n",
       "  <thead>\n",
       "    <tr style=\"text-align: right;\">\n",
       "      <th></th>\n",
       "      <th>Model 1</th>\n",
       "      <th>Model 2</th>\n",
       "      <th>Statistic</th>\n",
       "      <th>p-value</th>\n",
       "      <th>Winner</th>\n",
       "      <th>Corrected p-value</th>\n",
       "      <th>Significant</th>\n",
       "    </tr>\n",
       "  </thead>\n",
       "  <tbody>\n",
       "    <tr>\n",
       "      <th>0</th>\n",
       "      <td>SVM</td>\n",
       "      <td>LGBM</td>\n",
       "      <td>6.752232</td>\n",
       "      <td>9.363048e-03</td>\n",
       "      <td>SVM</td>\n",
       "      <td>3.745219e-02</td>\n",
       "      <td>Yes</td>\n",
       "    </tr>\n",
       "    <tr>\n",
       "      <th>1</th>\n",
       "      <td>SVM</td>\n",
       "      <td>RandomForest</td>\n",
       "      <td>9.734737</td>\n",
       "      <td>1.808179e-03</td>\n",
       "      <td>SVM</td>\n",
       "      <td>9.040895e-03</td>\n",
       "      <td>Yes</td>\n",
       "    </tr>\n",
       "    <tr>\n",
       "      <th>2</th>\n",
       "      <td>SVM</td>\n",
       "      <td>LR</td>\n",
       "      <td>13.267544</td>\n",
       "      <td>2.700408e-04</td>\n",
       "      <td>SVM</td>\n",
       "      <td>1.620245e-03</td>\n",
       "      <td>Yes</td>\n",
       "    </tr>\n",
       "    <tr>\n",
       "      <th>3</th>\n",
       "      <td>SVM</td>\n",
       "      <td>ALBERT</td>\n",
       "      <td>107.571685</td>\n",
       "      <td>3.336177e-25</td>\n",
       "      <td>ALBERT</td>\n",
       "      <td>4.003413e-24</td>\n",
       "      <td>Yes</td>\n",
       "    </tr>\n",
       "    <tr>\n",
       "      <th>4</th>\n",
       "      <td>SVM</td>\n",
       "      <td>GRU</td>\n",
       "      <td>21.043478</td>\n",
       "      <td>4.489784e-06</td>\n",
       "      <td>GRU</td>\n",
       "      <td>3.142849e-05</td>\n",
       "      <td>Yes</td>\n",
       "    </tr>\n",
       "    <tr>\n",
       "      <th>5</th>\n",
       "      <td>LGBM</td>\n",
       "      <td>RandomForest</td>\n",
       "      <td>0.437690</td>\n",
       "      <td>5.082395e-01</td>\n",
       "      <td>LGBM</td>\n",
       "      <td>1.000000e+00</td>\n",
       "      <td>No</td>\n",
       "    </tr>\n",
       "    <tr>\n",
       "      <th>6</th>\n",
       "      <td>LGBM</td>\n",
       "      <td>LR</td>\n",
       "      <td>0.001992</td>\n",
       "      <td>9.644005e-01</td>\n",
       "      <td>Tie</td>\n",
       "      <td>1.000000e+00</td>\n",
       "      <td>No</td>\n",
       "    </tr>\n",
       "    <tr>\n",
       "      <th>7</th>\n",
       "      <td>LGBM</td>\n",
       "      <td>ALBERT</td>\n",
       "      <td>159.508803</td>\n",
       "      <td>1.448672e-36</td>\n",
       "      <td>ALBERT</td>\n",
       "      <td>2.173008e-35</td>\n",
       "      <td>Yes</td>\n",
       "    </tr>\n",
       "    <tr>\n",
       "      <th>8</th>\n",
       "      <td>LGBM</td>\n",
       "      <td>GRU</td>\n",
       "      <td>49.650450</td>\n",
       "      <td>1.837279e-12</td>\n",
       "      <td>GRU</td>\n",
       "      <td>1.837279e-11</td>\n",
       "      <td>Yes</td>\n",
       "    </tr>\n",
       "    <tr>\n",
       "      <th>9</th>\n",
       "      <td>RandomForest</td>\n",
       "      <td>LR</td>\n",
       "      <td>0.264220</td>\n",
       "      <td>6.072355e-01</td>\n",
       "      <td>LR</td>\n",
       "      <td>1.000000e+00</td>\n",
       "      <td>No</td>\n",
       "    </tr>\n",
       "    <tr>\n",
       "      <th>10</th>\n",
       "      <td>RandomForest</td>\n",
       "      <td>ALBERT</td>\n",
       "      <td>158.769726</td>\n",
       "      <td>2.101138e-36</td>\n",
       "      <td>ALBERT</td>\n",
       "      <td>2.941594e-35</td>\n",
       "      <td>Yes</td>\n",
       "    </tr>\n",
       "    <tr>\n",
       "      <th>11</th>\n",
       "      <td>RandomForest</td>\n",
       "      <td>GRU</td>\n",
       "      <td>54.864726</td>\n",
       "      <td>1.291177e-13</td>\n",
       "      <td>GRU</td>\n",
       "      <td>1.420295e-12</td>\n",
       "      <td>Yes</td>\n",
       "    </tr>\n",
       "    <tr>\n",
       "      <th>12</th>\n",
       "      <td>LR</td>\n",
       "      <td>ALBERT</td>\n",
       "      <td>148.526230</td>\n",
       "      <td>3.639998e-34</td>\n",
       "      <td>ALBERT</td>\n",
       "      <td>4.731998e-33</td>\n",
       "      <td>Yes</td>\n",
       "    </tr>\n",
       "    <tr>\n",
       "      <th>13</th>\n",
       "      <td>LR</td>\n",
       "      <td>GRU</td>\n",
       "      <td>43.948963</td>\n",
       "      <td>3.370508e-11</td>\n",
       "      <td>GRU</td>\n",
       "      <td>3.033457e-10</td>\n",
       "      <td>Yes</td>\n",
       "    </tr>\n",
       "    <tr>\n",
       "      <th>14</th>\n",
       "      <td>ALBERT</td>\n",
       "      <td>GRU</td>\n",
       "      <td>42.051522</td>\n",
       "      <td>8.889996e-11</td>\n",
       "      <td>ALBERT</td>\n",
       "      <td>7.111997e-10</td>\n",
       "      <td>Yes</td>\n",
       "    </tr>\n",
       "  </tbody>\n",
       "</table>\n",
       "</div>\n",
       "    <div class=\"colab-df-buttons\">\n",
       "\n",
       "  <div class=\"colab-df-container\">\n",
       "    <button class=\"colab-df-convert\" onclick=\"convertToInteractive('df-5650d6d5-bd8d-45e9-b276-c80f37832efa')\"\n",
       "            title=\"Convert this dataframe to an interactive table.\"\n",
       "            style=\"display:none;\">\n",
       "\n",
       "  <svg xmlns=\"http://www.w3.org/2000/svg\" height=\"24px\" viewBox=\"0 -960 960 960\">\n",
       "    <path d=\"M120-120v-720h720v720H120Zm60-500h600v-160H180v160Zm220 220h160v-160H400v160Zm0 220h160v-160H400v160ZM180-400h160v-160H180v160Zm440 0h160v-160H620v160ZM180-180h160v-160H180v160Zm440 0h160v-160H620v160Z\"/>\n",
       "  </svg>\n",
       "    </button>\n",
       "\n",
       "  <style>\n",
       "    .colab-df-container {\n",
       "      display:flex;\n",
       "      gap: 12px;\n",
       "    }\n",
       "\n",
       "    .colab-df-convert {\n",
       "      background-color: #E8F0FE;\n",
       "      border: none;\n",
       "      border-radius: 50%;\n",
       "      cursor: pointer;\n",
       "      display: none;\n",
       "      fill: #1967D2;\n",
       "      height: 32px;\n",
       "      padding: 0 0 0 0;\n",
       "      width: 32px;\n",
       "    }\n",
       "\n",
       "    .colab-df-convert:hover {\n",
       "      background-color: #E2EBFA;\n",
       "      box-shadow: 0px 1px 2px rgba(60, 64, 67, 0.3), 0px 1px 3px 1px rgba(60, 64, 67, 0.15);\n",
       "      fill: #174EA6;\n",
       "    }\n",
       "\n",
       "    .colab-df-buttons div {\n",
       "      margin-bottom: 4px;\n",
       "    }\n",
       "\n",
       "    [theme=dark] .colab-df-convert {\n",
       "      background-color: #3B4455;\n",
       "      fill: #D2E3FC;\n",
       "    }\n",
       "\n",
       "    [theme=dark] .colab-df-convert:hover {\n",
       "      background-color: #434B5C;\n",
       "      box-shadow: 0px 1px 3px 1px rgba(0, 0, 0, 0.15);\n",
       "      filter: drop-shadow(0px 1px 2px rgba(0, 0, 0, 0.3));\n",
       "      fill: #FFFFFF;\n",
       "    }\n",
       "  </style>\n",
       "\n",
       "    <script>\n",
       "      const buttonEl =\n",
       "        document.querySelector('#df-5650d6d5-bd8d-45e9-b276-c80f37832efa button.colab-df-convert');\n",
       "      buttonEl.style.display =\n",
       "        google.colab.kernel.accessAllowed ? 'block' : 'none';\n",
       "\n",
       "      async function convertToInteractive(key) {\n",
       "        const element = document.querySelector('#df-5650d6d5-bd8d-45e9-b276-c80f37832efa');\n",
       "        const dataTable =\n",
       "          await google.colab.kernel.invokeFunction('convertToInteractive',\n",
       "                                                    [key], {});\n",
       "        if (!dataTable) return;\n",
       "\n",
       "        const docLinkHtml = 'Like what you see? Visit the ' +\n",
       "          '<a target=\"_blank\" href=https://colab.research.google.com/notebooks/data_table.ipynb>data table notebook</a>'\n",
       "          + ' to learn more about interactive tables.';\n",
       "        element.innerHTML = '';\n",
       "        dataTable['output_type'] = 'display_data';\n",
       "        await google.colab.output.renderOutput(dataTable, element);\n",
       "        const docLink = document.createElement('div');\n",
       "        docLink.innerHTML = docLinkHtml;\n",
       "        element.appendChild(docLink);\n",
       "      }\n",
       "    </script>\n",
       "  </div>\n",
       "\n",
       "\n",
       "<div id=\"df-e55a0ede-9d4e-4b21-b7c5-581a341184f7\">\n",
       "  <button class=\"colab-df-quickchart\" onclick=\"quickchart('df-e55a0ede-9d4e-4b21-b7c5-581a341184f7')\"\n",
       "            title=\"Suggest charts\"\n",
       "            style=\"display:none;\">\n",
       "\n",
       "<svg xmlns=\"http://www.w3.org/2000/svg\" height=\"24px\"viewBox=\"0 0 24 24\"\n",
       "     width=\"24px\">\n",
       "    <g>\n",
       "        <path d=\"M19 3H5c-1.1 0-2 .9-2 2v14c0 1.1.9 2 2 2h14c1.1 0 2-.9 2-2V5c0-1.1-.9-2-2-2zM9 17H7v-7h2v7zm4 0h-2V7h2v10zm4 0h-2v-4h2v4z\"/>\n",
       "    </g>\n",
       "</svg>\n",
       "  </button>\n",
       "\n",
       "<style>\n",
       "  .colab-df-quickchart {\n",
       "      --bg-color: #E8F0FE;\n",
       "      --fill-color: #1967D2;\n",
       "      --hover-bg-color: #E2EBFA;\n",
       "      --hover-fill-color: #174EA6;\n",
       "      --disabled-fill-color: #AAA;\n",
       "      --disabled-bg-color: #DDD;\n",
       "  }\n",
       "\n",
       "  [theme=dark] .colab-df-quickchart {\n",
       "      --bg-color: #3B4455;\n",
       "      --fill-color: #D2E3FC;\n",
       "      --hover-bg-color: #434B5C;\n",
       "      --hover-fill-color: #FFFFFF;\n",
       "      --disabled-bg-color: #3B4455;\n",
       "      --disabled-fill-color: #666;\n",
       "  }\n",
       "\n",
       "  .colab-df-quickchart {\n",
       "    background-color: var(--bg-color);\n",
       "    border: none;\n",
       "    border-radius: 50%;\n",
       "    cursor: pointer;\n",
       "    display: none;\n",
       "    fill: var(--fill-color);\n",
       "    height: 32px;\n",
       "    padding: 0;\n",
       "    width: 32px;\n",
       "  }\n",
       "\n",
       "  .colab-df-quickchart:hover {\n",
       "    background-color: var(--hover-bg-color);\n",
       "    box-shadow: 0 1px 2px rgba(60, 64, 67, 0.3), 0 1px 3px 1px rgba(60, 64, 67, 0.15);\n",
       "    fill: var(--button-hover-fill-color);\n",
       "  }\n",
       "\n",
       "  .colab-df-quickchart-complete:disabled,\n",
       "  .colab-df-quickchart-complete:disabled:hover {\n",
       "    background-color: var(--disabled-bg-color);\n",
       "    fill: var(--disabled-fill-color);\n",
       "    box-shadow: none;\n",
       "  }\n",
       "\n",
       "  .colab-df-spinner {\n",
       "    border: 2px solid var(--fill-color);\n",
       "    border-color: transparent;\n",
       "    border-bottom-color: var(--fill-color);\n",
       "    animation:\n",
       "      spin 1s steps(1) infinite;\n",
       "  }\n",
       "\n",
       "  @keyframes spin {\n",
       "    0% {\n",
       "      border-color: transparent;\n",
       "      border-bottom-color: var(--fill-color);\n",
       "      border-left-color: var(--fill-color);\n",
       "    }\n",
       "    20% {\n",
       "      border-color: transparent;\n",
       "      border-left-color: var(--fill-color);\n",
       "      border-top-color: var(--fill-color);\n",
       "    }\n",
       "    30% {\n",
       "      border-color: transparent;\n",
       "      border-left-color: var(--fill-color);\n",
       "      border-top-color: var(--fill-color);\n",
       "      border-right-color: var(--fill-color);\n",
       "    }\n",
       "    40% {\n",
       "      border-color: transparent;\n",
       "      border-right-color: var(--fill-color);\n",
       "      border-top-color: var(--fill-color);\n",
       "    }\n",
       "    60% {\n",
       "      border-color: transparent;\n",
       "      border-right-color: var(--fill-color);\n",
       "    }\n",
       "    80% {\n",
       "      border-color: transparent;\n",
       "      border-right-color: var(--fill-color);\n",
       "      border-bottom-color: var(--fill-color);\n",
       "    }\n",
       "    90% {\n",
       "      border-color: transparent;\n",
       "      border-bottom-color: var(--fill-color);\n",
       "    }\n",
       "  }\n",
       "</style>\n",
       "\n",
       "  <script>\n",
       "    async function quickchart(key) {\n",
       "      const quickchartButtonEl =\n",
       "        document.querySelector('#' + key + ' button');\n",
       "      quickchartButtonEl.disabled = true;  // To prevent multiple clicks.\n",
       "      quickchartButtonEl.classList.add('colab-df-spinner');\n",
       "      try {\n",
       "        const charts = await google.colab.kernel.invokeFunction(\n",
       "            'suggestCharts', [key], {});\n",
       "      } catch (error) {\n",
       "        console.error('Error during call to suggestCharts:', error);\n",
       "      }\n",
       "      quickchartButtonEl.classList.remove('colab-df-spinner');\n",
       "      quickchartButtonEl.classList.add('colab-df-quickchart-complete');\n",
       "    }\n",
       "    (() => {\n",
       "      let quickchartButtonEl =\n",
       "        document.querySelector('#df-e55a0ede-9d4e-4b21-b7c5-581a341184f7 button');\n",
       "      quickchartButtonEl.style.display =\n",
       "        google.colab.kernel.accessAllowed ? 'block' : 'none';\n",
       "    })();\n",
       "  </script>\n",
       "</div>\n",
       "\n",
       "    </div>\n",
       "  </div>\n"
      ],
      "text/plain": [
       "         Model 1       Model 2   Statistic       p-value  Winner  \\\n",
       "0            SVM          LGBM    6.752232  9.363048e-03     SVM   \n",
       "1            SVM  RandomForest    9.734737  1.808179e-03     SVM   \n",
       "2            SVM            LR   13.267544  2.700408e-04     SVM   \n",
       "3            SVM        ALBERT  107.571685  3.336177e-25  ALBERT   \n",
       "4            SVM           GRU   21.043478  4.489784e-06     GRU   \n",
       "5           LGBM  RandomForest    0.437690  5.082395e-01    LGBM   \n",
       "6           LGBM            LR    0.001992  9.644005e-01     Tie   \n",
       "7           LGBM        ALBERT  159.508803  1.448672e-36  ALBERT   \n",
       "8           LGBM           GRU   49.650450  1.837279e-12     GRU   \n",
       "9   RandomForest            LR    0.264220  6.072355e-01      LR   \n",
       "10  RandomForest        ALBERT  158.769726  2.101138e-36  ALBERT   \n",
       "11  RandomForest           GRU   54.864726  1.291177e-13     GRU   \n",
       "12            LR        ALBERT  148.526230  3.639998e-34  ALBERT   \n",
       "13            LR           GRU   43.948963  3.370508e-11     GRU   \n",
       "14        ALBERT           GRU   42.051522  8.889996e-11  ALBERT   \n",
       "\n",
       "    Corrected p-value Significant  \n",
       "0        3.745219e-02         Yes  \n",
       "1        9.040895e-03         Yes  \n",
       "2        1.620245e-03         Yes  \n",
       "3        4.003413e-24         Yes  \n",
       "4        3.142849e-05         Yes  \n",
       "5        1.000000e+00          No  \n",
       "6        1.000000e+00          No  \n",
       "7        2.173008e-35         Yes  \n",
       "8        1.837279e-11         Yes  \n",
       "9        1.000000e+00          No  \n",
       "10       2.941594e-35         Yes  \n",
       "11       1.420295e-12         Yes  \n",
       "12       4.731998e-33         Yes  \n",
       "13       3.033457e-10         Yes  \n",
       "14       7.111997e-10         Yes  "
      ]
     },
     "execution_count": 64,
     "metadata": {},
     "output_type": "execute_result"
    }
   ],
   "source": [
    "from statsmodels.stats.contingency_tables import mcnemar\n",
    "import numpy as np\n",
    "from itertools import combinations\n",
    "\n",
    "def run_mcnemar_test(y_true, model_preds, method='holm'):\n",
    "    \"\"\"\n",
    "    Perform pairwise McNemar's test for all model combinations.\n",
    "\n",
    "    Parameters:\n",
    "        y_true (np.ndarray): True labels\n",
    "        model_preds (dict): Dictionary with model names as keys and model predictions as values\n",
    "        method (str): p-value correction method (e.g., 'holm', 'bonferroni')\n",
    "\n",
    "    Returns:\n",
    "        pd.DataFrame: Results table\n",
    "    \"\"\"\n",
    "    assert all(len(y_true) == len(preds) for preds in model_preds.values()), \"All predictions must match y_true length.\"\n",
    "\n",
    "    results = []\n",
    "    model_names = list(model_preds.keys())\n",
    "\n",
    "    # Run pairwise McNemar tests\n",
    "    for m1, m2 in combinations(model_names, 2):\n",
    "        y_pred_1, y_pred_2 = model_preds[m1], model_preds[m2]\n",
    "\n",
    "        # Create contingency table\n",
    "        both_correct = np.sum((y_pred_1 == y_true) & (y_pred_2 == y_true))\n",
    "        model1_correct = np.sum((y_pred_1 == y_true) & (y_pred_2 != y_true))\n",
    "        model2_correct = np.sum((y_pred_1 != y_true) & (y_pred_2 == y_true))\n",
    "        both_wrong = np.sum((y_pred_1 != y_true) & (y_pred_2 != y_true))\n",
    "\n",
    "        table = [[both_correct, model2_correct],\n",
    "                 [model1_correct, both_wrong]]\n",
    "\n",
    "        result = mcnemar(table, exact=False, correction=True)\n",
    "\n",
    "        # Store results\n",
    "        results.append({\n",
    "            \"Model 1\": m1,\n",
    "            \"Model 2\": m2,\n",
    "            \"Statistic\": result.statistic,\n",
    "            \"p-value\": result.pvalue,\n",
    "            \"Winner\": m1 if model1_correct > model2_correct else (m2 if model2_correct > model1_correct else \"Tie\")\n",
    "        })\n",
    "\n",
    "    # Correct for multiple testing\n",
    "    raw_pvals = [r[\"p-value\"] for r in results]\n",
    "    from statsmodels.stats.multitest import multipletests\n",
    "    _, corrected_pvals, _, _ = multipletests(raw_pvals, method=method)\n",
    "\n",
    "    for i, p_corr in enumerate(corrected_pvals):\n",
    "        results[i][\"Corrected p-value\"] = p_corr\n",
    "        results[i][\"Significant\"] = \"Yes\" if p_corr < 0.05 else \"No\"\n",
    "\n",
    "    # Print results\n",
    "    import pandas as pd\n",
    "    df_results = pd.DataFrame(results)\n",
    "    print(\"\\n📊 Pairwise McNemar's Test Results (corrected using '{}'):\\n\".format(method))\n",
    "    print(df_results[[\"Model 1\", \"Model 2\", \"Winner\", \"Statistic\", \"Corrected p-value\", \"Significant\"]])\n",
    "\n",
    "    return df_results\n",
    "  # Assume you have predictions from multiple models\n",
    "model_preds = {\n",
    "    \"SVM\": SVM_preds,\n",
    "    \"LGBM\": LGBM_preds,\n",
    "    \"RandomForest\": RandomForest_preds,\n",
    "    \"LR\":LR_preds,\n",
    "   \"ALBERT\": np.array(test_predictions_albert),\n",
    "   \"GRU\": np.array(test_predictions),\n",
    "}\n",
    "\n",
    "# y_test_1 is the ground truth\n",
    "run_mcnemar_test(y_test_1, model_preds)\n",
    "\n"
   ]
  }
 ],
 "metadata": {
  "colab": {
   "provenance": []
  },
  "kernelspec": {
   "display_name": "Python 3",
   "name": "python3"
  },
  "language_info": {
   "name": "python"
  }
 },
 "nbformat": 4,
 "nbformat_minor": 0
}
